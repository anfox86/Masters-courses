{
 "cells": [
  {
   "cell_type": "code",
   "execution_count": 21,
   "metadata": {},
   "outputs": [
    {
     "data": {
      "image/png": "[encoded data removed]",
      "text/plain": [
       "<Figure size 432x288 with 1 Axes>"
      ]
     },
     "metadata": {
      "needs_background": "light"
     },
     "output_type": "display_data"
    },
    {
     "name": "stdout",
     "output_type": "stream",
     "text": [
      "Mean\n",
      "First babies 7.201094430437772\n",
      "Others 7.325855614973262\n",
      "Variance\n",
      "First babies 2.0180273009157768\n",
      "Others 1.9437810258964572\n",
      "Difference in lbs -0.12476118453549034\n",
      "Difference in oz -1.9961789525678455\n",
      "Difference relative to mean (%age points) -1.7171423678372415\n",
      "Cohen d -0.088672927072602\n",
      "Mode of preg length 39\n",
      "39 4693\n",
      "40 1116\n",
      "38 607\n",
      "41 587\n",
      "37 455\n"
     ]
    },
    {
     "data": {
      "image/png": "[encoded data removed]",
      "text/plain": [
       "<Figure size 576x432 with 1 Axes>"
      ]
     },
     "metadata": {
      "needs_background": "light"
     },
     "output_type": "display_data"
    }
   ],
   "source": [
    "\"\"\"This file contains code for use with \"Think Stats\",\n",
    "by Allen B. Downey, available from greenteapress.com\n",
    "Copyright 2014 Allen B. Downey\n",
    "License: GNU GPLv3 http://www.gnu.org/licenses/gpl.html\n",
    "\"\"\"\n",
    "from __future__ import print_function\n",
    "\n",
    "import sys\n",
    "from operator import itemgetter\n",
    "import nsfg\n",
    "import thinkplot\n",
    "import first\n",
    "import thinkstats2\n",
    "\n",
    "#Working through code snippets from the reading in Chapter 2. This will help me answer 2-1.\n",
    "#Creates histogram for birthweight in pounds\n",
    "preg = nsfg.ReadFemPreg()\n",
    "live = preg[preg.outcome == 1]\n",
    "hist = thinkstats2.Hist(live.birthwgt_lb, label = 'birthwgt_lb')\n",
    "thinkplot.Hist(hist)\n",
    "thinkplot.Show(xlabel='pounds', ylabel='frequency')\n",
    "\n",
    "#Creates histogram of pregnancy counts in weeks for both first born and then the 'everything else'\n",
    "firsts = live[live.birthord == 1]\n",
    "others = live[live.birthord != 1]\n",
    "\n",
    "first_hist = thinkstats2.Hist(firsts.prglngth, label='first')\n",
    "other_hist = thinkstats2.Hist(others.prglngth, label='other')\n",
    "width = 0.45\n",
    "thinkplot.PrePlot(2)\n",
    "thinkplot.Hist(first_hist, align='right', width=width)\n",
    "thinkplot.Hist(other_hist, align='left', width=width)\n",
    "thinkplot.Config(xlabel='weeks', ylabel='Count', xlim=[27, 46])\n",
    "\n",
    "#Finding mean and standard deviation\n",
    "mean = live.prglngth.mean()\n",
    "var = live.prglngth.var()\n",
    "std = live.prglngth.std()\n",
    "mean, std\n",
    "\n",
    "#2-1 Summarize what was learned regarding whether first born babies arrive late\n",
    "#From what I've found looking through the data in this chapter and then providing some visual examples that Downey walks us through, the average length of pregnancy is 39 weeks, which is considered on time. Even took this a step further and provided a visualization of average length of pregnancy for both first born and all the others, and again the largest numbers were considered on time, with only a small tail to the right indicating late births. \n",
    "#If I wanted to get a stosry on the evening news I would most likely use the summary statistics of modes and spread. Modes would be able to show if there are more than one cluster point, which makes a good news story and could address believers on both sides of the argument. Spread is going to show the variability, which again could be good for both sides of the argument. For a stressed out mother I woudl most likely show her central tendency and tails. The central tendancy is going to show her the largest cluster of numbers, which in this case shows babies being born on time. Tails will show that there is not a large tail to the right indicating late births.\n",
    "#Today I want to answer \"Do first babies arrive late.\" One of the first steps taken to find out whether first babies arrive late is to put it into a visualization. The second graph shows us a large peak for both first and other preganancies right between the 37-41 weeks mark. This means the majority of our pregnancy lengths are on time. The mean pregnancy length is 38.6 weeks with a standard deviation of about 2.7. This means there could be up to a 3 week difference that wouldn't be out of the ordinary. Something that does need to be taken into consideration is this is only a sampling of data, so these numbers only indicate answers fors this population. However, based on the data at hand I can confidentlly say that first born babies on average are not late. \n",
    "\n",
    "#2-4 Using variable totalwgt_lb, investigate whether first babies are lighter or heavier than others. \n",
    "#Created function for Mode\n",
    "def Mode(hist):\n",
    "    p, x = max([(p, x) for x, p in hist.Items()])\n",
    "    return x\n",
    "\n",
    "#Created function for All Modes\n",
    "def AllModes(hist):\n",
    "    return sorted(hist.Items(), key=itemgetter(1), reverse=True)\n",
    "\n",
    "def WeightDifference(live, firsts, others):\n",
    "    #Setting variable for mean for live births, first births, and all other births\n",
    "    mean0 = live.totalwgt_lb.mean()\n",
    "    mean1 = firsts.totalwgt_lb.mean()\n",
    "    mean2 = others.totalwgt_lb.mean()\n",
    "    #Setting variable for variance for first birth weight and other birth weight\n",
    "    var1 = firsts.totalwgt_lb.var()\n",
    "    var2 = others.totalwgt_lb.var()\n",
    "    #Printing the means\n",
    "    print('Mean')\n",
    "    print('First babies', mean1)\n",
    "    print('Others', mean2)\n",
    "    #Printing the variance\n",
    "    print('Variance')\n",
    "    print('First babies', var1)\n",
    "    print('Others', var2)\n",
    "    #Printing the difference in mean for both pounds and ounces\n",
    "    print('Difference in lbs', mean1 - mean2)\n",
    "    print('Difference in oz', (mean1 - mean2) * 16)\n",
    "\n",
    "    print('Difference relative to mean (%age points)', \n",
    "          (mean1 - mean2) / mean0 * 100)\n",
    "    #Cohen's d - this quantifies the difference between the groups\n",
    "    d = thinkstats2.CohenEffectSize(firsts.totalwgt_lb, others.totalwgt_lb)\n",
    "    print('Cohen d', d)\n",
    "\n",
    "\n",
    "def main():\n",
    "    live, firsts, others = first.MakeFrames()\n",
    "    hist = thinkstats2.Hist(live.prglngth)\n",
    "\n",
    "    # explore the weight difference between firstborn babies and others\n",
    "    WeightDifference(live, firsts, others)\n",
    "\n",
    "    # test Mode    \n",
    "    mode = Mode(hist)\n",
    "    print('Mode of preg length', mode)\n",
    "    assert(mode == 39)\n",
    "\n",
    "    # test AllModes\n",
    "    modes = AllModes(hist)\n",
    "    assert(modes[0][1] == 4693)\n",
    "\n",
    "    for value, freq in modes[:5]:\n",
    "        print(value, freq)\n",
    "\n",
    "if __name__ == '__main__':\n",
    "    main()\n",
    "\n",
    "\n"
   ]
  },
  {
   "cell_type": "code",
   "execution_count": null,
   "metadata": {},
   "outputs": [],
   "source": []
  }
 ],
 "metadata": {
  "kernelspec": {
   "display_name": "Python 3",
   "language": "python",
   "name": "python3"
  },
  "language_info": {
   "codemirror_mode": {
    "name": "ipython",
    "version": 3
   },
   "file_extension": ".py",
   "mimetype": "text/x-python",
   "name": "python",
   "nbconvert_exporter": "python",
   "pygments_lexer": "ipython3",
   "version": "3.7.4"
  }
 },
 "nbformat": 4,
 "nbformat_minor": 2
}
