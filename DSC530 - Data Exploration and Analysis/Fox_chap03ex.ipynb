{
 "cells": [
  {
   "cell_type": "code",
   "execution_count": 62,
   "metadata": {},
   "outputs": [
    {
     "name": "stdout",
     "output_type": "stream",
     "text": [
      "Pmf({0: 0.466178202276593, 1: 0.21405207379301322, 2: 0.19625801386889966, 3: 0.08713855815779145, 4: 0.025644380478869556, 5: 0.01072877142483318})\n",
      "mean 1.024205155043831\n",
      "Actual mean 1.024205155043831\n",
      "Observed mean 2.403679100664282\n",
      "Mean through PMF is :  1.024205155043831\n"
     ]
    },
    {
     "data": {
      "text/plain": [
       "1.0489961996183577"
      ]
     },
     "execution_count": 62,
     "metadata": {},
     "output_type": "execute_result"
    },
    {
     "data": {
      "image/png": "[encoded data removed]",
      "text/plain": [
       "<Figure size 432x288 with 1 Axes>"
      ]
     },
     "metadata": {
      "needs_background": "light"
     },
     "output_type": "display_data"
    }
   ],
   "source": [
    "from __future__ import print_function, division\n",
    "\n",
    "%matplotlib inline\n",
    "\n",
    "import numpy as np\n",
    "\n",
    "import nsfg\n",
    "import first\n",
    "import thinkstats2\n",
    "import thinkplot\n",
    "\n",
    "#Load NSFG Response file\n",
    "df = nsfg.ReadFemResp()\n",
    "\n",
    "#3-1 Constructed actual distribution\n",
    "numkdhh = df['numkdhh']\n",
    "d = thinkstats2.Pmf(numkdhh)\n",
    "print(d)\n",
    "\n",
    "#3-1 Compute biased distribution\n",
    "pmf = thinkstats2.Pmf(d, label = 'actual')\n",
    "print('mean', pmf.Mean())\n",
    "\n",
    "biased_pmf = BiasPmf(pmf, label='observed')\n",
    "thinkplot.PrePlot(2)\n",
    "thinkplot.Pmfs([pmf, biased_pmf])\n",
    "thinkplot.Config(xlabel='Number of Children', ylabel='PMF')\n",
    "\n",
    "print('Actual mean', pmf.Mean())\n",
    "print('Observed mean', biased_pmf.Mean())\n",
    "\n",
    "#3-2  Construct function called PmfMean\n",
    "def PmfMean():\n",
    "    sum = 0\n",
    "    for key, value in pmf.Items():\n",
    "        mult = key*value\n",
    "        sum += mult\n",
    "    print(\"Mean through PMF is : \", sum)\n",
    "    \n",
    "PmfMean()\n",
    "\n",
    "#3-2 Construct function called PmfVar\n",
    "def PmfVar():\n",
    "    mu = pmf.Mean()\n",
    "    var = 0.0\n",
    "    for key, value in pmf.Items():\n",
    "        var += value *(-mu)**2\n",
    "    return var\n",
    "\n",
    "PmfVar()\n",
    "    "
   ]
  },
  {
   "cell_type": "code",
   "execution_count": null,
   "metadata": {},
   "outputs": [],
   "source": []
  }
 ],
 "metadata": {
  "kernelspec": {
   "display_name": "Python 3",
   "language": "python",
   "name": "python3"
  },
  "language_info": {
   "codemirror_mode": {
    "name": "ipython",
    "version": 3
   },
   "file_extension": ".py",
   "mimetype": "text/x-python",
   "name": "python",
   "nbconvert_exporter": "python",
   "pygments_lexer": "ipython3",
   "version": "3.7.4"
  }
 },
 "nbformat": 4,
 "nbformat_minor": 2
}
