{
 "cells": [
  {
   "cell_type": "code",
   "execution_count": 1,
   "metadata": {},
   "outputs": [
    {
     "data": {
      "text/plain": [
       "(0.48963902786483265, 0.8317337108107857, 0.3420946829459531)"
      ]
     },
     "execution_count": 1,
     "metadata": {},
     "output_type": "execute_result"
    }
   ],
   "source": [
    "from __future__ import print_function, division\n",
    "\n",
    "%matplotlib inline\n",
    "\n",
    "import numpy as np\n",
    "\n",
    "import nsfg\n",
    "import first\n",
    "import analytic\n",
    "\n",
    "import thinkstats2\n",
    "import thinkplot\n",
    "#5-1 Lognormal distribution\n",
    "#importing files needed\n",
    "import scipy.stats\n",
    "import brfss\n",
    "#Looking at normal distribution for men\n",
    "mu = 178\n",
    "sigma = 7.7\n",
    "dist = scipy.stats.norm(loc=mu, scale=sigma)\n",
    "type(dist)\n",
    "dist.mean(), dist.std()\n",
    "#Calculating CDF\n",
    "dist.cdf(mu-sigma)\n",
    "#How many people between 5'10'' and 6'1''\n",
    "low = dist.cdf(177.8)    # 5'10\"\n",
    "high = dist.cdf(185.4)   # 6'1\"\n",
    "low, high, high-low\n",
    "\n"
   ]
  },
  {
   "cell_type": "code",
   "execution_count": 2,
   "metadata": {},
   "outputs": [
    {
     "data": {
      "text/plain": [
       "55602.976430479954"
      ]
     },
     "execution_count": 2,
     "metadata": {},
     "output_type": "execute_result"
    }
   ],
   "source": [
    "#5-2 Pareto distribution\n",
    "#Height is represented in meters. This also allows us to find median.\n",
    "alpha = 1.7\n",
    "xmin = 1       \n",
    "dist = scipy.stats.pareto(b=alpha, scale=xmin)\n",
    "dist.median()\n",
    "#Finding mean\n",
    "dist.mean()\n",
    "#Finding the number of people smaller than the mean\n",
    "dist.cdf(dist.mean())\n",
    "#Finding the tallest person\n",
    "(1 - dist.cdf(1000)) * 7e9"
   ]
  }
 ],
 "metadata": {
  "kernelspec": {
   "display_name": "Python 3",
   "language": "python",
   "name": "python3"
  },
  "language_info": {
   "codemirror_mode": {
    "name": "ipython",
    "version": 3
   },
   "file_extension": ".py",
   "mimetype": "text/x-python",
   "name": "python",
   "nbconvert_exporter": "python",
   "pygments_lexer": "ipython3",
   "version": "3.7.4"
  }
 },
 "nbformat": 4,
 "nbformat_minor": 2
}
