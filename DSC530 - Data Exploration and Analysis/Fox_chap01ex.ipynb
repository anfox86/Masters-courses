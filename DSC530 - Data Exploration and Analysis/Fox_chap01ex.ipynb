{
 "cells": [
  {
   "cell_type": "code",
   "execution_count": 12,
   "metadata": {},
   "outputs": [
    {
     "name": "stdout",
     "output_type": "stream",
     "text": [
      "0     2610\n",
      "1     1267\n",
      "2     1432\n",
      "3     1110\n",
      "4      611\n",
      "5      305\n",
      "6      150\n",
      "7       80\n",
      "8       40\n",
      "9       21\n",
      "10       9\n",
      "11       3\n",
      "12       2\n",
      "14       2\n",
      "19       1\n",
      "Name: pregnum, dtype: int64\n"
     ]
    }
   ],
   "source": [
    "\"\"\"This file contains code for use with \"Think Stats\",\n",
    "by Allen B. Downey, available from greenteapress.com\n",
    "Copyright 2014 Allen B. Downey\n",
    "License: GNU GPLv3 http://www.gnu.org/licenses/gpl.html\n",
    "\"\"\"\n",
    "from __future__ import print_function\n",
    "import numpy as np\n",
    "import sys\n",
    "import nsfg\n",
    "import thinkstats2\n",
    "\n",
    "\n",
    "def main():\n",
    "    #Created a dataframe from the FemResp file\n",
    "    mydf = nsfg.ReadFemResp()\n",
    "    #Looking at Pregnum variable at the counts, then sorted in order of largest to smallest\n",
    "    pregnum_index = mydf.pregnum.value_counts().sort_index()\n",
    "    print(pregnum_index)\n",
    "    #Compare pregnum_index to codebook\n",
    "    assert(pregnum_index[0] == 2610)\n",
    "    assert(pregnum_index[1] == 1267)\n",
    "    assert(pregnum_index[2] == 1432)\n",
    "    assert(pregnum_index[3] == 1110)\n",
    "    assert(pregnum_index[4] == 611)\n",
    "    assert(pregnum_index[5] == 305)\n",
    "    assert(pregnum_index[6] == 150)\n",
    "main()\n",
    "\n",
    "\n",
    "\n",
    "\n",
    "\n",
    "\n",
    "            \n",
    "\n"
   ]
  },
  {
   "cell_type": "code",
   "execution_count": null,
   "metadata": {},
   "outputs": [],
   "source": []
  }
 ],
 "metadata": {
  "kernelspec": {
   "display_name": "Python 3",
   "language": "python",
   "name": "python3"
  },
  "language_info": {
   "codemirror_mode": {
    "name": "ipython",
    "version": 3
   },
   "file_extension": ".py",
   "mimetype": "text/x-python",
   "name": "python",
   "nbconvert_exporter": "python",
   "pygments_lexer": "ipython3",
   "version": "3.7.4"
  }
 },
 "nbformat": 4,
 "nbformat_minor": 2
}
