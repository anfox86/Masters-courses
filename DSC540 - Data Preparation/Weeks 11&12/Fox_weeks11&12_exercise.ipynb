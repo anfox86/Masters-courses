{
 "cells": [
  {
   "cell_type": "code",
   "execution_count": 1,
   "metadata": {},
   "outputs": [],
   "source": [
    "import sqlite3"
   ]
  },
  {
   "cell_type": "markdown",
   "metadata": {},
   "source": [
    "# Data Wrangling with Python: Activity 11, page 320"
   ]
  },
  {
   "cell_type": "code",
   "execution_count": 2,
   "metadata": {},
   "outputs": [],
   "source": [
    "#Step 1 - Connect to petsDB and check whether the connection has been succssful\n",
    "conn = sqlite3.connect(\"petsdb\") #setting up the connection"
   ]
  },
  {
   "cell_type": "code",
   "execution_count": 3,
   "metadata": {},
   "outputs": [],
   "source": [
    "def is_opened(conn):\n",
    "    try:\n",
    "        conn.execute(\"SELECT * FROM persons LIMIT 1\")\n",
    "        return True\n",
    "    except sqlite3.ProgrammingError as e:\n",
    "        print(\"Connection closed {}\".format(e))\n",
    "        return False\n",
    "#Used solution code here. Tried a few different ways to do this after searching on Google a bit but couldn't find exactly what I needed"
   ]
  },
  {
   "cell_type": "code",
   "execution_count": 4,
   "metadata": {},
   "outputs": [
    {
     "name": "stdout",
     "output_type": "stream",
     "text": [
      "True\n"
     ]
    }
   ],
   "source": [
    "print(is_opened(conn))"
   ]
  },
  {
   "cell_type": "code",
   "execution_count": 5,
   "metadata": {},
   "outputs": [],
   "source": [
    "conn.close() #Book says it's important to close connection. "
   ]
  },
  {
   "cell_type": "code",
   "execution_count": 6,
   "metadata": {},
   "outputs": [
    {
     "name": "stdout",
     "output_type": "stream",
     "text": [
      "Connection closed Cannot operate on a closed database.\n",
      "False\n"
     ]
    }
   ],
   "source": [
    "print(is_opened(conn)) #Considering this negative testing. Want to make sure that once my connection is closed I receive the error expected"
   ]
  },
  {
   "cell_type": "code",
   "execution_count": 7,
   "metadata": {},
   "outputs": [],
   "source": [
    "#Step 2 - Find the different age groups in the persons database\n",
    "conn = sqlite3.connect(\"petsdb\") #Since I closed above I need to re-connect to pets"
   ]
  },
  {
   "cell_type": "code",
   "execution_count": 8,
   "metadata": {},
   "outputs": [],
   "source": [
    "c = conn.cursor() #Creating cursor. This acts as a medium to communicate with the database"
   ]
  },
  {
   "cell_type": "code",
   "execution_count": 10,
   "metadata": {},
   "outputs": [
    {
     "name": "stdout",
     "output_type": "stream",
     "text": [
      "There are 2 people aged 5\n",
      "There are 1 people aged 6\n",
      "There are 1 people aged 7\n",
      "There are 3 people aged 8\n",
      "There are 1 people aged 9\n",
      "There are 2 people aged 11\n",
      "There are 3 people aged 12\n",
      "There are 1 people aged 13\n",
      "There are 4 people aged 14\n",
      "There are 2 people aged 16\n",
      "There are 2 people aged 17\n",
      "There are 3 people aged 18\n",
      "There are 1 people aged 19\n",
      "There are 3 people aged 22\n",
      "There are 2 people aged 23\n",
      "There are 3 people aged 24\n",
      "There are 2 people aged 25\n",
      "There are 1 people aged 27\n",
      "There are 1 people aged 30\n",
      "There are 3 people aged 31\n",
      "There are 1 people aged 32\n",
      "There are 1 people aged 33\n",
      "There are 2 people aged 34\n",
      "There are 3 people aged 35\n",
      "There are 3 people aged 36\n",
      "There are 1 people aged 37\n",
      "There are 2 people aged 39\n",
      "There are 1 people aged 40\n",
      "There are 1 people aged 42\n",
      "There are 2 people aged 44\n",
      "There are 2 people aged 48\n",
      "There are 1 people aged 49\n",
      "There are 1 people aged 50\n",
      "There are 2 people aged 51\n",
      "There are 2 people aged 52\n",
      "There are 2 people aged 53\n",
      "There are 2 people aged 54\n",
      "There are 1 people aged 58\n",
      "There are 1 people aged 59\n",
      "There are 1 people aged 60\n",
      "There are 1 people aged 61\n",
      "There are 2 people aged 62\n",
      "There are 1 people aged 63\n",
      "There are 2 people aged 65\n",
      "There are 2 people aged 66\n",
      "There are 1 people aged 67\n",
      "There are 3 people aged 68\n",
      "There are 1 people aged 69\n",
      "There are 1 people aged 70\n",
      "There are 4 people aged 71\n",
      "There are 1 people aged 72\n",
      "There are 5 people aged 73\n",
      "There are 3 people aged 74\n"
     ]
    }
   ],
   "source": [
    "for ppl, age in c.execute(\"SELECT count(*), age FROM persons GROUP BY age\"):\n",
    "    print(\"There are {} people aged {}\".format(ppl, age)) #Looking for ages for people. By using select * it will read through all of the columns.By having open {} it allows us to find all people with ages."
   ]
  },
  {
   "cell_type": "code",
   "execution_count": 11,
   "metadata": {},
   "outputs": [
    {
     "name": "stdout",
     "output_type": "stream",
     "text": [
      "Highest number of people 5 came from 73 age group\n"
     ]
    }
   ],
   "source": [
    "#Step 3 - Find the age group that has the maximum number of people\n",
    "for ppl, age in c.execute(\"SELECT count(*), age FROM persons GROUP BY age ORDER BY count(*) DESC\"):\n",
    "    print(\"Highest number of people {} came from {} age group\".format(ppl, age))\n",
    "    break\n",
    "#Again we're looking at people and age, but trying to find the highest. Using count will count the number of people"
   ]
  },
  {
   "cell_type": "code",
   "execution_count": 12,
   "metadata": {},
   "outputs": [
    {
     "name": "stdout",
     "output_type": "stream",
     "text": [
      "(60,)\n"
     ]
    }
   ],
   "source": [
    "#Step 4 - Find the people who do not have a last name\n",
    "res = c.execute(\"SELECT count(*) FROM persons WHERE last_name IS null\")\n",
    "for row in res:\n",
    "    print(row)\n",
    "#Used solution code here. I had an idea of what I needed to do with sql. In this I'm selecting the count of persons where the last name is null. I wasjust missing the second piece going row by row."
   ]
  },
  {
   "cell_type": "code",
   "execution_count": 14,
   "metadata": {},
   "outputs": [
    {
     "name": "stdout",
     "output_type": "stream",
     "text": [
      "43 People have more than one pets\n"
     ]
    }
   ],
   "source": [
    "#Step 5 - Find out how many people have more than one pet\n",
    "res = c.execute(\"SELECT count(*) FROM (SELECT count(owner_id) FROM pets GROUP BY owner_id HAVING count(owner_id) >1)\")\n",
    "for row in res:\n",
    "    print(\"{} People have more than one pets\".format(row[0]))\n",
    "#Took the idea from step 4 and basically copied most of it on here but changed it to look at count by owner and making it greater than 1 pet"
   ]
  },
  {
   "cell_type": "code",
   "execution_count": 15,
   "metadata": {},
   "outputs": [
    {
     "name": "stdout",
     "output_type": "stream",
     "text": [
      "(36,)\n"
     ]
    }
   ],
   "source": [
    "#Step 6 - Find out how many pets have received treatment\n",
    "res = c.execute(\"SELECT count(*) FROM pets WHERE treatment_done=1\")\n",
    "for row in res:\n",
    "    print(row)\n",
    "#Again this was a copy from step 4 just changed the sql to look at count of pets and if the treat was done"
   ]
  },
  {
   "cell_type": "code",
   "execution_count": 16,
   "metadata": {},
   "outputs": [
    {
     "name": "stdout",
     "output_type": "stream",
     "text": [
      "(16,)\n"
     ]
    }
   ],
   "source": [
    "#Step 7 - Find out how many pets have received treatment and the type of pet is known\n",
    "res = c.execute(\"SELECT count(*) FROM pets WHERE treatment_done=1 AND pet_type IS NOT null\")\n",
    "for row in res:\n",
    "    print(row)\n",
    "#Mostly a copy of step 6 just added in pet type is not null, which looks only at the pets that are described and not null"
   ]
  },
  {
   "cell_type": "code",
   "execution_count": 17,
   "metadata": {},
   "outputs": [
    {
     "name": "stdout",
     "output_type": "stream",
     "text": [
      "(49,)\n"
     ]
    }
   ],
   "source": [
    "#Step 8 - Find out how many pets are from the city called East Port\n",
    "res = c.execute(\"SELECT count(*) FROM pets JOIN persons ON pets.owner_id = persons.id WHERE persons.city='east port'\")\n",
    "for row in res:\n",
    "    print(row)\n",
    "#Again basically a copy. Looking at pet owners and where their city = east port. I like sql it's pretty straight forward for the most part."
   ]
  },
  {
   "cell_type": "code",
   "execution_count": 18,
   "metadata": {},
   "outputs": [
    {
     "name": "stdout",
     "output_type": "stream",
     "text": [
      "(11,)\n"
     ]
    }
   ],
   "source": [
    "#Step 9 - Find out how many pets are from the city called east port and who received a treatment\n",
    "res = c.execute(\"SELECT count(*) FROM pets JOIN persons ON pets.owner_id = persons.id WHERE persons.city='east port' AND pets.treatment_done=1\")\n",
    "for row in res:\n",
    "    print(row)\n",
    "#Copied from step 8 and added the treatment piece from the pets in east port"
   ]
  },
  {
   "cell_type": "code",
   "execution_count": null,
   "metadata": {},
   "outputs": [],
   "source": []
  }
 ],
 "metadata": {
  "kernelspec": {
   "display_name": "Python 3",
   "language": "python",
   "name": "python3"
  },
  "language_info": {
   "codemirror_mode": {
    "name": "ipython",
    "version": 3
   },
   "file_extension": ".py",
   "mimetype": "text/x-python",
   "name": "python",
   "nbconvert_exporter": "python",
   "pygments_lexer": "ipython3",
   "version": "3.7.6"
  }
 },
 "nbformat": 4,
 "nbformat_minor": 4
}
