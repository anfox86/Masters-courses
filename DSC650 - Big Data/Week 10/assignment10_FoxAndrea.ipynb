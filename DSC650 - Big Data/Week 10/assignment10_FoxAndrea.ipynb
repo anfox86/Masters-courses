{
 "cells": [
  {
   "cell_type": "markdown",
   "id": "flying-frequency",
   "metadata": {},
   "source": [
    "```\n",
    "Name: Andrea Fox\n",
    "Date: 5-16-2021\n",
    "Course: DSC650 - T301 Big Data\n",
    "Assignment: Assignment 10\n",
    "```"
   ]
  },
  {
   "cell_type": "markdown",
   "id": "australian-seminar",
   "metadata": {},
   "source": [
    "## Assignment 10.1\n",
    "```\n",
    "In the first part of the assignment, you will implement basic text-preprocessing functions in Python. These functions do not need to scale to large text documents and will only need to handle small inputs.\n",
    "```"
   ]
  },
  {
   "cell_type": "markdown",
   "id": "respiratory-museum",
   "metadata": {},
   "source": [
    "### 10.1.a\n",
    "```\n",
    "Create a tokenize function that splits a sentence into words. Ensure that your tokenizer removes basic punctuation.\n",
    "```"
   ]
  },
  {
   "cell_type": "code",
   "execution_count": 1,
   "id": "close-direction",
   "metadata": {},
   "outputs": [
    {
     "name": "stdout",
     "output_type": "stream",
     "text": [
      "['all', 'code', 'is', 'guilty', 'until', 'proven', 'innocent']\n"
     ]
    }
   ],
   "source": [
    "def tokenize(sentence):\n",
    "    #create punctuations variable and loop to remove punctuation from\n",
    "    #https://www.programiz.com/python-programming/examples/remove-punctuation\n",
    "    punctuations = '''!()-[]{};:'\"\\,<>./?@#$%^&*_~'''\n",
    "    no_punc = \"\"\n",
    "    for char in sentence:\n",
    "        if char not in punctuations:\n",
    "            no_punc = no_punc + char\n",
    "    #change case to lower (Sam Loyd called it out in 10.1 chat)\n",
    "    no_punc = no_punc.lower()\n",
    "    #create variable to split sentence into separate tokens\n",
    "    words = no_punc.split()\n",
    "    return words\n",
    "\n",
    "sentence = 'All code is guilty, until proven innocent.'\n",
    "tokens = tokenize(sentence)\n",
    "print(tokens)"
   ]
  },
  {
   "cell_type": "markdown",
   "id": "veterinary-louisiana",
   "metadata": {},
   "source": [
    "### 10.1.b\n",
    "```\n",
    "Implement an `ngram` function that splits tokens into N-grams.\n",
    "```"
   ]
  },
  {
   "cell_type": "code",
   "execution_count": 9,
   "id": "respiratory-opportunity",
   "metadata": {},
   "outputs": [
    {
     "data": {
      "text/plain": [
       "['all code is guilty',\n",
       " 'code is guilty until',\n",
       " 'is guilty until proven',\n",
       " 'guilty until proven innocent']"
      ]
     },
     "execution_count": 9,
     "metadata": {},
     "output_type": "execute_result"
    }
   ],
   "source": [
    "def ngram(tokens, n):\n",
    "    #create ngram variable using zip. Found here: https://albertauyeung.github.io/2018/06/03/generating-ngrams.html\n",
    "    ngrams = zip(*[tokens[i:] for i in range(n)])\n",
    "    return [\" \".join(ngram) for ngram in ngrams]\n",
    "\n",
    "n = 4\n",
    "sentence = 'All code is guilty, until proven innocent.'\n",
    "ngram(tokens, n)"
   ]
  },
  {
   "cell_type": "markdown",
   "id": "fabulous-pacific",
   "metadata": {},
   "source": [
    "### 10.1.c\n",
    "```\n",
    "Implement an one_hot_encode function to create a vector from a numerical vector from a list of tokens.\n",
    "```"
   ]
  },
  {
   "cell_type": "code",
   "execution_count": 12,
   "id": "strategic-acrylic",
   "metadata": {},
   "outputs": [
    {
     "data": {
      "text/plain": [
       "array([[[0., 1., 0., 0., 0., 0., 0., 0., 0., 0., 0., 0., 0., 0.],\n",
       "        [0., 0., 1., 0., 0., 0., 0., 0., 0., 0., 0., 0., 0., 0.],\n",
       "        [0., 0., 0., 1., 0., 0., 0., 0., 0., 0., 0., 0., 0., 0.],\n",
       "        [0., 0., 0., 0., 1., 0., 0., 0., 0., 0., 0., 0., 0., 0.],\n",
       "        [0., 0., 0., 0., 0., 1., 0., 0., 0., 0., 0., 0., 0., 0.],\n",
       "        [0., 0., 0., 0., 0., 0., 1., 0., 0., 0., 0., 0., 0., 0.],\n",
       "        [0., 0., 0., 0., 0., 0., 0., 1., 0., 0., 0., 0., 0., 0.],\n",
       "        [0., 0., 0., 0., 0., 0., 0., 0., 0., 0., 0., 0., 0., 0.],\n",
       "        [0., 0., 0., 0., 0., 0., 0., 0., 0., 0., 0., 0., 0., 0.],\n",
       "        [0., 0., 0., 0., 0., 0., 0., 0., 0., 0., 0., 0., 0., 0.]],\n",
       "\n",
       "       [[0., 0., 0., 0., 0., 0., 0., 0., 1., 0., 0., 0., 0., 0.],\n",
       "        [0., 0., 0., 0., 0., 0., 0., 0., 0., 1., 0., 0., 0., 0.],\n",
       "        [0., 0., 0., 0., 0., 0., 0., 0., 0., 0., 1., 0., 0., 0.],\n",
       "        [0., 0., 0., 0., 0., 0., 0., 0., 0., 0., 0., 1., 0., 0.],\n",
       "        [0., 0., 0., 0., 0., 0., 0., 0., 0., 0., 0., 0., 1., 0.],\n",
       "        [0., 0., 0., 0., 0., 0., 0., 0., 0., 0., 0., 0., 0., 1.],\n",
       "        [0., 0., 0., 0., 0., 0., 0., 0., 0., 0., 0., 0., 0., 0.],\n",
       "        [0., 0., 0., 0., 0., 0., 0., 0., 0., 0., 0., 0., 0., 0.],\n",
       "        [0., 0., 0., 0., 0., 0., 0., 0., 0., 0., 0., 0., 0., 0.],\n",
       "        [0., 0., 0., 0., 0., 0., 0., 0., 0., 0., 0., 0., 0., 0.]]])"
      ]
     },
     "execution_count": 12,
     "metadata": {},
     "output_type": "execute_result"
    }
   ],
   "source": [
    "#load helper library\n",
    "import numpy as np\n",
    "\n",
    "#used listing 6.1 from book page - 182 for guidance\n",
    "def one_hot_encode(tokens, num_words):\n",
    "    token_index = {}\n",
    "    for sample in samples:\n",
    "        for word in sample.split():\n",
    "            if word not in token_index:\n",
    "                token_index[word] = len(token_index) + 1\n",
    "    results = np.zeros(shape = (len(samples), num_words, max(token_index.values()) + 1))\n",
    "    for i, sample in enumerate(samples):\n",
    "        for j, word in list(enumerate(sample.split()))[ :num_words]:\n",
    "            index = token_index.get(word)\n",
    "            results[i, j, index] = 1\n",
    "    return results\n",
    "\n",
    "#made the assumption that num_words was the same as max_length \n",
    "num_words = 10\n",
    "samples = ['I have a lovely bunch of coconuts.', 'Sally sold seashells by the seashore.']\n",
    "one_hot_encode(tokens, num_words)"
   ]
  },
  {
   "cell_type": "markdown",
   "id": "greek-disclosure",
   "metadata": {},
   "source": [
    "## 10.2\n",
    "```\n",
    "Using listings 6.16, 6.17, and 6.18 in Deep Learning with Python as a guide, train a sequential model with embeddings on the IMDB data found in data/external/imdb/. Produce the model performance metrics and training and validation accuracy curves within the Jupyter notebook.\n",
    "```"
   ]
  },
  {
   "cell_type": "code",
   "execution_count": 51,
   "id": "western-craps",
   "metadata": {},
   "outputs": [],
   "source": [
    "#load libraries\n",
    "from keras.models import Sequential\n",
    "from keras.layers import Embedding, Flatten, Dense\n",
    "from keras.preprocessing.text import Tokenizer\n",
    "from keras.preprocessing.sequence import pad_sequences\n",
    "import numpy as np\n",
    "import matplotlib.pyplot as plt\n",
    "import os\n",
    "from pathlib import Path\n",
    "\n",
    "#create directories\n",
    "current_dir = Path(os.getcwd()).absolute()\n",
    "imdb_dir = Path('/home/jovyan/dsc650/data/external/imdb/aclImdb/')\n",
    "test_dir = os.path.join(imdb_dir, 'test')\n",
    "train_dir = os.path.join(imdb_dir, 'train')"
   ]
  },
  {
   "cell_type": "code",
   "execution_count": 45,
   "id": "posted-denial",
   "metadata": {},
   "outputs": [],
   "source": [
    "#Listing 6.8 - Processing the labels of the raw IMDB data\n",
    "labels = []\n",
    "texts = []\n",
    "\n",
    "for label_type in ['neg', 'pos']:\n",
    "    dir_name = os.path.join(train_dir, label_type)\n",
    "    for fname in os.listdir(dir_name):\n",
    "        if fname[-4:] == '.txt':\n",
    "            f = open(os.path.join(dir_name, fname))\n",
    "            texts.append(f.read())\n",
    "            f.close()\n",
    "            if label_type == 'neg':\n",
    "                labels.append(0)\n",
    "            else:\n",
    "                labels.append(1)"
   ]
  },
  {
   "cell_type": "code",
   "execution_count": 46,
   "id": "concerned-literacy",
   "metadata": {},
   "outputs": [
    {
     "name": "stdout",
     "output_type": "stream",
     "text": [
      "Found 88582 unique tokens.\n",
      "Shape of data tensor: (25000, 100)\n",
      "Shape of label tensor: (25000,)\n"
     ]
    }
   ],
   "source": [
    "#Listing 6.9 - Tokenizing the text of the raw IMDB data\n",
    "maxlen = 100\n",
    "training_samples = 200\n",
    "validation_samples = 10000\n",
    "max_words = 10000\n",
    "\n",
    "tokenizer = Tokenizer(num_words=max_words)\n",
    "tokenizer.fit_on_texts(texts)\n",
    "sequences = tokenizer.texts_to_sequences(texts)\n",
    "\n",
    "word_index = tokenizer.word_index\n",
    "print('Found %s unique tokens.' % len(word_index))\n",
    "\n",
    "data = pad_sequences(sequences, maxlen=maxlen)\n",
    "\n",
    "labels = np.asarray(labels)\n",
    "print('Shape of data tensor:', data.shape)\n",
    "print('Shape of label tensor:', labels.shape)\n",
    "\n",
    "indices = np.arange(data.shape[0])\n",
    "np.random.shuffle(indices)\n",
    "data = data[indices]\n",
    "labels = labels[indices]\n",
    "\n",
    "x_train = data[:training_samples]\n",
    "y_train = labels[:training_samples]\n",
    "x_val = data[training_samples: training_samples + validation_samples]\n",
    "y_val = labels[training_samples: training_samples + validation_samples]"
   ]
  },
  {
   "cell_type": "code",
   "execution_count": 47,
   "id": "subsequent-fraction",
   "metadata": {},
   "outputs": [
    {
     "name": "stdout",
     "output_type": "stream",
     "text": [
      "Found 400000 word vectors.\n"
     ]
    }
   ],
   "source": [
    "#Listing 6.10 - Parsing the GloVe word-embeddings file\n",
    "#Opened website listed in book and downloaded glove.6B.100 then moved to assignment10 folder\n",
    "embeddings_index = {}\n",
    "f = open('glove.6B.100d.txt')\n",
    "for line in f:\n",
    "    values = line.split()\n",
    "    word = values[0]\n",
    "    coefs = np.asarray(values[1:], dtype='float32')\n",
    "    embeddings_index[word] = coefs\n",
    "f.close()\n",
    "\n",
    "print('Found %s word vectors.' % len(embeddings_index))"
   ]
  },
  {
   "cell_type": "code",
   "execution_count": 48,
   "id": "demonstrated-begin",
   "metadata": {},
   "outputs": [
    {
     "name": "stdout",
     "output_type": "stream",
     "text": [
      "Model: \"sequential_5\"\n",
      "_________________________________________________________________\n",
      "Layer (type)                 Output Shape              Param #   \n",
      "=================================================================\n",
      "embedding_3 (Embedding)      (None, 100, 100)          1000000   \n",
      "_________________________________________________________________\n",
      "flatten_3 (Flatten)          (None, 10000)             0         \n",
      "_________________________________________________________________\n",
      "dense_6 (Dense)              (None, 32)                320032    \n",
      "_________________________________________________________________\n",
      "dense_7 (Dense)              (None, 1)                 33        \n",
      "=================================================================\n",
      "Total params: 1,320,065\n",
      "Trainable params: 1,320,065\n",
      "Non-trainable params: 0\n",
      "_________________________________________________________________\n"
     ]
    }
   ],
   "source": [
    "#Listing 6.11 - Preparing the GloVe word-embeddings matrix\n",
    "embedding_dim = 100\n",
    "\n",
    "embedding_matrix = np.zeros((max_words, embedding_dim))\n",
    "for word, i in word_index.items():\n",
    "    if i < max_words:\n",
    "        embedding_vector = embeddings_index.get(word)\n",
    "        if embedding_vector is not None:\n",
    "            embedding_matrix[i] = embedding_vector\n",
    "            \n",
    "#Listing 6.12 - Model Definition\n",
    "model = Sequential()\n",
    "model.add(Embedding(max_words, embedding_dim, input_length=maxlen))\n",
    "model.add(Flatten())\n",
    "model.add(Dense(32, activation='relu'))\n",
    "model.add(Dense(1, activation='sigmoid'))\n",
    "model.summary()"
   ]
  },
  {
   "cell_type": "code",
   "execution_count": 50,
   "id": "metric-kernel",
   "metadata": {},
   "outputs": [
    {
     "name": "stdout",
     "output_type": "stream",
     "text": [
      "Epoch 1/10\n",
      "7/7 [==============================] - 1s 120ms/step - loss: 1.8968 - acc: 0.4993 - val_loss: 0.7131 - val_acc: 0.5024\n",
      "Epoch 2/10\n",
      "7/7 [==============================] - 1s 102ms/step - loss: 0.5673 - acc: 0.7323 - val_loss: 0.8341 - val_acc: 0.4997\n",
      "Epoch 3/10\n",
      "7/7 [==============================] - 1s 98ms/step - loss: 0.5884 - acc: 0.7163 - val_loss: 0.6973 - val_acc: 0.5428\n",
      "Epoch 4/10\n",
      "7/7 [==============================] - 1s 100ms/step - loss: 0.4380 - acc: 0.8772 - val_loss: 0.7660 - val_acc: 0.5079\n",
      "Epoch 5/10\n",
      "7/7 [==============================] - 1s 99ms/step - loss: 0.2808 - acc: 0.9770 - val_loss: 0.7366 - val_acc: 0.5494\n",
      "Epoch 6/10\n",
      "7/7 [==============================] - 1s 93ms/step - loss: 0.2493 - acc: 0.9546 - val_loss: 0.7362 - val_acc: 0.5567\n",
      "Epoch 7/10\n",
      "7/7 [==============================] - 1s 99ms/step - loss: 0.1945 - acc: 0.9424 - val_loss: 0.7138 - val_acc: 0.5722\n",
      "Epoch 8/10\n",
      "7/7 [==============================] - 1s 98ms/step - loss: 0.0985 - acc: 1.0000 - val_loss: 0.7454 - val_acc: 0.5720\n",
      "Epoch 9/10\n",
      "7/7 [==============================] - 1s 100ms/step - loss: 0.0556 - acc: 1.0000 - val_loss: 0.8705 - val_acc: 0.5483\n",
      "Epoch 10/10\n",
      "7/7 [==============================] - 1s 98ms/step - loss: 0.1279 - acc: 0.9598 - val_loss: 1.2084 - val_acc: 0.5066\n"
     ]
    }
   ],
   "source": [
    "#Listing 6.13 - Loading pretrained word embeddings into the Embedding layer\n",
    "model.layers[0].set_weights([embedding_matrix])\n",
    "model.layers[0].trainable = False\n",
    "\n",
    "#Listing 6.14 - Training and evaluation\n",
    "model.compile(optimizer='rmsprop',\n",
    "              loss='binary_crossentropy',\n",
    "              metrics=['acc'])\n",
    "history = model.fit(x_train, y_train,\n",
    "                    epochs=10,\n",
    "                    batch_size=32,\n",
    "                    validation_data=(x_val, y_val))\n",
    "model.save_weights('pre_trained_glove_model.h5')"
   ]
  },
  {
   "cell_type": "code",
   "execution_count": 52,
   "id": "removed-spice",
   "metadata": {},
   "outputs": [
    {
     "data": {
      "image/png": "[encoded data removed]",
      "text/plain": [
       "<Figure size 432x288 with 1 Axes>"
      ]
     },
     "metadata": {
      "needs_background": "light"
     },
     "output_type": "display_data"
    },
    {
     "data": {
      "image/png": "[encoded data removed]",
      "text/plain": [
       "<Figure size 432x288 with 1 Axes>"
      ]
     },
     "metadata": {
      "needs_background": "light"
     },
     "output_type": "display_data"
    }
   ],
   "source": [
    "#Listing 6.15 - Plotting the results\n",
    "acc = history.history['acc']\n",
    "val_acc = history.history['val_acc']\n",
    "loss = history.history['loss']\n",
    "val_loss = history.history['val_loss']\n",
    "\n",
    "epochs = range(1, len(acc) + 1)\n",
    "\n",
    "plt.plot(epochs, acc, 'bo', label='Training acc')\n",
    "plt.plot(epochs, val_acc, 'b', label='Validation acc')\n",
    "plt.title('Training and validation accuracy')\n",
    "plt.legend()\n",
    "\n",
    "plt.figure()\n",
    "\n",
    "plt.plot(epochs, loss, 'bo', label='Training loss')\n",
    "plt.plot(epochs, val_loss, 'b', label='Validation loss')\n",
    "plt.title('Training and validation loss')\n",
    "plt.legend()\n",
    "\n",
    "plt.show()"
   ]
  },
  {
   "cell_type": "code",
   "execution_count": 53,
   "id": "explicit-combination",
   "metadata": {},
   "outputs": [
    {
     "name": "stdout",
     "output_type": "stream",
     "text": [
      "Model: \"sequential_6\"\n",
      "_________________________________________________________________\n",
      "Layer (type)                 Output Shape              Param #   \n",
      "=================================================================\n",
      "embedding_4 (Embedding)      (None, 100, 100)          1000000   \n",
      "_________________________________________________________________\n",
      "flatten_4 (Flatten)          (None, 10000)             0         \n",
      "_________________________________________________________________\n",
      "dense_8 (Dense)              (None, 32)                320032    \n",
      "_________________________________________________________________\n",
      "dense_9 (Dense)              (None, 1)                 33        \n",
      "=================================================================\n",
      "Total params: 1,320,065\n",
      "Trainable params: 1,320,065\n",
      "Non-trainable params: 0\n",
      "_________________________________________________________________\n",
      "Epoch 1/10\n",
      "7/7 [==============================] - 1s 120ms/step - loss: 0.6947 - acc: 0.4768 - val_loss: 0.6923 - val_acc: 0.5206\n",
      "Epoch 2/10\n",
      "7/7 [==============================] - 1s 107ms/step - loss: 0.5252 - acc: 0.9963 - val_loss: 0.6937 - val_acc: 0.5233\n",
      "Epoch 3/10\n",
      "7/7 [==============================] - 1s 101ms/step - loss: 0.3219 - acc: 0.9894 - val_loss: 0.7089 - val_acc: 0.5154\n",
      "Epoch 4/10\n",
      "7/7 [==============================] - 1s 105ms/step - loss: 0.1537 - acc: 1.0000 - val_loss: 0.6970 - val_acc: 0.5317\n",
      "Epoch 5/10\n",
      "7/7 [==============================] - 1s 102ms/step - loss: 0.0734 - acc: 1.0000 - val_loss: 0.7063 - val_acc: 0.5315\n",
      "Epoch 6/10\n",
      "7/7 [==============================] - 1s 105ms/step - loss: 0.0357 - acc: 1.0000 - val_loss: 0.7119 - val_acc: 0.5324\n",
      "Epoch 7/10\n",
      "7/7 [==============================] - 1s 107ms/step - loss: 0.0199 - acc: 1.0000 - val_loss: 0.7096 - val_acc: 0.5371\n",
      "Epoch 8/10\n",
      "7/7 [==============================] - 1s 98ms/step - loss: 0.0107 - acc: 1.0000 - val_loss: 0.7170 - val_acc: 0.5370\n",
      "Epoch 9/10\n",
      "7/7 [==============================] - 1s 107ms/step - loss: 0.0064 - acc: 1.0000 - val_loss: 0.7224 - val_acc: 0.5403\n",
      "Epoch 10/10\n",
      "7/7 [==============================] - 1s 97ms/step - loss: 0.0039 - acc: 1.0000 - val_loss: 0.7311 - val_acc: 0.5405\n"
     ]
    }
   ],
   "source": [
    "#Listing 6.16 - Training the same model without pretrained word embeddings\n",
    "model = Sequential()\n",
    "model.add(Embedding(max_words, embedding_dim, input_length=maxlen))\n",
    "model.add(Flatten())\n",
    "model.add(Dense(32, activation='relu'))\n",
    "model.add(Dense(1, activation='sigmoid'))\n",
    "model.summary()\n",
    "\n",
    "model.compile(optimizer='rmsprop',\n",
    "              loss='binary_crossentropy',\n",
    "              metrics=['acc'])\n",
    "history = model.fit(x_train, y_train,\n",
    "                    epochs=10,\n",
    "                    batch_size=32,\n",
    "                    validation_data=(x_val, y_val))"
   ]
  },
  {
   "cell_type": "code",
   "execution_count": 54,
   "id": "structured-chinese",
   "metadata": {},
   "outputs": [],
   "source": [
    "#Listing 6.17 - Tokenizing the data of the test set\n",
    "labels = []\n",
    "texts = []\n",
    "\n",
    "for label_type in ['neg', 'pos']:\n",
    "    dir_name = os.path.join(test_dir, label_type)\n",
    "    for fname in sorted(os.listdir(dir_name)):\n",
    "        if fname[-4:] == '.txt':\n",
    "            f = open(os.path.join(dir_name, fname))\n",
    "            texts.append(f.read())\n",
    "            f.close()\n",
    "            if label_type == 'neg':\n",
    "                labels.append(0)\n",
    "            else:\n",
    "                labels.append(1)\n",
    "\n",
    "sequences = tokenizer.texts_to_sequences(texts)\n",
    "x_test = pad_sequences(sequences, maxlen=maxlen)\n",
    "y_test = np.asarray(labels)"
   ]
  },
  {
   "cell_type": "code",
   "execution_count": 55,
   "id": "charming-buyer",
   "metadata": {},
   "outputs": [
    {
     "name": "stdout",
     "output_type": "stream",
     "text": [
      "782/782 [==============================] - 2s 2ms/step - loss: 1.2161 - acc: 0.5061\n"
     ]
    },
    {
     "data": {
      "text/plain": [
       "[1.2160563468933105, 0.5061200261116028]"
      ]
     },
     "execution_count": 55,
     "metadata": {},
     "output_type": "execute_result"
    }
   ],
   "source": [
    "#Listing 6.18 - Evaluating the model on the test set\n",
    "model.load_weights('pre_trained_glove_model.h5')\n",
    "model.evaluate(x_test, y_test)"
   ]
  },
  {
   "cell_type": "code",
   "execution_count": 69,
   "id": "preliminary-input",
   "metadata": {},
   "outputs": [
    {
     "data": {
      "image/png": "[encoded data removed]",
      "text/plain": [
       "<Figure size 432x288 with 1 Axes>"
      ]
     },
     "metadata": {
      "needs_background": "light"
     },
     "output_type": "display_data"
    },
    {
     "data": {
      "image/png": "[encoded data removed]",
      "text/plain": [
       "<Figure size 432x288 with 1 Axes>"
      ]
     },
     "metadata": {
      "needs_background": "light"
     },
     "output_type": "display_data"
    }
   ],
   "source": [
    "#Plot metrics\n",
    "acc = history.history['acc']\n",
    "val_acc = history.history['val_acc']\n",
    "loss = history.history['loss']\n",
    "val_loss = history.history['val_loss']\n",
    "\n",
    "epochs = range(1, len(acc) + 1)\n",
    "\n",
    "plt.plot(epochs, acc, 'bo', label='Training acc')\n",
    "plt.plot(epochs, val_acc, 'b', label='Validation acc')\n",
    "plt.title('Training and validation accuracy')\n",
    "plt.legend()\n",
    "\n",
    "plt.figure()\n",
    "\n",
    "plt.plot(epochs, loss, 'bo', label='Training loss')\n",
    "plt.plot(epochs, val_loss, 'b', label='Validation loss')\n",
    "plt.title('Training and validation loss')\n",
    "plt.legend()\n",
    "\n",
    "plt.show()"
   ]
  },
  {
   "cell_type": "markdown",
   "id": "patent-saver",
   "metadata": {},
   "source": [
    "## 10.3\n",
    "```\n",
    "Using listing 6.27 in Deep Learning with Python as a guide, fit the same data with an LSTM layer. Produce the model performance metrics and training and validation accuracy curves within the Jupyter notebook.\n",
    "```"
   ]
  },
  {
   "cell_type": "code",
   "execution_count": 67,
   "id": "certified-stadium",
   "metadata": {},
   "outputs": [],
   "source": [
    "#load libraries\n",
    "from keras.layers import LSTM\n",
    "from keras.datasets import imdb\n",
    "from keras.preprocessing import sequence\n",
    "from keras.layers import Dense\n",
    "import matplotlib.pyplot as plt"
   ]
  },
  {
   "cell_type": "code",
   "execution_count": 64,
   "id": "together-uniform",
   "metadata": {},
   "outputs": [
    {
     "name": "stdout",
     "output_type": "stream",
     "text": [
      "Loading data...\n"
     ]
    },
    {
     "name": "stderr",
     "output_type": "stream",
     "text": [
      "<__array_function__ internals>:5: VisibleDeprecationWarning: Creating an ndarray from ragged nested sequences (which is a list-or-tuple of lists-or-tuples-or ndarrays with different lengths or shapes) is deprecated. If you meant to do this, you must specify 'dtype=object' when creating the ndarray\n",
      "/opt/conda/lib/python3.8/site-packages/tensorflow/python/keras/datasets/imdb.py:159: VisibleDeprecationWarning: Creating an ndarray from ragged nested sequences (which is a list-or-tuple of lists-or-tuples-or ndarrays with different lengths or shapes) is deprecated. If you meant to do this, you must specify 'dtype=object' when creating the ndarray\n",
      "  x_train, y_train = np.array(xs[:idx]), np.array(labels[:idx])\n",
      "/opt/conda/lib/python3.8/site-packages/tensorflow/python/keras/datasets/imdb.py:160: VisibleDeprecationWarning: Creating an ndarray from ragged nested sequences (which is a list-or-tuple of lists-or-tuples-or ndarrays with different lengths or shapes) is deprecated. If you meant to do this, you must specify 'dtype=object' when creating the ndarray\n",
      "  x_test, y_test = np.array(xs[idx:]), np.array(labels[idx:])\n"
     ]
    },
    {
     "name": "stdout",
     "output_type": "stream",
     "text": [
      "25000 train sequences\n",
      "25000 test sequences\n",
      "Pad sequences (samples x time)\n",
      "input_train shape: (25000, 500)\n",
      "input_test shape: (25000, 500)\n"
     ]
    }
   ],
   "source": [
    "#Listing 6.22 - Preparing the IMDB data\n",
    "max_features = 10000\n",
    "maxlen = 500\n",
    "batch_size = 32\n",
    "\n",
    "print('Loading data...')\n",
    "(input_train, y_train), (input_test, y_test) = imdb.load_data(\n",
    "     num_words=max_features)\n",
    "print(len(input_train), 'train sequences')\n",
    "print(len(input_test), 'test sequences')\n",
    "\n",
    "print('Pad sequences (samples x time)')\n",
    "input_train = sequence.pad_sequences(input_train, maxlen=maxlen)\n",
    "input_test = sequence.pad_sequences(input_test, maxlen=maxlen)\n",
    "print('input_train shape:', input_train.shape)\n",
    "print('input_test shape:', input_test.shape)"
   ]
  },
  {
   "cell_type": "code",
   "execution_count": 66,
   "id": "through-modification",
   "metadata": {},
   "outputs": [
    {
     "name": "stdout",
     "output_type": "stream",
     "text": [
      "Epoch 1/10\n",
      "157/157 [==============================] - 65s 405ms/step - loss: 0.5842 - acc: 0.6786 - val_loss: 0.3451 - val_acc: 0.8554\n",
      "Epoch 2/10\n",
      "157/157 [==============================] - 61s 389ms/step - loss: 0.2969 - acc: 0.8868 - val_loss: 0.4273 - val_acc: 0.8498\n",
      "Epoch 3/10\n",
      "157/157 [==============================] - 61s 386ms/step - loss: 0.2437 - acc: 0.9110 - val_loss: 0.2832 - val_acc: 0.8884\n",
      "Epoch 4/10\n",
      "157/157 [==============================] - 61s 389ms/step - loss: 0.1961 - acc: 0.9318 - val_loss: 0.3733 - val_acc: 0.8532\n",
      "Epoch 5/10\n",
      "157/157 [==============================] - 60s 384ms/step - loss: 0.1720 - acc: 0.9409 - val_loss: 0.3264 - val_acc: 0.8540\n",
      "Epoch 6/10\n",
      "157/157 [==============================] - 60s 382ms/step - loss: 0.1488 - acc: 0.9495 - val_loss: 0.3944 - val_acc: 0.8682\n",
      "Epoch 7/10\n",
      "157/157 [==============================] - 61s 386ms/step - loss: 0.1351 - acc: 0.9531 - val_loss: 0.3732 - val_acc: 0.8802\n",
      "Epoch 8/10\n",
      "157/157 [==============================] - 60s 382ms/step - loss: 0.1222 - acc: 0.9591 - val_loss: 0.3727 - val_acc: 0.8460\n",
      "Epoch 9/10\n",
      "157/157 [==============================] - 59s 378ms/step - loss: 0.1153 - acc: 0.9592 - val_loss: 0.3766 - val_acc: 0.8822\n",
      "Epoch 10/10\n",
      "157/157 [==============================] - 61s 386ms/step - loss: 0.1053 - acc: 0.9665 - val_loss: 0.3392 - val_acc: 0.8840\n"
     ]
    }
   ],
   "source": [
    "#Listing 6.27 - Using the LSTM layer in Keras\n",
    "model = Sequential()\n",
    "model.add(Embedding(max_features, 32))\n",
    "model.add(LSTM(32))\n",
    "model.add(Dense(1, activation='sigmoid'))\n",
    "\n",
    "model.compile(optimizer='rmsprop',\n",
    "              loss='binary_crossentropy',\n",
    "              metrics=['acc'])\n",
    "history = model.fit(input_train, y_train,\n",
    "                    epochs=10,\n",
    "                    batch_size=128,\n",
    "                    validation_split=0.2)"
   ]
  },
  {
   "cell_type": "code",
   "execution_count": 68,
   "id": "annoying-canvas",
   "metadata": {},
   "outputs": [
    {
     "data": {
      "image/png": "[encoded data removed]",
      "text/plain": [
       "<Figure size 432x288 with 1 Axes>"
      ]
     },
     "metadata": {
      "needs_background": "light"
     },
     "output_type": "display_data"
    },
    {
     "data": {
      "image/png": "[encoded data removed]",
      "text/plain": [
       "<Figure size 432x288 with 1 Axes>"
      ]
     },
     "metadata": {
      "needs_background": "light"
     },
     "output_type": "display_data"
    }
   ],
   "source": [
    "#Plotting metrics\n",
    "acc = history.history['acc']\n",
    "val_acc = history.history['val_acc']\n",
    "loss = history.history['loss']\n",
    "val_loss = history.history['val_loss']\n",
    "\n",
    "epochs = range(1, len(acc) + 1)\n",
    "\n",
    "plt.plot(epochs, acc, 'bo', label='Training acc')\n",
    "plt.plot(epochs, val_acc, 'b', label='Validation acc')\n",
    "plt.title('Training and validation accuracy')\n",
    "plt.legend()\n",
    "\n",
    "plt.figure()\n",
    "\n",
    "plt.plot(epochs, loss, 'bo', label='Training loss')\n",
    "plt.plot(epochs, val_loss, 'b', label='Validation loss')\n",
    "plt.title('Training and validation loss')\n",
    "plt.legend()\n",
    "\n",
    "plt.show()"
   ]
  },
  {
   "cell_type": "markdown",
   "id": "romantic-gabriel",
   "metadata": {},
   "source": [
    "## 10.4\n",
    "```\n",
    "Using listing 6.46 in Deep Learning with Python as a guide, fit the same data with a simple 1D convnet. Produce the model performance metrics and training and validation accuracy curves within the Jupyter notebook.\n",
    "```"
   ]
  },
  {
   "cell_type": "code",
   "execution_count": 73,
   "id": "normal-forestry",
   "metadata": {},
   "outputs": [],
   "source": [
    "#load libraries\n",
    "from keras.models import Sequential\n",
    "from keras import layers\n",
    "from keras.optimizers import RMSprop\n",
    "from keras.datasets import imdb\n",
    "from keras.preprocessing import sequence"
   ]
  },
  {
   "cell_type": "code",
   "execution_count": 72,
   "id": "opponent-pharmacy",
   "metadata": {},
   "outputs": [
    {
     "name": "stdout",
     "output_type": "stream",
     "text": [
      "Loading data...\n",
      "25000 train sequences\n",
      "25000 test sequences\n",
      "Pad sequences (samples x time)\n",
      "x_train shape: (25000, 500)\n",
      "x_test shape: (25000, 500)\n"
     ]
    }
   ],
   "source": [
    "#Listing 6.45 - Preparing the IMDB data\n",
    "max_features = 10000\n",
    "max_len = 500\n",
    "\n",
    "print('Loading data...')\n",
    "(x_train, y_train), (x_test, y_test) = imdb.load_data(num_words=max_features)\n",
    "print(len(x_train), 'train sequences')\n",
    "print(len(x_test), 'test sequences')\n",
    "\n",
    "print('Pad sequences (samples x time)')\n",
    "x_train = sequence.pad_sequences(x_train, maxlen=max_len)\n",
    "x_test = sequence.pad_sequences(x_test, maxlen=max_len)\n",
    "print('x_train shape:', x_train.shape)\n",
    "print('x_test shape:', x_test.shape)"
   ]
  },
  {
   "cell_type": "code",
   "execution_count": 74,
   "id": "dense-montana",
   "metadata": {},
   "outputs": [
    {
     "name": "stdout",
     "output_type": "stream",
     "text": [
      "Model: \"sequential_13\"\n",
      "_________________________________________________________________\n",
      "Layer (type)                 Output Shape              Param #   \n",
      "=================================================================\n",
      "embedding_10 (Embedding)     (None, 500, 128)          1280000   \n",
      "_________________________________________________________________\n",
      "conv1d (Conv1D)              (None, 494, 32)           28704     \n",
      "_________________________________________________________________\n",
      "max_pooling1d (MaxPooling1D) (None, 98, 32)            0         \n",
      "_________________________________________________________________\n",
      "conv1d_1 (Conv1D)            (None, 92, 32)            7200      \n",
      "_________________________________________________________________\n",
      "global_max_pooling1d (Global (None, 32)                0         \n",
      "_________________________________________________________________\n",
      "dense_15 (Dense)             (None, 1)                 33        \n",
      "=================================================================\n",
      "Total params: 1,315,937\n",
      "Trainable params: 1,315,937\n",
      "Non-trainable params: 0\n",
      "_________________________________________________________________\n",
      "Epoch 1/10\n",
      "157/157 [==============================] - 11s 66ms/step - loss: 2.9626 - acc: 0.4982 - val_loss: 0.6926 - val_acc: 0.5222\n",
      "Epoch 2/10\n",
      "157/157 [==============================] - 10s 63ms/step - loss: 0.6837 - acc: 0.5844 - val_loss: 0.6717 - val_acc: 0.6602\n",
      "Epoch 3/10\n",
      "157/157 [==============================] - 10s 65ms/step - loss: 0.6479 - acc: 0.7507 - val_loss: 0.6309 - val_acc: 0.7336\n",
      "Epoch 4/10\n",
      "157/157 [==============================] - 10s 64ms/step - loss: 0.5842 - acc: 0.8148 - val_loss: 0.5244 - val_acc: 0.7996\n",
      "Epoch 5/10\n",
      "157/157 [==============================] - 10s 66ms/step - loss: 0.4634 - acc: 0.8435 - val_loss: 0.4473 - val_acc: 0.8244\n",
      "Epoch 6/10\n",
      "157/157 [==============================] - 10s 66ms/step - loss: 0.3678 - acc: 0.8679 - val_loss: 0.4094 - val_acc: 0.8456\n",
      "Epoch 7/10\n",
      "157/157 [==============================] - 10s 65ms/step - loss: 0.3116 - acc: 0.8895 - val_loss: 0.4022 - val_acc: 0.8530\n",
      "Epoch 8/10\n",
      "157/157 [==============================] - 10s 65ms/step - loss: 0.2786 - acc: 0.9009 - val_loss: 0.3938 - val_acc: 0.8598\n",
      "Epoch 9/10\n",
      "157/157 [==============================] - 10s 65ms/step - loss: 0.2441 - acc: 0.9167 - val_loss: 0.4128 - val_acc: 0.8664\n",
      "Epoch 10/10\n",
      "157/157 [==============================] - 10s 65ms/step - loss: 0.2268 - acc: 0.9245 - val_loss: 0.4265 - val_acc: 0.8720\n"
     ]
    }
   ],
   "source": [
    "#Listing 6.46 - Training and evaluating a simple 1D convnet on the IMDB data\n",
    "model = Sequential()\n",
    "model.add(layers.Embedding(max_features, 128, input_length=max_len))\n",
    "model.add(layers.Conv1D(32, 7, activation='relu'))\n",
    "model.add(layers.MaxPooling1D(5))\n",
    "model.add(layers.Conv1D(32, 7, activation='relu'))\n",
    "model.add(layers.GlobalMaxPooling1D())\n",
    "model.add(layers.Dense(1))\n",
    "\n",
    "model.summary()\n",
    "\n",
    "model.compile(optimizer=RMSprop(lr=1e-4),\n",
    "              loss='binary_crossentropy',\n",
    "              metrics=['acc'])\n",
    "history = model.fit(x_train, y_train,\n",
    "                    epochs=10,\n",
    "                    batch_size=128,\n",
    "                    validation_split=0.2)"
   ]
  },
  {
   "cell_type": "code",
   "execution_count": 75,
   "id": "cheap-crystal",
   "metadata": {},
   "outputs": [
    {
     "data": {
      "image/png": "[encoded data removed]",
      "text/plain": [
       "<Figure size 432x288 with 1 Axes>"
      ]
     },
     "metadata": {
      "needs_background": "light"
     },
     "output_type": "display_data"
    },
    {
     "data": {
      "image/png": "[encoded data removed]",
      "text/plain": [
       "<Figure size 432x288 with 1 Axes>"
      ]
     },
     "metadata": {
      "needs_background": "light"
     },
     "output_type": "display_data"
    }
   ],
   "source": [
    "#Plotting the data\n",
    "acc = history.history['acc']\n",
    "val_acc = history.history['val_acc']\n",
    "loss = history.history['loss']\n",
    "val_loss = history.history['val_loss']\n",
    "\n",
    "epochs = range(1, len(acc) + 1)\n",
    "\n",
    "plt.plot(epochs, acc, 'bo', label='Training acc')\n",
    "plt.plot(epochs, val_acc, 'b', label='Validation acc')\n",
    "plt.title('Training and validation accuracy')\n",
    "plt.legend()\n",
    "\n",
    "plt.figure()\n",
    "\n",
    "plt.plot(epochs, loss, 'bo', label='Training loss')\n",
    "plt.plot(epochs, val_loss, 'b', label='Validation loss')\n",
    "plt.title('Training and validation loss')\n",
    "plt.legend()\n",
    "\n",
    "plt.show()"
   ]
  }
 ],
 "metadata": {
  "kernelspec": {
   "display_name": "Python 3",
   "language": "python",
   "name": "python3"
  },
  "language_info": {
   "codemirror_mode": {
    "name": "ipython",
    "version": 3
   },
   "file_extension": ".py",
   "mimetype": "text/x-python",
   "name": "python",
   "nbconvert_exporter": "python",
   "pygments_lexer": "ipython3",
   "version": "3.8.8"
  }
 },
 "nbformat": 4,
 "nbformat_minor": 5
}
