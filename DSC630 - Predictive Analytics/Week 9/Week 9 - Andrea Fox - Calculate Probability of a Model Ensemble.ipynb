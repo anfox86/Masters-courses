{
 "cells": [
  {
   "cell_type": "markdown",
   "metadata": {},
   "source": [
    "```\n",
    "Name: Andrea Fox\n",
    "Date: 10/28/2020\n",
    "Class: DSC630 - T301\n",
    "Assignment: Calculate Probability of a Model Ensemble\n",
    "```"
   ]
  },
  {
   "cell_type": "code",
   "execution_count": 2,
   "metadata": {},
   "outputs": [],
   "source": [
    "from scipy.stats import binom"
   ]
  },
  {
   "cell_type": "markdown",
   "metadata": {},
   "source": [
    "```\n",
    "Calculate the probability of a model ensemble that uses simple majority voting making an incorrect prediction in the following scenarios. (Hint: Understanding how to use the binomial distribution will be useful in answering this question.)\n",
    "```"
   ]
  },
  {
   "cell_type": "markdown",
   "metadata": {},
   "source": [
    "### The ensemble contains 11 independent models, all of which have an error rate of 0.2."
   ]
  },
  {
   "cell_type": "code",
   "execution_count": 24,
   "metadata": {},
   "outputs": [
    {
     "name": "stdout",
     "output_type": "stream",
     "text": [
      "The probability is 0.011654205440000011\n"
     ]
    }
   ],
   "source": [
    "#k = possible majority votes, which could be 6-11\n",
    "#n = number of models\n",
    "#p = probability of success on a given trial\n",
    "\n",
    "probs = [binom.pmf(k=r, n=11, p=0.2) for r in range(6, 12)]\n",
    "print(f'The probability is {sum(probs)}')"
   ]
  },
  {
   "cell_type": "markdown",
   "metadata": {},
   "source": [
    "### The ensemble contains 11 independent models, all of which have an error rate of 0.49."
   ]
  },
  {
   "cell_type": "code",
   "execution_count": 25,
   "metadata": {},
   "outputs": [
    {
     "name": "stdout",
     "output_type": "stream",
     "text": [
      "The probability is 0.4729477257149747\n"
     ]
    }
   ],
   "source": [
    "#k = possible majority votes, which could be 6-11\n",
    "#n = number of models\n",
    "#p = probability of success on a given trial\n",
    "\n",
    "probs = [binom.pmf(k=r, n=11, p=0.49) for r in range(6, 12)]\n",
    "print(f'The probability is {sum(probs)}')"
   ]
  },
  {
   "cell_type": "markdown",
   "metadata": {},
   "source": [
    "### The ensemble contains 21 independent models, all of which have an error rate of 0.49."
   ]
  },
  {
   "cell_type": "code",
   "execution_count": 27,
   "metadata": {},
   "outputs": [
    {
     "name": "stdout",
     "output_type": "stream",
     "text": [
      "The probability is 0.4630479010127352\n"
     ]
    }
   ],
   "source": [
    "#k = number of successes or in this case the majority vote (11 would be majority vote for 21)\n",
    "#n = number of models\n",
    "#p = probability of success on a given trial\n",
    "\n",
    "probs = [binom.pmf(k=r, n=21, p=0.49) for r in range(11, 22)]\n",
    "print(f'The probability is {sum(probs)}')"
   ]
  }
 ],
 "metadata": {
  "kernelspec": {
   "display_name": "Python 3",
   "language": "python",
   "name": "python3"
  },
  "language_info": {
   "codemirror_mode": {
    "name": "ipython",
    "version": 3
   },
   "file_extension": ".py",
   "mimetype": "text/x-python",
   "name": "python",
   "nbconvert_exporter": "python",
   "pygments_lexer": "ipython3",
   "version": "3.8.3"
  }
 },
 "nbformat": 4,
 "nbformat_minor": 4
}
