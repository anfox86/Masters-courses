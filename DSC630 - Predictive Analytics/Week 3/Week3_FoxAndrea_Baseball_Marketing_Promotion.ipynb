{
 "cells": [
  {
   "cell_type": "code",
   "execution_count": 1,
   "metadata": {},
   "outputs": [],
   "source": [
    "#Load in libraries\n",
    "import pandas as pd\n",
    "import numpy as np\n",
    "import matplotlib.pyplot as plt\n",
    "from matplotlib import style\n",
    "from sklearn.model_selection import train_test_split\n",
    "import seaborn as sns\n",
    "\n",
    "%matplotlib inline"
   ]
  },
  {
   "cell_type": "code",
   "execution_count": 4,
   "metadata": {},
   "outputs": [
    {
     "data": {
      "text/html": [
       "<div>\n",
       "<style scoped>\n",
       "    .dataframe tbody tr th:only-of-type {\n",
       "        vertical-align: middle;\n",
       "    }\n",
       "\n",
       "    .dataframe tbody tr th {\n",
       "        vertical-align: top;\n",
       "    }\n",
       "\n",
       "    .dataframe thead th {\n",
       "        text-align: right;\n",
       "    }\n",
       "</style>\n",
       "<table border=\"1\" class=\"dataframe\">\n",
       "  <thead>\n",
       "    <tr style=\"text-align: right;\">\n",
       "      <th></th>\n",
       "      <th>month</th>\n",
       "      <th>day</th>\n",
       "      <th>attend</th>\n",
       "      <th>day_of_week</th>\n",
       "      <th>opponent</th>\n",
       "      <th>temp</th>\n",
       "      <th>skies</th>\n",
       "      <th>day_night</th>\n",
       "      <th>cap</th>\n",
       "      <th>shirt</th>\n",
       "      <th>fireworks</th>\n",
       "      <th>bobblehead</th>\n",
       "    </tr>\n",
       "  </thead>\n",
       "  <tbody>\n",
       "    <tr>\n",
       "      <th>0</th>\n",
       "      <td>APR</td>\n",
       "      <td>10</td>\n",
       "      <td>56000</td>\n",
       "      <td>Tuesday</td>\n",
       "      <td>Pirates</td>\n",
       "      <td>67</td>\n",
       "      <td>Clear</td>\n",
       "      <td>Day</td>\n",
       "      <td>NO</td>\n",
       "      <td>NO</td>\n",
       "      <td>NO</td>\n",
       "      <td>NO</td>\n",
       "    </tr>\n",
       "    <tr>\n",
       "      <th>1</th>\n",
       "      <td>APR</td>\n",
       "      <td>11</td>\n",
       "      <td>29729</td>\n",
       "      <td>Wednesday</td>\n",
       "      <td>Pirates</td>\n",
       "      <td>58</td>\n",
       "      <td>Cloudy</td>\n",
       "      <td>Night</td>\n",
       "      <td>NO</td>\n",
       "      <td>NO</td>\n",
       "      <td>NO</td>\n",
       "      <td>NO</td>\n",
       "    </tr>\n",
       "    <tr>\n",
       "      <th>2</th>\n",
       "      <td>APR</td>\n",
       "      <td>12</td>\n",
       "      <td>28328</td>\n",
       "      <td>Thursday</td>\n",
       "      <td>Pirates</td>\n",
       "      <td>57</td>\n",
       "      <td>Cloudy</td>\n",
       "      <td>Night</td>\n",
       "      <td>NO</td>\n",
       "      <td>NO</td>\n",
       "      <td>NO</td>\n",
       "      <td>NO</td>\n",
       "    </tr>\n",
       "    <tr>\n",
       "      <th>3</th>\n",
       "      <td>APR</td>\n",
       "      <td>13</td>\n",
       "      <td>31601</td>\n",
       "      <td>Friday</td>\n",
       "      <td>Padres</td>\n",
       "      <td>54</td>\n",
       "      <td>Cloudy</td>\n",
       "      <td>Night</td>\n",
       "      <td>NO</td>\n",
       "      <td>NO</td>\n",
       "      <td>YES</td>\n",
       "      <td>NO</td>\n",
       "    </tr>\n",
       "    <tr>\n",
       "      <th>4</th>\n",
       "      <td>APR</td>\n",
       "      <td>14</td>\n",
       "      <td>46549</td>\n",
       "      <td>Saturday</td>\n",
       "      <td>Padres</td>\n",
       "      <td>57</td>\n",
       "      <td>Cloudy</td>\n",
       "      <td>Night</td>\n",
       "      <td>NO</td>\n",
       "      <td>NO</td>\n",
       "      <td>NO</td>\n",
       "      <td>NO</td>\n",
       "    </tr>\n",
       "  </tbody>\n",
       "</table>\n",
       "</div>"
      ],
      "text/plain": [
       "  month  day  attend day_of_week opponent  temp   skies day_night cap shirt  \\\n",
       "0   APR   10   56000     Tuesday  Pirates    67  Clear        Day  NO    NO   \n",
       "1   APR   11   29729   Wednesday  Pirates    58  Cloudy     Night  NO    NO   \n",
       "2   APR   12   28328    Thursday  Pirates    57  Cloudy     Night  NO    NO   \n",
       "3   APR   13   31601      Friday   Padres    54  Cloudy     Night  NO    NO   \n",
       "4   APR   14   46549    Saturday   Padres    57  Cloudy     Night  NO    NO   \n",
       "\n",
       "  fireworks bobblehead  \n",
       "0        NO         NO  \n",
       "1        NO         NO  \n",
       "2        NO         NO  \n",
       "3       YES         NO  \n",
       "4        NO         NO  "
      ]
     },
     "execution_count": 4,
     "metadata": {},
     "output_type": "execute_result"
    }
   ],
   "source": [
    "#Read in baseball file\n",
    "dodgers = pd.read_csv(\"dodgers.csv\")\n",
    "dodgers.head()"
   ]
  },
  {
   "cell_type": "code",
   "execution_count": 6,
   "metadata": {},
   "outputs": [
    {
     "data": {
      "text/html": [
       "<div>\n",
       "<style scoped>\n",
       "    .dataframe tbody tr th:only-of-type {\n",
       "        vertical-align: middle;\n",
       "    }\n",
       "\n",
       "    .dataframe tbody tr th {\n",
       "        vertical-align: top;\n",
       "    }\n",
       "\n",
       "    .dataframe thead th {\n",
       "        text-align: right;\n",
       "    }\n",
       "</style>\n",
       "<table border=\"1\" class=\"dataframe\">\n",
       "  <thead>\n",
       "    <tr style=\"text-align: right;\">\n",
       "      <th></th>\n",
       "      <th>day</th>\n",
       "      <th>attend</th>\n",
       "      <th>temp</th>\n",
       "    </tr>\n",
       "  </thead>\n",
       "  <tbody>\n",
       "    <tr>\n",
       "      <th>count</th>\n",
       "      <td>81.000000</td>\n",
       "      <td>81.000000</td>\n",
       "      <td>81.000000</td>\n",
       "    </tr>\n",
       "    <tr>\n",
       "      <th>mean</th>\n",
       "      <td>16.135802</td>\n",
       "      <td>41040.074074</td>\n",
       "      <td>73.148148</td>\n",
       "    </tr>\n",
       "    <tr>\n",
       "      <th>std</th>\n",
       "      <td>9.605666</td>\n",
       "      <td>8297.539460</td>\n",
       "      <td>8.317318</td>\n",
       "    </tr>\n",
       "    <tr>\n",
       "      <th>min</th>\n",
       "      <td>1.000000</td>\n",
       "      <td>24312.000000</td>\n",
       "      <td>54.000000</td>\n",
       "    </tr>\n",
       "    <tr>\n",
       "      <th>25%</th>\n",
       "      <td>8.000000</td>\n",
       "      <td>34493.000000</td>\n",
       "      <td>67.000000</td>\n",
       "    </tr>\n",
       "    <tr>\n",
       "      <th>50%</th>\n",
       "      <td>15.000000</td>\n",
       "      <td>40284.000000</td>\n",
       "      <td>73.000000</td>\n",
       "    </tr>\n",
       "    <tr>\n",
       "      <th>75%</th>\n",
       "      <td>25.000000</td>\n",
       "      <td>46588.000000</td>\n",
       "      <td>79.000000</td>\n",
       "    </tr>\n",
       "    <tr>\n",
       "      <th>max</th>\n",
       "      <td>31.000000</td>\n",
       "      <td>56000.000000</td>\n",
       "      <td>95.000000</td>\n",
       "    </tr>\n",
       "  </tbody>\n",
       "</table>\n",
       "</div>"
      ],
      "text/plain": [
       "             day        attend       temp\n",
       "count  81.000000     81.000000  81.000000\n",
       "mean   16.135802  41040.074074  73.148148\n",
       "std     9.605666   8297.539460   8.317318\n",
       "min     1.000000  24312.000000  54.000000\n",
       "25%     8.000000  34493.000000  67.000000\n",
       "50%    15.000000  40284.000000  73.000000\n",
       "75%    25.000000  46588.000000  79.000000\n",
       "max    31.000000  56000.000000  95.000000"
      ]
     },
     "execution_count": 6,
     "metadata": {},
     "output_type": "execute_result"
    }
   ],
   "source": [
    "#Describe. Only looks at numeric values, but gives count, mean, standard deviation, and min/max\n",
    "dodgers.describe()"
   ]
  },
  {
   "cell_type": "code",
   "execution_count": 8,
   "metadata": {},
   "outputs": [
    {
     "data": {
      "text/plain": [
       "month          0\n",
       "day            0\n",
       "attend         0\n",
       "day_of_week    0\n",
       "opponent       0\n",
       "temp           0\n",
       "skies          0\n",
       "day_night      0\n",
       "cap            0\n",
       "shirt          0\n",
       "fireworks      0\n",
       "bobblehead     0\n",
       "dtype: int64"
      ]
     },
     "execution_count": 8,
     "metadata": {},
     "output_type": "execute_result"
    }
   ],
   "source": [
    "#Check for any null values\n",
    "dodgers.isnull().sum()\n",
    "\n",
    "#No null values found"
   ]
  },
  {
   "cell_type": "code",
   "execution_count": 10,
   "metadata": {},
   "outputs": [
    {
     "name": "stdout",
     "output_type": "stream",
     "text": [
      "month has no missing values\n",
      "day has no missing values\n",
      "attend has no missing values\n",
      "day_of_week has no missing values\n",
      "opponent has no missing values\n",
      "temp has no missing values\n",
      "skies has no missing values\n",
      "day_night has no missing values\n",
      "cap has no missing values\n",
      "shirt has no missing values\n",
      "fireworks has no missing values\n",
      "bobblehead has no missing values\n"
     ]
    }
   ],
   "source": [
    "#Check for missing values\n",
    "for c in dodgers.columns:\n",
    "    miss = dodgers[c].isnull().sum()\n",
    "    if miss>0:\n",
    "        print(\"{} has {} missing value(s)\".format(c,miss))\n",
    "    else:\n",
    "        print(\"{} has no missing values\".format(c))\n",
    "        \n",
    "#No values are found missing"
   ]
  },
  {
   "cell_type": "code",
   "execution_count": 21,
   "metadata": {},
   "outputs": [
    {
     "data": {
      "text/plain": [
       "<matplotlib.axes._subplots.AxesSubplot at 0x19fe1363760>"
      ]
     },
     "execution_count": 21,
     "metadata": {},
     "output_type": "execute_result"
    },
    {
     "data": {
      "image/png": "[encoded data removed]",
      "text/plain": [
       "<Figure size 432x288 with 1 Axes>"
      ]
     },
     "metadata": {
      "needs_background": "light"
     },
     "output_type": "display_data"
    }
   ],
   "source": [
    "#Bar plot of day of week by attendance\n",
    "sns.barplot(x = 'day_of_week', y = 'attend', data = dodgers, palette = 'rocket')"
   ]
  },
  {
   "cell_type": "markdown",
   "metadata": {},
   "source": [
    "```\n",
    "Tuesday has the highest attendance, while Monday and Wednesday are noticeably lower than the other days of the week. This doesn't follow my assumptions because I would assume weekend games would have a higher attendance since more people are out of work. \n",
    "```"
   ]
  },
  {
   "cell_type": "code",
   "execution_count": 23,
   "metadata": {},
   "outputs": [
    {
     "data": {
      "text/plain": [
       "<matplotlib.axes._subplots.AxesSubplot at 0x19fe1458fd0>"
      ]
     },
     "execution_count": 23,
     "metadata": {},
     "output_type": "execute_result"
    },
    {
     "data": {
      "image/png": "[encoded data removed]",
      "text/plain": [
       "<Figure size 432x288 with 1 Axes>"
      ]
     },
     "metadata": {
      "needs_background": "light"
     },
     "output_type": "display_data"
    }
   ],
   "source": [
    "#Barplot of month by attendance.\n",
    "sns.barplot(x = 'month', y = 'attend', data = dodgers, palette = 'rainbow') "
   ]
  },
  {
   "cell_type": "markdown",
   "metadata": {},
   "source": [
    "```\n",
    "June shows to have the best turn out of the months, while October and May seem to have the least amount of attendance. October you start getting into play offs and the world series so not all teams are playing, which could play a factor. \n",
    "```"
   ]
  },
  {
   "cell_type": "code",
   "execution_count": 25,
   "metadata": {},
   "outputs": [
    {
     "data": {
      "text/plain": [
       "<matplotlib.axes._subplots.AxesSubplot at 0x19fe143eeb0>"
      ]
     },
     "execution_count": 25,
     "metadata": {},
     "output_type": "execute_result"
    },
    {
     "data": {
      "image/png": "[encoded data removed]",
      "text/plain": [
       "<Figure size 432x288 with 1 Axes>"
      ]
     },
     "metadata": {
      "needs_background": "light"
     },
     "output_type": "display_data"
    }
   ],
   "source": [
    "#Barplot of attendance by day or night\n",
    "sns.barplot(x = 'day_night', y = 'attend', data = dodgers, palette = 'seismic')"
   ]
  },
  {
   "cell_type": "markdown",
   "metadata": {},
   "source": [
    "```\n",
    "Day looks to be a little higher than night games. However, I don't think this will play a major factor in my predictions later on.\n",
    "```"
   ]
  },
  {
   "cell_type": "code",
   "execution_count": 26,
   "metadata": {},
   "outputs": [
    {
     "data": {
      "text/plain": [
       "<matplotlib.axes._subplots.AxesSubplot at 0x19fe15bfac0>"
      ]
     },
     "execution_count": 26,
     "metadata": {},
     "output_type": "execute_result"
    },
    {
     "data": {
      "image/png": "[encoded data removed]",
      "text/plain": [
       "<Figure size 432x288 with 1 Axes>"
      ]
     },
     "metadata": {
      "needs_background": "light"
     },
     "output_type": "display_data"
    }
   ],
   "source": [
    "#Barplot of attendance by sky\n",
    "sns.barplot(x = 'skies', y = 'attend', data = dodgers, palette = 'winter')"
   ]
  },
  {
   "cell_type": "markdown",
   "metadata": {},
   "source": [
    "```\n",
    "On this bar graph it looks like clear skies is slightly higher than cloudy skies. However, I think the numbers are similar enough that this won't play a major facotr in my predictions later on.\n",
    "```"
   ]
  },
  {
   "cell_type": "code",
   "execution_count": 13,
   "metadata": {},
   "outputs": [
    {
     "data": {
      "text/html": [
       "<div>\n",
       "<style scoped>\n",
       "    .dataframe tbody tr th:only-of-type {\n",
       "        vertical-align: middle;\n",
       "    }\n",
       "\n",
       "    .dataframe tbody tr th {\n",
       "        vertical-align: top;\n",
       "    }\n",
       "\n",
       "    .dataframe thead th {\n",
       "        text-align: right;\n",
       "    }\n",
       "</style>\n",
       "<table border=\"1\" class=\"dataframe\">\n",
       "  <thead>\n",
       "    <tr style=\"text-align: right;\">\n",
       "      <th></th>\n",
       "      <th>month</th>\n",
       "      <th>day</th>\n",
       "      <th>attend</th>\n",
       "      <th>day_of_week</th>\n",
       "      <th>opponent</th>\n",
       "      <th>temp</th>\n",
       "      <th>skies</th>\n",
       "      <th>day_night</th>\n",
       "      <th>cap</th>\n",
       "      <th>shirt</th>\n",
       "      <th>fireworks</th>\n",
       "      <th>bobblehead</th>\n",
       "    </tr>\n",
       "  </thead>\n",
       "  <tbody>\n",
       "    <tr>\n",
       "      <th>0</th>\n",
       "      <td>APR</td>\n",
       "      <td>10</td>\n",
       "      <td>56000</td>\n",
       "      <td>Tuesday</td>\n",
       "      <td>Pirates</td>\n",
       "      <td>67</td>\n",
       "      <td>Clear</td>\n",
       "      <td>Day</td>\n",
       "      <td>0</td>\n",
       "      <td>0</td>\n",
       "      <td>0</td>\n",
       "      <td>0</td>\n",
       "    </tr>\n",
       "    <tr>\n",
       "      <th>1</th>\n",
       "      <td>APR</td>\n",
       "      <td>11</td>\n",
       "      <td>29729</td>\n",
       "      <td>Wednesday</td>\n",
       "      <td>Pirates</td>\n",
       "      <td>58</td>\n",
       "      <td>Cloudy</td>\n",
       "      <td>Night</td>\n",
       "      <td>0</td>\n",
       "      <td>0</td>\n",
       "      <td>0</td>\n",
       "      <td>0</td>\n",
       "    </tr>\n",
       "    <tr>\n",
       "      <th>2</th>\n",
       "      <td>APR</td>\n",
       "      <td>12</td>\n",
       "      <td>28328</td>\n",
       "      <td>Thursday</td>\n",
       "      <td>Pirates</td>\n",
       "      <td>57</td>\n",
       "      <td>Cloudy</td>\n",
       "      <td>Night</td>\n",
       "      <td>0</td>\n",
       "      <td>0</td>\n",
       "      <td>0</td>\n",
       "      <td>0</td>\n",
       "    </tr>\n",
       "    <tr>\n",
       "      <th>3</th>\n",
       "      <td>APR</td>\n",
       "      <td>13</td>\n",
       "      <td>31601</td>\n",
       "      <td>Friday</td>\n",
       "      <td>Padres</td>\n",
       "      <td>54</td>\n",
       "      <td>Cloudy</td>\n",
       "      <td>Night</td>\n",
       "      <td>0</td>\n",
       "      <td>0</td>\n",
       "      <td>1</td>\n",
       "      <td>0</td>\n",
       "    </tr>\n",
       "    <tr>\n",
       "      <th>4</th>\n",
       "      <td>APR</td>\n",
       "      <td>14</td>\n",
       "      <td>46549</td>\n",
       "      <td>Saturday</td>\n",
       "      <td>Padres</td>\n",
       "      <td>57</td>\n",
       "      <td>Cloudy</td>\n",
       "      <td>Night</td>\n",
       "      <td>0</td>\n",
       "      <td>0</td>\n",
       "      <td>0</td>\n",
       "      <td>0</td>\n",
       "    </tr>\n",
       "    <tr>\n",
       "      <th>...</th>\n",
       "      <td>...</td>\n",
       "      <td>...</td>\n",
       "      <td>...</td>\n",
       "      <td>...</td>\n",
       "      <td>...</td>\n",
       "      <td>...</td>\n",
       "      <td>...</td>\n",
       "      <td>...</td>\n",
       "      <td>...</td>\n",
       "      <td>...</td>\n",
       "      <td>...</td>\n",
       "      <td>...</td>\n",
       "    </tr>\n",
       "    <tr>\n",
       "      <th>76</th>\n",
       "      <td>SEP</td>\n",
       "      <td>29</td>\n",
       "      <td>40724</td>\n",
       "      <td>Saturday</td>\n",
       "      <td>Rockies</td>\n",
       "      <td>84</td>\n",
       "      <td>Cloudy</td>\n",
       "      <td>Night</td>\n",
       "      <td>0</td>\n",
       "      <td>0</td>\n",
       "      <td>0</td>\n",
       "      <td>0</td>\n",
       "    </tr>\n",
       "    <tr>\n",
       "      <th>77</th>\n",
       "      <td>SEP</td>\n",
       "      <td>30</td>\n",
       "      <td>35607</td>\n",
       "      <td>Sunday</td>\n",
       "      <td>Rockies</td>\n",
       "      <td>95</td>\n",
       "      <td>Clear</td>\n",
       "      <td>Day</td>\n",
       "      <td>0</td>\n",
       "      <td>0</td>\n",
       "      <td>0</td>\n",
       "      <td>0</td>\n",
       "    </tr>\n",
       "    <tr>\n",
       "      <th>78</th>\n",
       "      <td>OCT</td>\n",
       "      <td>1</td>\n",
       "      <td>33624</td>\n",
       "      <td>Monday</td>\n",
       "      <td>Giants</td>\n",
       "      <td>86</td>\n",
       "      <td>Clear</td>\n",
       "      <td>Night</td>\n",
       "      <td>0</td>\n",
       "      <td>0</td>\n",
       "      <td>0</td>\n",
       "      <td>0</td>\n",
       "    </tr>\n",
       "    <tr>\n",
       "      <th>79</th>\n",
       "      <td>OCT</td>\n",
       "      <td>2</td>\n",
       "      <td>42473</td>\n",
       "      <td>Tuesday</td>\n",
       "      <td>Giants</td>\n",
       "      <td>83</td>\n",
       "      <td>Clear</td>\n",
       "      <td>Night</td>\n",
       "      <td>0</td>\n",
       "      <td>0</td>\n",
       "      <td>0</td>\n",
       "      <td>0</td>\n",
       "    </tr>\n",
       "    <tr>\n",
       "      <th>80</th>\n",
       "      <td>OCT</td>\n",
       "      <td>3</td>\n",
       "      <td>34014</td>\n",
       "      <td>Wednesday</td>\n",
       "      <td>Giants</td>\n",
       "      <td>82</td>\n",
       "      <td>Cloudy</td>\n",
       "      <td>Night</td>\n",
       "      <td>0</td>\n",
       "      <td>0</td>\n",
       "      <td>0</td>\n",
       "      <td>0</td>\n",
       "    </tr>\n",
       "  </tbody>\n",
       "</table>\n",
       "<p>81 rows × 12 columns</p>\n",
       "</div>"
      ],
      "text/plain": [
       "   month  day  attend day_of_week opponent  temp   skies day_night  cap  \\\n",
       "0    APR   10   56000     Tuesday  Pirates    67  Clear        Day    0   \n",
       "1    APR   11   29729   Wednesday  Pirates    58  Cloudy     Night    0   \n",
       "2    APR   12   28328    Thursday  Pirates    57  Cloudy     Night    0   \n",
       "3    APR   13   31601      Friday   Padres    54  Cloudy     Night    0   \n",
       "4    APR   14   46549    Saturday   Padres    57  Cloudy     Night    0   \n",
       "..   ...  ...     ...         ...      ...   ...     ...       ...  ...   \n",
       "76   SEP   29   40724    Saturday  Rockies    84  Cloudy     Night    0   \n",
       "77   SEP   30   35607      Sunday  Rockies    95  Clear        Day    0   \n",
       "78   OCT    1   33624      Monday   Giants    86  Clear      Night    0   \n",
       "79   OCT    2   42473     Tuesday   Giants    83  Clear      Night    0   \n",
       "80   OCT    3   34014   Wednesday   Giants    82  Cloudy     Night    0   \n",
       "\n",
       "    shirt  fireworks  bobblehead  \n",
       "0       0          0           0  \n",
       "1       0          0           0  \n",
       "2       0          0           0  \n",
       "3       0          1           0  \n",
       "4       0          0           0  \n",
       "..    ...        ...         ...  \n",
       "76      0          0           0  \n",
       "77      0          0           0  \n",
       "78      0          0           0  \n",
       "79      0          0           0  \n",
       "80      0          0           0  \n",
       "\n",
       "[81 rows x 12 columns]"
      ]
     },
     "execution_count": 13,
     "metadata": {},
     "output_type": "execute_result"
    }
   ],
   "source": [
    "#I think it'll be easier to work with the promotions if I change the Yes and No to 1 and 0.\n",
    "dodgers['cap'] = dodgers['cap'].map({'NO': 0, 'YES': 1})\n",
    "dodgers['shirt'] = dodgers['shirt'].map({'NO': 0, 'YES': 1})\n",
    "dodgers['fireworks'] = dodgers['fireworks'].map({'NO': 0, 'YES': 1})\n",
    "dodgers['bobblehead'] = dodgers['bobblehead'].map({'NO': 0, 'YES': 1})\n",
    "dodgers"
   ]
  },
  {
   "cell_type": "code",
   "execution_count": 14,
   "metadata": {},
   "outputs": [
    {
     "data": {
      "text/plain": [
       "0    79\n",
       "1     2\n",
       "Name: cap, dtype: int64"
      ]
     },
     "execution_count": 14,
     "metadata": {},
     "output_type": "execute_result"
    }
   ],
   "source": [
    "dodgers['cap'].value_counts()"
   ]
  },
  {
   "cell_type": "code",
   "execution_count": 15,
   "metadata": {},
   "outputs": [
    {
     "data": {
      "text/plain": [
       "0    78\n",
       "1     3\n",
       "Name: shirt, dtype: int64"
      ]
     },
     "execution_count": 15,
     "metadata": {},
     "output_type": "execute_result"
    }
   ],
   "source": [
    "dodgers['shirt'].value_counts()"
   ]
  },
  {
   "cell_type": "code",
   "execution_count": 16,
   "metadata": {},
   "outputs": [
    {
     "data": {
      "text/plain": [
       "0    67\n",
       "1    14\n",
       "Name: fireworks, dtype: int64"
      ]
     },
     "execution_count": 16,
     "metadata": {},
     "output_type": "execute_result"
    }
   ],
   "source": [
    "dodgers['fireworks'].value_counts()"
   ]
  },
  {
   "cell_type": "code",
   "execution_count": 17,
   "metadata": {},
   "outputs": [
    {
     "data": {
      "text/plain": [
       "0    70\n",
       "1    11\n",
       "Name: bobblehead, dtype: int64"
      ]
     },
     "execution_count": 17,
     "metadata": {},
     "output_type": "execute_result"
    }
   ],
   "source": [
    "dodgers['bobblehead'].value_counts()"
   ]
  },
  {
   "cell_type": "markdown",
   "metadata": {},
   "source": [
    "```\n",
    "Looking at the promotions, it doesn't look like cap or shirt promotions are used very often. With this in mind attendance could be higher for those days since they are not as frequent. Fireworks and bobblehead happen more often, so I do want to look at attendance for those specific days as well since they might be more popular than shirt or cap.\n",
    "```"
   ]
  },
  {
   "cell_type": "code",
   "execution_count": 21,
   "metadata": {},
   "outputs": [
    {
     "data": {
      "text/plain": [
       "<matplotlib.axes._subplots.AxesSubplot at 0x21493217130>"
      ]
     },
     "execution_count": 21,
     "metadata": {},
     "output_type": "execute_result"
    },
    {
     "data": {
      "image/png": "[encoded data removed]",
      "text/plain": [
       "<Figure size 432x288 with 1 Axes>"
      ]
     },
     "metadata": {
      "needs_background": "light"
     },
     "output_type": "display_data"
    }
   ],
   "source": [
    "#Boxplot looking at attendance when cap promotion runs\n",
    "sns.boxplot(y = 'attend', x = 'cap', data = dodgers)"
   ]
  },
  {
   "cell_type": "code",
   "execution_count": 20,
   "metadata": {},
   "outputs": [
    {
     "data": {
      "text/plain": [
       "<matplotlib.axes._subplots.AxesSubplot at 0x2149319d310>"
      ]
     },
     "execution_count": 20,
     "metadata": {},
     "output_type": "execute_result"
    },
    {
     "data": {
      "image/png": "[encoded data removed]",
      "text/plain": [
       "<Figure size 432x288 with 1 Axes>"
      ]
     },
     "metadata": {
      "needs_background": "light"
     },
     "output_type": "display_data"
    }
   ],
   "source": [
    "#Boxplot looking at attendance when shirt promotion runs\n",
    "sns.boxplot(y = 'attend', x = 'shirt', data = dodgers)"
   ]
  },
  {
   "cell_type": "code",
   "execution_count": 22,
   "metadata": {},
   "outputs": [
    {
     "data": {
      "text/plain": [
       "<matplotlib.axes._subplots.AxesSubplot at 0x21493279af0>"
      ]
     },
     "execution_count": 22,
     "metadata": {},
     "output_type": "execute_result"
    },
    {
     "data": {
      "image/png": "[encoded data removed]",
      "text/plain": [
       "<Figure size 432x288 with 1 Axes>"
      ]
     },
     "metadata": {
      "needs_background": "light"
     },
     "output_type": "display_data"
    }
   ],
   "source": [
    "#Boxplot looking at attendance when fireworks promotion is run\n",
    "sns.boxplot(y = 'attend', x = 'fireworks', data = dodgers)"
   ]
  },
  {
   "cell_type": "code",
   "execution_count": 23,
   "metadata": {},
   "outputs": [
    {
     "data": {
      "text/plain": [
       "<matplotlib.axes._subplots.AxesSubplot at 0x214932f9130>"
      ]
     },
     "execution_count": 23,
     "metadata": {},
     "output_type": "execute_result"
    },
    {
     "data": {
      "image/png": "[encoded data removed]",
      "text/plain": [
       "<Figure size 432x288 with 1 Axes>"
      ]
     },
     "metadata": {
      "needs_background": "light"
     },
     "output_type": "display_data"
    }
   ],
   "source": [
    "#Boxplot looking at when bobblehead promotion is run\n",
    "sns.boxplot(y = 'attend', x = 'bobblehead', data = dodgers)"
   ]
  },
  {
   "cell_type": "markdown",
   "metadata": {},
   "source": [
    "```\n",
    "Of the boxplots looking at attendance on nights promotions happen I would say that the most popular nights are when shirts and bobbleheads are given out. I think this could have an overall factor on nights of most popular attendance and is something I should consider when I make my final prediction.\n",
    "```"
   ]
  },
  {
   "cell_type": "code",
   "execution_count": 27,
   "metadata": {},
   "outputs": [
    {
     "data": {
      "image/png": "[encoded data removed]",
      "text/plain": [
       "<Figure size 432x288 with 1 Axes>"
      ]
     },
     "metadata": {
      "needs_background": "light"
     },
     "output_type": "display_data"
    }
   ],
   "source": [
    "#Just wanted to see scatter of attendance by day of the week to see how some of the points graphed\n",
    "x = dodgers.day_of_week\n",
    "y = dodgers.attend\n",
    "plt.scatter(x,y)\n",
    "plt.show()"
   ]
  },
  {
   "cell_type": "markdown",
   "metadata": {},
   "source": [
    "```\n",
    "Just looking at some of the highest points on days of the week I can actually see Friday also has a low attendance like Monday. Tuesday still shows the highest with a heavier concentration towards the peak attendance numbers, but Saturday and Sunday also have some concentration towards the top. If I'm looking at the visuals alone I would say the best time to go to a game would be \n",
    "```"
   ]
  },
  {
   "cell_type": "code",
   "execution_count": 36,
   "metadata": {},
   "outputs": [
    {
     "data": {
      "text/plain": [
       "day_of_week  bobblehead\n",
       "Friday       0             40116.923077\n",
       "Monday       0             34965.666667\n",
       "Saturday     0             41062.909091\n",
       "             1             54128.000000\n",
       "Sunday       0             41178.000000\n",
       "             1             55359.000000\n",
       "Thursday     0             32803.333333\n",
       "             1             51813.500000\n",
       "Tuesday      0             43326.714286\n",
       "             1             52891.500000\n",
       "Wednesday    0             37585.166667\n",
       "Name: attend, dtype: float64"
      ]
     },
     "execution_count": 36,
     "metadata": {},
     "output_type": "execute_result"
    }
   ],
   "source": [
    "#Grouping day of the week and bobblehead promotion attendance\n",
    "dodgers.groupby(by = ['day_of_week', 'bobblehead'])['attend'].mean()"
   ]
  },
  {
   "cell_type": "code",
   "execution_count": 37,
   "metadata": {},
   "outputs": [
    {
     "data": {
      "text/plain": [
       "day_of_week  shirt\n",
       "Friday       0        40116.923077\n",
       "Monday       0        33548.090909\n",
       "             1        50559.000000\n",
       "Saturday     0        43072.923077\n",
       "Sunday       0        41728.500000\n",
       "             1        48753.000000\n",
       "Thursday     0        40407.400000\n",
       "Tuesday      0        48334.750000\n",
       "             1        40619.000000\n",
       "Wednesday    0        37585.166667\n",
       "Name: attend, dtype: float64"
      ]
     },
     "execution_count": 37,
     "metadata": {},
     "output_type": "execute_result"
    }
   ],
   "source": [
    "#Grouping day of the week and shirt promotion attendance\n",
    "dodgers.groupby(by = ['day_of_week', 'shirt'])['attend'].mean()"
   ]
  },
  {
   "cell_type": "code",
   "execution_count": 38,
   "metadata": {},
   "outputs": [
    {
     "data": {
      "text/plain": [
       "day_of_week  cap\n",
       "Friday       0      40116.923077\n",
       "Monday       0      34965.666667\n",
       "Saturday     0      43072.923077\n",
       "Sunday       0      42250.000000\n",
       "             1      42495.000000\n",
       "Thursday     0      40407.400000\n",
       "Tuesday      0      48896.000000\n",
       "             1      33884.000000\n",
       "Wednesday    0      37585.166667\n",
       "Name: attend, dtype: float64"
      ]
     },
     "execution_count": 38,
     "metadata": {},
     "output_type": "execute_result"
    }
   ],
   "source": [
    "#Grouping day of the week and cap promotion attendance\n",
    "dodgers.groupby(by = ['day_of_week', 'cap'])['attend'].mean()"
   ]
  },
  {
   "cell_type": "code",
   "execution_count": 39,
   "metadata": {},
   "outputs": [
    {
     "data": {
      "text/plain": [
       "day_of_week  fireworks\n",
       "Friday       1            40116.923077\n",
       "Monday       0            34965.666667\n",
       "Saturday     0            43072.923077\n",
       "Sunday       0            42268.846154\n",
       "Thursday     0            40407.400000\n",
       "Tuesday      0            47741.230769\n",
       "Wednesday    0            36132.000000\n",
       "             1            53570.000000\n",
       "Name: attend, dtype: float64"
      ]
     },
     "execution_count": 39,
     "metadata": {},
     "output_type": "execute_result"
    }
   ],
   "source": [
    "#Grouping day of the week and fireworks promotion attendance\n",
    "dodgers.groupby(by = ['day_of_week', 'fireworks'])['attend'].mean()"
   ]
  },
  {
   "cell_type": "code",
   "execution_count": 40,
   "metadata": {},
   "outputs": [
    {
     "data": {
      "text/plain": [
       "month  bobblehead\n",
       "APR    0             38260.090909\n",
       "       1             54242.000000\n",
       "AUG    0             39635.666667\n",
       "       1             55215.000000\n",
       "JUL    0             40489.555556\n",
       "       1             54068.333333\n",
       "JUN    0             46739.857143\n",
       "       1             52142.500000\n",
       "MAY    0             35875.562500\n",
       "       1             49107.000000\n",
       "OCT    0             36703.666667\n",
       "SEP    0             38955.083333\n",
       "Name: attend, dtype: float64"
      ]
     },
     "execution_count": 40,
     "metadata": {},
     "output_type": "execute_result"
    }
   ],
   "source": [
    "#Grouping month and bobblehead promotion attendance\n",
    "dodgers.groupby(by = ['month', 'bobblehead'])['attend'].mean()"
   ]
  },
  {
   "cell_type": "code",
   "execution_count": 41,
   "metadata": {},
   "outputs": [
    {
     "data": {
      "text/plain": [
       "month  shirt\n",
       "APR    0        38759.090909\n",
       "       1        48753.000000\n",
       "AUG    0        42751.533333\n",
       "JUL    0        43884.250000\n",
       "JUN    0        47613.125000\n",
       "       1        50559.000000\n",
       "MAY    0        37345.722222\n",
       "OCT    0        36703.666667\n",
       "SEP    0        38803.818182\n",
       "       1        40619.000000\n",
       "Name: attend, dtype: float64"
      ]
     },
     "execution_count": 41,
     "metadata": {},
     "output_type": "execute_result"
    }
   ],
   "source": [
    "#Grouping month and shirt promotion attendance\n",
    "dodgers.groupby(by = ['month', 'shirt'])['attend'].mean()"
   ]
  },
  {
   "cell_type": "code",
   "execution_count": 42,
   "metadata": {},
   "outputs": [
    {
     "data": {
      "text/plain": [
       "month  cap\n",
       "APR    0      39591.916667\n",
       "AUG    0      42769.857143\n",
       "       1      42495.000000\n",
       "JUL    0      44793.363636\n",
       "       1      33884.000000\n",
       "JUN    0      47940.444444\n",
       "MAY    0      37345.722222\n",
       "OCT    0      36703.666667\n",
       "SEP    0      38955.083333\n",
       "Name: attend, dtype: float64"
      ]
     },
     "execution_count": 42,
     "metadata": {},
     "output_type": "execute_result"
    }
   ],
   "source": [
    "#Grouping month and cap promotion attendance\n",
    "dodgers.groupby(by = ['month', 'cap'])['attend'].mean()"
   ]
  },
  {
   "cell_type": "code",
   "execution_count": 43,
   "metadata": {},
   "outputs": [
    {
     "data": {
      "text/plain": [
       "month  fireworks\n",
       "APR    0            39869.500000\n",
       "       1            38204.000000\n",
       "AUG    0            43359.083333\n",
       "       1            40321.333333\n",
       "JUL    0            42916.800000\n",
       "       1            48721.500000\n",
       "JUN    0            48752.714286\n",
       "       1            45097.500000\n",
       "MAY    0            37296.200000\n",
       "       1            37593.333333\n",
       "OCT    0            36703.666667\n",
       "SEP    0            39016.100000\n",
       "       1            38650.000000\n",
       "Name: attend, dtype: float64"
      ]
     },
     "execution_count": 43,
     "metadata": {},
     "output_type": "execute_result"
    }
   ],
   "source": [
    "#Grouping month and fireworks promotion attendance\n",
    "dodgers.groupby(by = ['month', 'fireworks'])['attend'].mean()"
   ]
  }
 ],
 "metadata": {
  "kernelspec": {
   "display_name": "Python 3",
   "language": "python",
   "name": "python3"
  },
  "language_info": {
   "codemirror_mode": {
    "name": "ipython",
    "version": 3
   },
   "file_extension": ".py",
   "mimetype": "text/x-python",
   "name": "python",
   "nbconvert_exporter": "python",
   "pygments_lexer": "ipython3",
   "version": "3.8.3"
  }
 },
 "nbformat": 4,
 "nbformat_minor": 4
}
