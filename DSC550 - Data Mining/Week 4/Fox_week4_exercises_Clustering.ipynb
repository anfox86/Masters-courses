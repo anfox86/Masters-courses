{
 "cells": [
  {
   "cell_type": "markdown",
   "metadata": {},
   "source": [
    "```\n",
    "Name: Andrea Fox\n",
    "Date: July 2, 2020\n",
    "Section: DSC550-T301\n",
    "Assignment: Week 4 Exercises - Clustering\n",
    "```"
   ]
  },
  {
   "cell_type": "markdown",
   "metadata": {},
   "source": [
    "# 1 - Expectation Maximization Clustering"
   ]
  },
  {
   "cell_type": "markdown",
   "metadata": {},
   "source": [
    "```\n",
    "Write a script that implements the Expectation-Maximization (EM) algorithm for clustering (see Algorithm 13.3 in Chapter 13). Run the code on the iris.txt dataset. Use the first four attributes for clustering, and use the labels only for the purity-based clustering evaluation (see below). In your implementation, you should estimate the full covariance matrix for each cluster.\n",
    "\n",
    "For EM initialization, use the first n/k points for cluster 1, the next n/k for cluster 2, and so on. For convergence testing, you can compare the sum of the euclidean distance between the old means and the new means over the k clusters. If this distance is less than ϵ=0.001 you can stop the method.\n",
    "\n",
    "Your program output should consist of the following information:\n",
    "\n",
    "* The final mean for each cluster\n",
    "* The final covariance matrix for each cluster\n",
    "* Number of iterations the EM algorithm took to converge.\n",
    "* Final cluster assignment of all the points, where each point will be assigned to the cluster that yields the highest probability P(Ci|xj)\n",
    "* Final size of each cluster\n",
    "\n",
    "Finally, you must compute the 'purity score' for your clustering, computed as follows: Assume that Ci denotes the set of points assigned to cluster i by the EM algorithm, and let Ti denote the true assignments of the points based on the last attribute. Purity score is defined as:\n",
    "\n",
    "Purity=1n∑i=1kmaxkj=1{Ci∩Tj}\n",
    "```"
   ]
  },
  {
   "cell_type": "code",
   "execution_count": 5,
   "metadata": {},
   "outputs": [
    {
     "name": "stdout",
     "output_type": "stream",
     "text": [
      "Cluster 1\n",
      "Size 50\n",
      "Mean [5.006 3.418 1.464 0.244]\n",
      "Covariance Matrix:\n",
      "[0.121765 0.098292 0.015816 0.010336]\n",
      "[0.098292 0.142277 0.011448 0.011208]\n",
      "[0.015816 0.011448 0.029505 0.005584]\n",
      "[0.010336 0.011208 0.005584 0.011265]\n",
      "\n",
      "Cluster 2\n",
      "Size 55\n",
      "Mean [6.54639415 2.94946365 5.48364578 1.98726565]\n",
      "Covariance Matrix:\n",
      "[0.121765 0.098292 0.015816 0.010336]\n",
      "[0.098292 0.142277 0.011448 0.011208]\n",
      "[0.015816 0.011448 0.029505 0.005584]\n",
      "[0.010336 0.011208 0.005584 0.011265]\n",
      "\n",
      "Cluster 3\n",
      "Size 45\n",
      "Mean [5.9170732  2.77804839 4.20540364 1.29848217]\n",
      "Covariance Matrix:\n",
      "[0.121765 0.098292 0.015816 0.010336]\n",
      "[0.098292 0.142277 0.011448 0.011208]\n",
      "[0.015816 0.011448 0.029505 0.005584]\n",
      "[0.010336 0.011208 0.005584 0.011265]\n",
      "\n",
      "Iterations to Converge: 17\n",
      "Cluster assignments\n",
      "Purity: 0.9666666666666667\n",
      "       1    2    3    4  Cluster Assignments\n",
      "0    5.9  3.0  4.2  1.5                    2\n",
      "1    6.9  3.1  4.9  1.5                    2\n",
      "2    6.6  2.9  4.6  1.3                    2\n",
      "3    4.6  3.2  1.4  0.2                    0\n",
      "4    6.0  2.2  4.0  1.0                    2\n",
      "5    4.7  3.2  1.3  0.2                    0\n",
      "6    6.5  3.0  5.8  2.2                    1\n",
      "7    5.8  2.7  5.1  1.9                    1\n",
      "8    6.7  3.1  5.6  2.4                    1\n",
      "9    6.7  2.5  5.8  1.8                    1\n",
      "10   5.1  3.7  1.5  0.4                    0\n",
      "11   5.1  3.8  1.5  0.3                    0\n",
      "12   5.7  3.0  4.2  1.2                    2\n",
      "13   6.1  3.0  4.9  1.8                    1\n",
      "14   4.9  3.1  1.5  0.1                    0\n",
      "15   5.0  3.4  1.6  0.4                    0\n",
      "16   5.0  3.4  1.5  0.2                    0\n",
      "17   5.7  2.8  4.1  1.3                    2\n",
      "18   5.0  3.3  1.4  0.2                    0\n",
      "19   7.2  3.2  6.0  1.8                    1\n",
      "20   5.9  3.0  5.1  1.8                    1\n",
      "21   6.5  3.0  5.2  2.0                    1\n",
      "22   5.7  4.4  1.5  0.4                    0\n",
      "23   5.5  2.5  4.0  1.3                    2\n",
      "24   4.9  2.5  4.5  1.7                    1\n",
      "25   5.0  3.5  1.6  0.6                    0\n",
      "26   5.5  2.3  4.0  1.3                    2\n",
      "27   4.6  3.1  1.5  0.2                    0\n",
      "28   7.2  3.0  5.8  1.6                    1\n",
      "29   6.8  3.2  5.9  2.3                    1\n",
      "30   5.4  3.9  1.3  0.4                    0\n",
      "31   5.0  3.2  1.2  0.2                    0\n",
      "32   5.7  2.5  5.0  2.0                    1\n",
      "33   5.8  2.6  4.0  1.2                    2\n",
      "34   5.1  2.5  3.0  1.1                    2\n",
      "35   5.6  2.5  3.9  1.1                    2\n",
      "36   5.8  2.7  4.1  1.0                    2\n",
      "37   5.1  3.8  1.9  0.4                    0\n",
      "38   6.3  2.3  4.4  1.3                    2\n",
      "39   6.3  2.5  5.0  1.9                    1\n",
      "40   5.6  3.0  4.5  1.5                    2\n",
      "41   6.1  3.0  4.6  1.4                    2\n",
      "42   6.8  3.0  5.5  2.1                    1\n",
      "43   7.3  2.9  6.3  1.8                    1\n",
      "44   5.6  2.7  4.2  1.3                    2\n",
      "45   4.8  3.0  1.4  0.1                    0\n",
      "46   7.1  3.0  5.9  2.1                    1\n",
      "47   5.7  2.6  3.5  1.0                    2\n",
      "48   5.3  3.7  1.5  0.2                    0\n",
      "49   5.7  3.8  1.7  0.3                    0\n",
      "50   5.7  2.9  4.2  1.3                    2\n",
      "51   5.6  2.8  4.9  2.0                    1\n",
      "52   4.4  3.0  1.3  0.2                    0\n",
      "53   6.3  3.3  6.0  2.5                    1\n",
      "54   5.4  3.4  1.5  0.4                    0\n",
      "55   6.3  3.4  5.6  2.4                    1\n",
      "56   6.9  3.1  5.4  2.1                    1\n",
      "57   7.7  3.0  6.1  2.3                    1\n",
      "58   6.1  2.8  4.7  1.2                    2\n",
      "59   5.6  2.9  3.6  1.3                    2\n",
      "60   6.1  2.6  5.6  1.4                    1\n",
      "61   6.4  2.7  5.3  1.9                    1\n",
      "62   5.0  3.5  1.3  0.3                    0\n",
      "63   5.1  3.3  1.7  0.5                    0\n",
      "64   5.6  3.0  4.1  1.3                    2\n",
      "65   5.4  3.0  4.5  1.5                    2\n",
      "66   5.8  2.8  5.1  2.4                    1\n",
      "67   4.9  3.1  1.5  0.1                    0\n",
      "68   4.6  3.6  1.0  0.2                    0\n",
      "69   5.2  3.4  1.4  0.2                    0\n",
      "70   7.9  3.8  6.4  2.0                    1\n",
      "71   7.7  2.6  6.9  2.3                    1\n",
      "72   6.1  2.8  4.0  1.3                    2\n",
      "73   5.5  3.5  1.3  0.2                    0\n",
      "74   4.6  3.4  1.4  0.3                    0\n",
      "75   4.7  3.2  1.6  0.2                    0\n",
      "76   4.4  2.9  1.4  0.2                    0\n",
      "77   6.2  2.8  4.8  1.8                    1\n",
      "78   4.8  3.0  1.4  0.3                    0\n",
      "79   6.0  2.9  4.5  1.5                    2\n",
      "80   6.2  3.4  5.4  2.3                    1\n",
      "81   5.0  2.3  3.3  1.0                    2\n",
      "82   6.4  3.2  4.5  1.5                    2\n",
      "83   6.3  2.9  5.6  1.8                    1\n",
      "84   6.7  3.0  5.0  1.7                    1\n",
      "85   5.0  2.0  3.5  1.0                    2\n",
      "86   5.9  3.2  4.8  1.8                    1\n",
      "87   6.7  3.3  5.7  2.5                    1\n",
      "88   5.4  3.9  1.7  0.4                    0\n",
      "89   6.3  2.7  4.9  1.8                    1\n",
      "90   4.8  3.4  1.6  0.2                    0\n",
      "91   4.4  3.2  1.3  0.2                    0\n",
      "92   6.4  3.2  5.3  2.3                    1\n",
      "93   6.2  2.2  4.5  1.5                    1\n",
      "94   6.0  2.2  5.0  1.5                    1\n",
      "95   7.4  2.8  6.1  1.9                    1\n",
      "96   4.9  2.4  3.3  1.0                    2\n",
      "97   7.0  3.2  4.7  1.4                    2\n",
      "98   5.5  2.4  3.7  1.0                    2\n",
      "99   6.3  3.3  4.7  1.6                    2\n",
      "100  6.8  2.8  4.8  1.4                    2\n",
      "101  6.1  2.9  4.7  1.4                    2\n",
      "102  6.5  3.2  5.1  2.0                    1\n",
      "103  6.7  3.3  5.7  2.1                    1\n",
      "104  6.7  3.1  4.4  1.4                    2\n",
      "105  4.8  3.4  1.9  0.2                    0\n",
      "106  4.9  3.0  1.4  0.2                    0\n",
      "107  6.9  3.2  5.7  2.3                    1\n",
      "108  4.5  2.3  1.3  0.3                    0\n",
      "109  4.3  3.0  1.1  0.1                    0\n",
      "110  5.2  2.7  3.9  1.4                    2\n",
      "111  5.0  3.6  1.4  0.2                    0\n",
      "112  6.4  2.9  4.3  1.3                    2\n",
      "113  5.2  3.5  1.5  0.2                    0\n",
      "114  5.8  2.7  3.9  1.2                    2\n",
      "115  5.5  4.2  1.4  0.2                    0\n",
      "116  7.6  3.0  6.6  2.1                    1\n",
      "117  6.3  2.8  5.1  1.5                    1\n",
      "118  6.4  3.1  5.5  1.8                    1\n",
      "119  6.3  2.5  4.9  1.5                    1\n",
      "120  5.8  2.7  5.1  1.9                    1\n",
      "121  5.0  3.0  1.6  0.2                    0\n",
      "122  6.7  3.1  4.7  1.5                    2\n",
      "123  6.0  2.7  5.1  1.6                    1\n",
      "124  5.1  3.5  1.4  0.2                    0\n",
      "125  4.8  3.1  1.6  0.2                    0\n",
      "126  5.7  2.8  4.5  1.3                    2\n",
      "127  5.1  3.8  1.6  0.2                    0\n",
      "128  6.6  3.0  4.4  1.4                    2\n",
      "129  6.4  2.8  5.6  2.1                    1\n",
      "130  5.2  4.1  1.5  0.1                    0\n",
      "131  6.4  2.8  5.6  2.2                    1\n",
      "132  7.7  2.8  6.7  2.0                    1\n",
      "133  5.8  4.0  1.2  0.2                    0\n",
      "134  4.9  3.1  1.5  0.1                    0\n",
      "135  5.4  3.7  1.5  0.2                    0\n",
      "136  5.1  3.5  1.4  0.3                    0\n",
      "137  6.0  3.4  4.5  1.6                    2\n",
      "138  6.5  3.0  5.5  1.8                    1\n",
      "139  5.5  2.4  3.8  1.1                    2\n",
      "140  7.2  3.6  6.1  2.5                    1\n",
      "141  6.9  3.1  5.1  2.3                    1\n",
      "142  6.2  2.9  4.3  1.3                    2\n",
      "143  6.5  2.8  4.6  1.5                    2\n",
      "144  6.0  3.0  4.8  1.8                    1\n",
      "145  5.4  3.4  1.7  0.2                    0\n",
      "146  5.5  2.6  4.4  1.2                    2\n",
      "147  6.7  3.0  5.2  2.3                    1\n",
      "148  7.7  3.8  6.7  2.2                    1\n",
      "149  5.1  3.4  1.5  0.2                    0\n"
     ]
    }
   ],
   "source": [
    "#Used this for reference https://scikit-learn.org/stable/modules/generated/sklearn.mixture.GaussianMixture.html\n",
    "#Also worked with Sam on this. I kept running into a problem with cluster_assignments\n",
    "\n",
    "from sklearn.mixture import GaussianMixture\n",
    "import pandas as pd\n",
    "import numpy as np\n",
    "pd.set_option(\"display.max_rows\", None, \"display.max_columns\", None)\n",
    "\n",
    "#Function to take cluster assignments and truth label objects, create confusion matrix, and return purity\n",
    "#Reference https://datatofish.com/confusion-matrix-python/\n",
    "def compute_purity(cluster_assignments, labels):\n",
    "    confusion_df = pd.DataFrame({'Predicted': cluster_assignments, 'Actual': labels})\n",
    "    confusion_matrix = pd.crosstab(confusion_df['Predicted'],confusion_df['Actual'],\n",
    "                                   rownames = ['Predicted'], colnames = ['Actual'])\n",
    "    #Purity variable, which looks at sum of maxes of cluster assignments and divides by number of points\n",
    "    purity = np.sum(confusion_matrix.max(axis = 1)) / df.shape[0]\n",
    "    return purity\n",
    "#Loading in the iris data\n",
    "df = pd.read_csv('iris.txt', header = None, names = [1,2,3,4,'Label'])\n",
    "df_noLabel = df.drop('Label', axis = 1)\n",
    "labels = df['Label']\n",
    "\n",
    "#Establishing number of clusters\n",
    "k = len(labels.unique())\n",
    "\n",
    "#Threshold given in problem\n",
    "eps = 0.001\n",
    "\n",
    "#Fitting the model with sklearn\n",
    "gmm = GaussianMixture(n_components = k, tol = eps)\n",
    "gmm.fit(df_noLabel)\n",
    "\n",
    "#Get predictions\n",
    "cluster_assignments = gmm.predict(df_noLabel)\n",
    "df_noLabel['Cluster Assignments'] = cluster_assignments\n",
    "\n",
    "#Print the results\n",
    "for cluster in range(k):\n",
    "    print('Cluster {}'.format(cluster+1))\n",
    "    print('Size {}'.format(len(df_noLabel[df_noLabel['Cluster Assignments']==cluster])))\n",
    "    print('Mean {}'.format(gmm.means_[cluster]))\n",
    "    print('Covariance Matrix:')\n",
    "    for row in gmm.covariances_[0]:\n",
    "        print(row)\n",
    "    print('')\n",
    "    \n",
    "print('Iterations to Converge: {}'.format(gmm.n_iter_))\n",
    "print('Cluster assignments')\n",
    "print('Purity: {}'.format(compute_purity(cluster_assignments, labels)))\n",
    "print(df_noLabel)\n"
   ]
  },
  {
   "cell_type": "markdown",
   "metadata": {},
   "source": [
    "# 2 - Density Based Clustering: DENCLUE"
   ]
  },
  {
   "cell_type": "markdown",
   "metadata": {},
   "source": [
    "```\n",
    "Write a script to implement the DENCLUE density-based clustering algorithm Algorithm 15.2 in chapter 15. The script should take as input a dataset D, the minimum density ξ, the tolerance for convergence ϵ, and the width h. Do not make any assumptions about the data (i.e., column names, etc), except that the last column gives the \"true\" cluster id.\n",
    "\n",
    "Run your script on the iris.txt dataset, with ϵ=0.0001. Your script should output the following:\n",
    "\n",
    "The number of clusters, and the size of each cluster.\n",
    "The density attractor, followed by the set of point in that cluster.\n",
    "Purity of the clustering, based on the true id.\n",
    "For Iris, you should use a value of ξ that gives you 3 clusters in the end, i.e., try different values and then finally report only the results for the value that gives you 3 clusters, since there are 3 true clusters in the data. Select the value of h empirically.\n",
    "\n",
    "To speed up the computation for estimating the density at a point, you may want to first identify the K nearest neighbors, and use only those neighbors.\n",
    "```"
   ]
  },
  {
   "cell_type": "code",
   "execution_count": 26,
   "metadata": {},
   "outputs": [
    {
     "name": "stdout",
     "output_type": "stream",
     "text": [
      "Requirement already satisfied: networkx==1.11 in c:\\users\\andrea\\onedrive\\anaconda3\\lib\\site-packages (1.11)\n",
      "Requirement already satisfied: decorator>=3.4.0 in c:\\users\\andrea\\onedrive\\anaconda3\\lib\\site-packages (from networkx==1.11) (4.4.1)\n"
     ]
    }
   ],
   "source": [
    "!pip install networkx==1.11\n",
    "#Vilius messaged our Tuesday group and told us we had to update version of networkx to make it work"
   ]
  },
  {
   "cell_type": "code",
   "execution_count": 52,
   "metadata": {},
   "outputs": [
    {
     "name": "stdout",
     "output_type": "stream",
     "text": [
      "Final Number of Clusters: 3\n",
      "Purity: 0.88 \n",
      "\n",
      "Cluster: 0\n",
      "Size of Cluster: 68\n",
      "Density Attractor: [6.18843436 2.89824105 4.71897548 1.56280594]\n",
      "Points in Each Cluster: \n",
      "        1    2    3    4           Labels Cluster\n",
      "0    5.9  3.0  4.2  1.5  Iris-versicolor       0\n",
      "1    6.9  3.1  4.9  1.5  Iris-versicolor       0\n",
      "2    6.6  2.9  4.6  1.3  Iris-versicolor       0\n",
      "4    6.0  2.2  4.0  1.0  Iris-versicolor       0\n",
      "7    5.8  2.7  5.1  1.9   Iris-virginica       0\n",
      "..   ...  ...  ...  ...              ...     ...\n",
      "139  5.5  2.4  3.8  1.1  Iris-versicolor       0\n",
      "142  6.2  2.9  4.3  1.3  Iris-versicolor       0\n",
      "143  6.5  2.8  4.6  1.5  Iris-versicolor       0\n",
      "144  6.0  3.0  4.8  1.8   Iris-virginica       0\n",
      "146  5.5  2.6  4.4  1.2  Iris-versicolor       0\n",
      "\n",
      "[68 rows x 6 columns] \n",
      "\n",
      "Cluster: 1\n",
      "Size of Cluster: 50\n",
      "Density Attractor: [4.9747532  3.35428642 1.47776422 0.23667237]\n",
      "Points in Each Cluster: \n",
      "        1    2    3    4       Labels Cluster\n",
      "3    4.6  3.2  1.4  0.2  Iris-setosa       1\n",
      "5    4.7  3.2  1.3  0.2  Iris-setosa       1\n",
      "10   5.1  3.7  1.5  0.4  Iris-setosa       1\n",
      "11   5.1  3.8  1.5  0.3  Iris-setosa       1\n",
      "14   4.9  3.1  1.5  0.1  Iris-setosa       1\n",
      "15   5.0  3.4  1.6  0.4  Iris-setosa       1\n",
      "16   5.0  3.4  1.5  0.2  Iris-setosa       1\n",
      "18   5.0  3.3  1.4  0.2  Iris-setosa       1\n",
      "22   5.7  4.4  1.5  0.4  Iris-setosa       1\n",
      "25   5.0  3.5  1.6  0.6  Iris-setosa       1\n",
      "27   4.6  3.1  1.5  0.2  Iris-setosa       1\n",
      "30   5.4  3.9  1.3  0.4  Iris-setosa       1\n",
      "31   5.0  3.2  1.2  0.2  Iris-setosa       1\n",
      "37   5.1  3.8  1.9  0.4  Iris-setosa       1\n",
      "45   4.8  3.0  1.4  0.1  Iris-setosa       1\n",
      "48   5.3  3.7  1.5  0.2  Iris-setosa       1\n",
      "49   5.7  3.8  1.7  0.3  Iris-setosa       1\n",
      "52   4.4  3.0  1.3  0.2  Iris-setosa       1\n",
      "54   5.4  3.4  1.5  0.4  Iris-setosa       1\n",
      "62   5.0  3.5  1.3  0.3  Iris-setosa       1\n",
      "63   5.1  3.3  1.7  0.5  Iris-setosa       1\n",
      "67   4.9  3.1  1.5  0.1  Iris-setosa       1\n",
      "68   4.6  3.6  1.0  0.2  Iris-setosa       1\n",
      "69   5.2  3.4  1.4  0.2  Iris-setosa       1\n",
      "73   5.5  3.5  1.3  0.2  Iris-setosa       1\n",
      "74   4.6  3.4  1.4  0.3  Iris-setosa       1\n",
      "75   4.7  3.2  1.6  0.2  Iris-setosa       1\n",
      "76   4.4  2.9  1.4  0.2  Iris-setosa       1\n",
      "78   4.8  3.0  1.4  0.3  Iris-setosa       1\n",
      "88   5.4  3.9  1.7  0.4  Iris-setosa       1\n",
      "90   4.8  3.4  1.6  0.2  Iris-setosa       1\n",
      "91   4.4  3.2  1.3  0.2  Iris-setosa       1\n",
      "105  4.8  3.4  1.9  0.2  Iris-setosa       1\n",
      "106  4.9  3.0  1.4  0.2  Iris-setosa       1\n",
      "108  4.5  2.3  1.3  0.3  Iris-setosa       1\n",
      "109  4.3  3.0  1.1  0.1  Iris-setosa       1\n",
      "111  5.0  3.6  1.4  0.2  Iris-setosa       1\n",
      "113  5.2  3.5  1.5  0.2  Iris-setosa       1\n",
      "115  5.5  4.2  1.4  0.2  Iris-setosa       1\n",
      "121  5.0  3.0  1.6  0.2  Iris-setosa       1\n",
      "124  5.1  3.5  1.4  0.2  Iris-setosa       1\n",
      "125  4.8  3.1  1.6  0.2  Iris-setosa       1\n",
      "127  5.1  3.8  1.6  0.2  Iris-setosa       1\n",
      "130  5.2  4.1  1.5  0.1  Iris-setosa       1\n",
      "133  5.8  4.0  1.2  0.2  Iris-setosa       1\n",
      "134  4.9  3.1  1.5  0.1  Iris-setosa       1\n",
      "135  5.4  3.7  1.5  0.2  Iris-setosa       1\n",
      "136  5.1  3.5  1.4  0.3  Iris-setosa       1\n",
      "145  5.4  3.4  1.7  0.2  Iris-setosa       1\n",
      "149  5.1  3.4  1.5  0.2  Iris-setosa       1 \n",
      "\n",
      "Cluster: 2\n",
      "Size of Cluster: 32\n",
      "Density Attractor: [6.43604049 2.96603323 5.28859997 1.95415606]\n",
      "Points in Each Cluster: \n",
      "        1    2    3    4          Labels Cluster\n",
      "6    6.5  3.0  5.8  2.2  Iris-virginica       2\n",
      "8    6.7  3.1  5.6  2.4  Iris-virginica       2\n",
      "9    6.7  2.5  5.8  1.8  Iris-virginica       2\n",
      "19   7.2  3.2  6.0  1.8  Iris-virginica       2\n",
      "28   7.2  3.0  5.8  1.6  Iris-virginica       2\n",
      "29   6.8  3.2  5.9  2.3  Iris-virginica       2\n",
      "42   6.8  3.0  5.5  2.1  Iris-virginica       2\n",
      "43   7.3  2.9  6.3  1.8  Iris-virginica       2\n",
      "46   7.1  3.0  5.9  2.1  Iris-virginica       2\n",
      "53   6.3  3.3  6.0  2.5  Iris-virginica       2\n",
      "55   6.3  3.4  5.6  2.4  Iris-virginica       2\n",
      "56   6.9  3.1  5.4  2.1  Iris-virginica       2\n",
      "57   7.7  3.0  6.1  2.3  Iris-virginica       2\n",
      "70   7.9  3.8  6.4  2.0  Iris-virginica       2\n",
      "71   7.7  2.6  6.9  2.3  Iris-virginica       2\n",
      "80   6.2  3.4  5.4  2.3  Iris-virginica       2\n",
      "83   6.3  2.9  5.6  1.8  Iris-virginica       2\n",
      "87   6.7  3.3  5.7  2.5  Iris-virginica       2\n",
      "92   6.4  3.2  5.3  2.3  Iris-virginica       2\n",
      "95   7.4  2.8  6.1  1.9  Iris-virginica       2\n",
      "103  6.7  3.3  5.7  2.1  Iris-virginica       2\n",
      "107  6.9  3.2  5.7  2.3  Iris-virginica       2\n",
      "116  7.6  3.0  6.6  2.1  Iris-virginica       2\n",
      "118  6.4  3.1  5.5  1.8  Iris-virginica       2\n",
      "129  6.4  2.8  5.6  2.1  Iris-virginica       2\n",
      "131  6.4  2.8  5.6  2.2  Iris-virginica       2\n",
      "132  7.7  2.8  6.7  2.0  Iris-virginica       2\n",
      "138  6.5  3.0  5.5  1.8  Iris-virginica       2\n",
      "140  7.2  3.6  6.1  2.5  Iris-virginica       2\n",
      "141  6.9  3.1  5.1  2.3  Iris-virginica       2\n",
      "147  6.7  3.0  5.2  2.3  Iris-virginica       2\n",
      "148  7.7  3.8  6.7  2.2  Iris-virginica       2 \n",
      "\n"
     ]
    },
    {
     "name": "stderr",
     "output_type": "stream",
     "text": [
      "C:\\Users\\Andrea\\OneDrive\\Anaconda3\\lib\\site-packages\\ipykernel_launcher.py:171: SettingWithCopyWarning: \n",
      "A value is trying to be set on a copy of a slice from a DataFrame\n",
      "\n",
      "See the caveats in the documentation: https://pandas.pydata.org/pandas-docs/stable/user_guide/indexing.html#returning-a-view-versus-a-copy\n"
     ]
    }
   ],
   "source": [
    "#Referenced https://github.com/nanzai9996/kernel_trick-and_denclue_and_decison_tree-/blob/master/denclue.py for the majority of this\n",
    "#Referenced https://github.com/mgarrett57/DENCLUE/blob/master/denclue.py\n",
    "#Also got some help from Torrey on the networkx install update and purity score\n",
    "\n",
    "import numpy as np\n",
    "from sklearn.base import BaseEstimator, ClusterMixin\n",
    "import networkx as nx\n",
    "import pandas as pd\n",
    "from scipy.spatial import distance\n",
    "#Function climbs the \"hill\" of kernel density function and finds \"peak\", which represents the density attractor\n",
    "def _hill_climb(x_t, X, W=None, h=0.36, eps=0.0001):\n",
    "    error = 99.\n",
    "    prob = 0.\n",
    "    x_l1 = np.copy(x_t)   #X(t+1)\n",
    "    radius_new = 0.\n",
    "    radius_old = 0.\n",
    "    radius_twiceold = 0.\n",
    "    iters = 0.\n",
    "    while True:\n",
    "        radius_thriceold = radius_twiceold\n",
    "        radius_twiceold = radius_old\n",
    "        radius_old = radius_new\n",
    "        x_l0 = np.copy(x_l1)       #X(t)\n",
    "        x_l1, density = _step(x_l0, X, W=W, h=h)\n",
    "        error = density - prob\n",
    "        prob = density\n",
    "        radius_new = np.linalg.norm(x_l1 - x_l0)\n",
    "        radius = radius_thriceold + radius_twiceold + radius_old + radius_new\n",
    "        iters += 1\n",
    "        if iters > 3 and error < eps:\n",
    "            break\n",
    "    return [x_l1, prob, radius]\n",
    "\n",
    "def _step(x_l0, X, W=None, h=0.36):\n",
    "    n = X.shape[0]\n",
    "    d = X.shape[1]\n",
    "    superweight = 0.  # superweight is the kernel X weight for each item\n",
    "    x_l1 = np.zeros((1, d))\n",
    "    if W is None:\n",
    "        W = np.ones((n, 1))\n",
    "    else:\n",
    "        W = W\n",
    "    for j in range(n):\n",
    "        kernel = kernelize(x_l0, X[j], h, d)\n",
    "        kernel = kernel * W[j] / (h ** d)\n",
    "        superweight = superweight + kernel\n",
    "        x_l1 = x_l1 + (kernel * X[j])\n",
    "    x_l1 = x_l1 / superweight\n",
    "    density = superweight / np.sum(W)\n",
    "    return [x_l1, density]\n",
    "\n",
    "def kernelize(x, y, h, degree):\n",
    "    kernel = np.exp(-(np.linalg.norm(x - y) / h) ** 2. / 2.) / ((2. * np.pi) ** (degree / 2))\n",
    "    return kernel\n",
    "\n",
    "\n",
    "#Performs DENCLUE clustering from vector arrayusing h, eps, min_density, metric\n",
    "#References Hinneburg A., Gabriel HH. \"DENCLUE 2.0: Fast Clustering Based on Kernel, Density Estimation\". In: R. Berthold M., Shawe-Taylor J., Lavrač N. (eds), and Advances in Intelligent Data Analysis VII. IDA 2007\n",
    "class DENCLUE(BaseEstimator, ClusterMixin):\n",
    "    def __init__(self, h=None, eps=1e-8, min_density=0., metric='euclidean'):\n",
    "        self.h = h\n",
    "        self.eps = eps\n",
    "        self.min_density = min_density\n",
    "        self.metric = metric\n",
    "\n",
    "    def classify(self, X, y=None, sample_weight=None):\n",
    "        if not self.eps > 0.0:\n",
    "            raise ValueError(\"eps must be positive.\")\n",
    "        self.n_samples = X.shape[0]\n",
    "        self.n_features = X.shape[1]\n",
    "        density_attractors = np.zeros((self.n_samples, self.n_features))\n",
    "        radii = np.zeros((self.n_samples, 1))\n",
    "        density = np.zeros((self.n_samples, 1))\n",
    "\n",
    "        #Creates default values\n",
    "        if self.h is None:\n",
    "            self.h = np.std(X) / 5\n",
    "        if sample_weight is None:\n",
    "            sample_weight = np.ones((self.n_samples, 1))\n",
    "        else:\n",
    "            sample_weight = sample_weight\n",
    "        #Initalize all labels to noise\n",
    "        labels = -np.ones(X.shape[0])\n",
    "        #Climb each hill\n",
    "        for i in range(self.n_samples):\n",
    "            density_attractors[i], density[i], radii[i] = _hill_climb(X[i], X, W=sample_weight,\n",
    "                                                                      h=self.h, eps=self.eps)\n",
    "        #Initialize cluster graph to finalize clusters\n",
    "        cluster_info = {}\n",
    "        num_clusters = 0\n",
    "        cluster_info[num_clusters] = {'instances': [0],\n",
    "                                      'centroid': np.atleast_2d(density_attractors[0])}\n",
    "        g_clusters = nx.Graph()\n",
    "        for j1 in range(self.n_samples):\n",
    "            g_clusters.add_node(j1, attr_dict={'attractor':density_attractors[j1], 'radius':radii[j1],\n",
    "                                'density':density[j1]})\n",
    "        #Populate cluster graph\n",
    "        for j1 in range(self.n_samples):\n",
    "            for j2 in (x for x in range(self.n_samples) if x != j1):\n",
    "                if g_clusters.has_edge(j1, j2):\n",
    "                    continue\n",
    "                diff = np.linalg.norm(g_clusters.node[j1]['attractor'] - g_clusters.node[j2]['attractor'])\n",
    "                if diff <= (g_clusters.node[j1]['radius'] + g_clusters.node[j1]['radius']):\n",
    "                    g_clusters.add_edge(j1, j2)\n",
    "        #Connected components represent a cluster\n",
    "        clusters = list(nx.connected_component_subgraphs(g_clusters))\n",
    "        num_clusters = 0\n",
    "        #Loop through all connected components\n",
    "        for clust in clusters:\n",
    "            #Get maximum density of attractors and location\n",
    "            max_instance = max(clust, key=lambda x: clust.node[x]['density'])\n",
    "            max_density = clust.node[max_instance]['density']\n",
    "            max_centroid = clust.node[max_instance]['attractor']\n",
    "            complete = False\n",
    "            c_size = len(clust.nodes())\n",
    "            if clust.number_of_edges() == (c_size * (c_size - 1)) / 2.:\n",
    "                complete = True\n",
    "            #Populate cluster_info dict\n",
    "            cluster_info[num_clusters] = {'instances': clust.nodes(),\n",
    "                                          'size': c_size,\n",
    "                                          'centroid': max_centroid,\n",
    "                                          'density': max_density,\n",
    "                                          'complete': complete}\n",
    "            #If the cluster density is not higher than the minimum\n",
    "            if max_density >= self.min_density:\n",
    "                labels[clust.nodes()] = num_clusters\n",
    "            num_clusters += 1\n",
    "        self.clust_info_ = cluster_info\n",
    "        self.labels_ = labels\n",
    "        return self\n",
    "#Function to return purity of clusters \n",
    "def purity_true_id(true_id, instances):\n",
    "    # Get n from instances argument\n",
    "    n = 0\n",
    "    for points in instances:\n",
    "        n += len(points)\n",
    "       \n",
    "    temp_sum = 0 # Running sum for calculation\n",
    "   \n",
    "    # Iterate through instances to find the max intersection between true id and instances\n",
    "    for cluster in range(len(instances)):\n",
    "        max_cluster = 0\n",
    "        for i in range(len(true_id)):\n",
    "            max_check = len(list(set(instances[cluster]).intersection(true_id[i])))\n",
    "            if max_check > max_cluster:\n",
    "                max_cluster = max_check\n",
    "        temp_sum += max_cluster\n",
    "   \n",
    "    # Divide sum of max intersetions by n\n",
    "    purity = temp_sum / n\n",
    "   \n",
    "    return purity\n",
    "#Loading in data and setting variables needed\n",
    "iris = pd.read_csv('iris.txt', header = None)\n",
    "data = iris[[0,1,2,3,4]].values\n",
    "samples = np.mat(data[:,0:4])\n",
    "true_labels=data[:,-1]\n",
    "labels = list(set(true_labels))\n",
    "true_id = np.zeros((3, 50))\n",
    "index = range(len(true_labels))\n",
    "for i in range(len(labels)):\n",
    "    true_id[i]=[j for j in index if true_labels[j]==labels[i]]\n",
    "d = DENCLUE(0.36, .0001, .13)\n",
    "d.classify(samples)\n",
    "results = d.clust_info_\n",
    "# Add cluster classifications to pandas df\n",
    "iris = iris.rename(columns = {0:1, 1:2, 2:3, 3:4, 4:'Labels'})\n",
    "iris['Cluster'] = \"\"\n",
    "for cluster in range(len(results)):\n",
    "    for point in results[cluster]['instances']:\n",
    "                  iris['Cluster'][point] = cluster\n",
    "            \n",
    "# Create instances array to compare to True ID\n",
    "instances = []\n",
    "for cluster in range(len(results)):\n",
    "    instances.append(results[cluster]['instances'])\n",
    "#Printing out final results\n",
    "print('Final Number of Clusters: {}'.format(len(results)))\n",
    "print('Purity: {} \\n'.format(purity_true_id(true_id, instances)))\n",
    "for cluster in range(len(results)):\n",
    "    print('Cluster: {}'.format(cluster))\n",
    "    print('Size of Cluster: {}'.format(results[cluster]['size']))\n",
    "    print('Density Attractor: {}'.format(results[cluster]['centroid']))\n",
    "    print('Points in Each Cluster: \\n {} \\n'.format(iris[iris['Cluster']==cluster]))"
   ]
  },
  {
   "cell_type": "markdown",
   "metadata": {},
   "source": [
    "# 3 - Clustering"
   ]
  },
  {
   "cell_type": "markdown",
   "metadata": {},
   "source": [
    "```\n",
    "The data for this portion of the assignment will be the Iris flower dataset. The dataset consists of 50 samples from each of three species of Iris, with four features measured from each sample.scikit-learn provides a function to load the dataset (no download required).\n",
    "\n",
    "The Idea: Choosing k for k-means\n",
    "\n",
    "Your objective here will be to assess the performance of k-means clustering on the Iris dataset. Recall that the number of clusters, k, is an input parameter to the k-means algorithm. A variety of measurements are available for estimating the optimal value of k. For this assignment, you will look at the sum of squared deviation (SSQ) and the gap statistic. Both of these criteria make use of the intuition that k-means tries to minimize variance (the distance or deviation of each point from each of the k clusters) by iteratively assigning points to their nearest clusters.\n",
    "\n",
    "Choosing k with SSQ\n",
    "\n",
    "The SSQ criterion is a direct application of the intuition that k-means tries to minimize variance. Recall that the SSQ criterion sweeps over a range of possible k values, with each value of k associated with a degree of deviation (the distance of each point from each of the k clusters). These deviations can be squared and summed to arrive at the “sum of squared deviation” (SSQ) for each value of k. Larger values of k are expected to continue to reduce the SSQ (because there are more clusters for points to be near, reducing their deviation). However, one could expect a leveling-off in the SSQ once the value of k exceeds the true number of clusters, as this would result in true clusters (that is, clusters actually present in the data) being separated. If, then, one plots the SSQ over a range of k values, this leveling-off point may produce a noticeable “elbow” in the plot. By this criterion, the estimated optimal value of k is that which occurs at this elbow point. While simple, the difficulty with this criterion is that often the elbow point is not distinctive or well-defined.\n",
    "\n",
    "What to Provide\n",
    "\n",
    "Your output should contain the following:\n",
    "\n",
    "* The SSQs computed fork values between 1 and 10 (inclusive). There should be one plot corresponding to the SSQs.\n",
    "* The gap statistics computed fork values between 1 and 10 (inclusive). There should be two plots corresponding to the gap statistics.\n",
    "\n",
    "Given this output, respond to the following questions:\n",
    "```"
   ]
  },
  {
   "cell_type": "markdown",
   "metadata": {},
   "source": [
    "#### 1 - SSQ"
   ]
  },
  {
   "cell_type": "code",
   "execution_count": 1,
   "metadata": {},
   "outputs": [
    {
     "name": "stdout",
     "output_type": "stream",
     "text": [
      "Clusters and with SSE Values\n",
      "----------------------------------------\n",
      "Clusters: 1 \tSSE: 681.3706\n",
      "Clusters: 2 \tSSE: 152.3479517603579\n",
      "Clusters: 3 \tSSE: 81.70628013582343\n",
      "Clusters: 4 \tSSE: 59.34876557610241\n",
      "Clusters: 5 \tSSE: 46.98506112266112\n",
      "Clusters: 6 \tSSE: 39.57886631746632\n",
      "Clusters: 7 \tSSE: 35.25750383733913\n",
      "Clusters: 8 \tSSE: 31.539437170672464\n",
      "Clusters: 9 \tSSE: 29.295542939903235\n",
      "Clusters: 10 \tSSE: 27.213400082760376\n"
     ]
    },
    {
     "data": {
      "image/png": "[encoded data removed]",
      "text/plain": [
       "<Figure size 432x288 with 1 Axes>"
      ]
     },
     "metadata": {
      "needs_background": "light"
     },
     "output_type": "display_data"
    }
   ],
   "source": [
    "#Referenced https://stackoverflow.com/questions/19197715/scikit-learn-k-means-elbow-criterion for most of the coding specifics. Also created functions to make nicer and after seeing Torrey's example\n",
    "import pandas as pd\n",
    "from sklearn.datasets import load_iris\n",
    "from sklearn.cluster import KMeans\n",
    "import matplotlib.pyplot as plt\n",
    "\n",
    "#Function to perform kmeans using data and number of clusters\n",
    "def sse_form(data, n):\n",
    "    sse = {}\n",
    "    for k in range(1, n+1):\n",
    "        kmeans = KMeans(n_clusters = k, max_iter = 1000).fit(data)\n",
    "        data[\"clusters\"] = kmeans.labels_\n",
    "        # Inertia: Sum of distances of samples to their closest cluster center\n",
    "        sse[k] = kmeans.inertia_\n",
    "    return(sse)\n",
    "\n",
    "#Function to print results of clusters and SSE values \n",
    "def sse_pretty(sse_values):\n",
    "    print('Clusters and with SSE Values')\n",
    "    print('-'*40)\n",
    "    for k,v in sse_values.items():\n",
    "        print('Clusters: {} \\tSSE: {}'.format(k,v))\n",
    "\n",
    "#Function to do the plot for elbow\n",
    "def elbow_plt(sse):\n",
    "    plt.figure()\n",
    "    plt.plot(list(sse.keys()), list(sse.values()))\n",
    "    plt.xlabel('Number of clusters')\n",
    "    plt.ylabel('SSE')\n",
    "    plt.show()\n",
    "\n",
    "#Main function.  \n",
    "def main():\n",
    "    try:\n",
    "        #Loading Iris dataset from sklearn datasets\n",
    "        iris = load_iris()\n",
    "        df = pd.DataFrame(iris.data, columns=iris['feature_names'])\n",
    "        k = 10 \n",
    "        #Pulling in other functions\n",
    "        sse_values = sse_form(df, k)\n",
    "        sse_pretty(sse_values)\n",
    "        elbow_plt(sse_values)\n",
    "    #Exception handling    \n",
    "    except Exception as exception:\n",
    "        print('exception')\n",
    "        # print the traceback of the exception\n",
    "        traceback.print_exc()\n",
    "        # list name of exception and any arguments\n",
    "        print('An exception of type {0} occurred.'.format(type(exception).__name__, exception.args)); \n",
    "main()\n"
   ]
  },
  {
   "cell_type": "markdown",
   "metadata": {},
   "source": [
    "#### 2 - Gap Statistics"
   ]
  },
  {
   "cell_type": "code",
   "execution_count": 7,
   "metadata": {},
   "outputs": [],
   "source": [
    "from sklearn.datasets import load_iris\n",
    "import pandas as pd\n",
    "iris = load_iris()\n",
    "df = pd.DataFrame(iris.data)\n",
    "data = df[[0,1,2,3]].values"
   ]
  },
  {
   "cell_type": "code",
   "execution_count": 8,
   "metadata": {},
   "outputs": [
    {
     "name": "stderr",
     "output_type": "stream",
     "text": [
      "C:\\Users\\Andrea\\OneDrive\\Anaconda3\\lib\\site-packages\\scipy\\cluster\\vq.py:579: UserWarning: One of the clusters is empty. Re-run kmeans with a different initialization.\n",
      "  warnings.warn(\"One of the clusters is empty. \"\n"
     ]
    },
    {
     "data": {
      "image/png": "[encoded data removed]",
      "text/plain": [
       "<Figure size 432x288 with 1 Axes>"
      ]
     },
     "metadata": {
      "needs_background": "light"
     },
     "output_type": "display_data"
    }
   ],
   "source": [
    "#Using https://github.com/hevronig/ca4ls/blob/105e2f234ea46f3e64c0a823c998eb9fecc3da4b/gap.py to compute Gap Statistics\n",
    "\n",
    "# gap.py\n",
    "# (c) 2013 Mikael Vejdemo-Johansson\n",
    "# BSD License\n",
    "#\n",
    "# SciPy function to compute the gap statistic for evaluating k-means clustering.\n",
    "# Gap statistic defined in\n",
    "# Tibshirani, Walther, Hastie:\n",
    "#  Estimating the number of clusters in a data set via the gap statistic\n",
    "#  J. R. Statist. Soc. B (2001) 63, Part 2, pp 411-423\n",
    "\n",
    "import scipy\n",
    "import scipy.cluster.vq\n",
    "import scipy.spatial.distance\n",
    "import math\n",
    "import numpy as np\n",
    "#Found out some of scipy (log, mean, diags, sqrt) was being deprecated so had to switch to using numpy for those pieces\n",
    "from numpy.lib import scimath\n",
    "dst = scipy.spatial.distance.euclidean\n",
    "\n",
    "def gap(data, refs=None, nrefs=20, ks=range(1,11)):\n",
    "    \"\"\"\n",
    "    Compute the Gap statistic for an nxm dataset in data.\n",
    "    Either give a precomputed set of reference distributions in refs as an (n,m,k) scipy array,\n",
    "    or state the number k of reference distributions in nrefs for automatic generation with a\n",
    "    uniformed distribution within the bounding box of data.\n",
    "    Give the list of k-values for which you want to compute the statistic in ks.\n",
    "    \"\"\"\n",
    "    shape = data.shape\n",
    "    if refs==None:\n",
    "        tops = data.max(axis=0)\n",
    "        bots = data.min(axis=0)\n",
    "        dists = scipy.matrix(np.diag(tops-bots))\n",
    "        rands = scipy.random.random_sample(size=(shape[0],shape[1],nrefs))\n",
    "        for i in range(nrefs):\n",
    "            rands[:,:,i] = rands[:,:,i]*dists+bots\n",
    "    else:\n",
    "        rands = refs\n",
    "\n",
    "    gaps = np.zeros((len(ks),))\n",
    "    errors = np.zeros((len(ks),))\n",
    "    labels = dict((el,[]) for el in ks)\n",
    "    for (i,k) in enumerate(ks):\n",
    "        (kmc,kml) = scipy.cluster.vq.kmeans2(data, k)\n",
    "        disp = sum([dst(data[m,:],kmc[kml[m],:]) for m in range(shape[0])])\n",
    "        labels[k] = kml\n",
    "\n",
    "        refdisps = np.zeros((rands.shape[2],))\n",
    "        for j in range(rands.shape[2]):\n",
    "            (kmc,kml) = scipy.cluster.vq.kmeans2(rands[:,:,j], k)\n",
    "            refdisps[j] = sum([dst(rands[m,:,j],kmc[kml[m],:]) for m in range(shape[0])])\n",
    "        #Compute gaps\n",
    "        gaps[i] = scimath.log(np.mean(refdisps))-scimath.log(disp)\n",
    "        #Compute errors (got this part from Torrey's example)\n",
    "        errors[i] = scimath.sqrt(sum(((scimath.log(refdisp)-np.mean(scimath.log(refdisps)))**2) \\\n",
    "                                for refdisp in refdisps)/float(nrefs)) * scimath.sqrt(1+1/nrefs)\n",
    "    return gaps, labels, errors\n",
    "\n",
    "def gap_stat_plt(gaps, errors):\n",
    "    xval = range(1, len(gaps)+1)\n",
    "    yval = gaps\n",
    "    plt.errorbar(xval, yval, xerr= None, yerr = errors)\n",
    "    plt.xlabel('K Clusters')\n",
    "    plt.ylabel('Gap')\n",
    "    plt.title('Gap Statistics')\n",
    "    plt.show()\n",
    "    \n",
    "gaps, labels, errors = gap(data, refs = None, nrefs = 20, ks= range(1,11))\n",
    "\n",
    "gap_stat_plt(gaps, errors)"
   ]
  },
  {
   "cell_type": "code",
   "execution_count": 9,
   "metadata": {},
   "outputs": [
    {
     "data": {
      "image/png": "[encoded data removed]",
      "text/plain": [
       "<Figure size 432x288 with 1 Axes>"
      ]
     },
     "metadata": {
      "needs_background": "light"
     },
     "output_type": "display_data"
    }
   ],
   "source": [
    "gaps, labels, errors = gap(data, refs = None, nrefs = 30, ks= range(1,11))\n",
    "\n",
    "gap_stat_plt(gaps, errors)"
   ]
  },
  {
   "cell_type": "markdown",
   "metadata": {},
   "source": [
    "* Where did you estimate the elbow point to be (between what values of k)? What value of k was typically estimated as optimal by the gap statistic? To adequately answer this question, consider generating both measures several times, as there may be some amount of variation in the value of k that they each estimate as optimal."
   ]
  },
  {
   "cell_type": "code",
   "execution_count": 5,
   "metadata": {},
   "outputs": [
    {
     "name": "stdout",
     "output_type": "stream",
     "text": [
      "Clusters and with SSE Values\n",
      "----------------------------------------\n",
      "Clusters: 1 \tSSE: 681.3706\n",
      "Clusters: 2 \tSSE: 152.3479517603579\n",
      "Clusters: 3 \tSSE: 81.70628013582343\n",
      "Clusters: 4 \tSSE: 59.34876557610241\n",
      "Clusters: 5 \tSSE: 46.98506112266112\n",
      "Clusters: 6 \tSSE: 39.57886631746632\n",
      "Clusters: 7 \tSSE: 35.261468473193474\n",
      "Clusters: 8 \tSSE: 31.667370060495067\n",
      "Clusters: 9 \tSSE: 29.415410353535357\n",
      "Clusters: 10 \tSSE: 27.333267496392494\n"
     ]
    },
    {
     "data": {
      "image/png": "[encoded data removed]",
      "text/plain": [
       "<Figure size 432x288 with 1 Axes>"
      ]
     },
     "metadata": {
      "needs_background": "light"
     },
     "output_type": "display_data"
    }
   ],
   "source": [
    "k = 10\n",
    "sse_values = sse_form(df, k)\n",
    "sse_pretty(sse_values)\n",
    "elbow_plt(sse_values)\n",
    "\n",
    "#After k=3 is when it really starts to level off"
   ]
  },
  {
   "cell_type": "markdown",
   "metadata": {},
   "source": [
    "* How close are the estimates generated by the elbow point and gap statistic to the number of species of Iris represented in the dataset?"
   ]
  },
  {
   "cell_type": "markdown",
   "metadata": {},
   "source": [
    "```\n",
    "I think they both look fairly similar when you look at the plots, but I can definitely visualize it better looking at SSQ vs gap statistics. Data said there were 3 species of iris, which is where the bend starts leveling off.\n",
    "```"
   ]
  },
  {
   "cell_type": "markdown",
   "metadata": {},
   "source": [
    "* Assuming we are trying to generate one cluster for each Iris species represented in the dataset, does one measure seem to be a consistently better criterion for choosing the value of k than the other? Why or why not?"
   ]
  },
  {
   "cell_type": "markdown",
   "metadata": {},
   "source": [
    "```\n",
    "Since I'm not as familiar with gap statistics I went here (https://medium.com/@ODSC/unsupervised-learning-evaluating-clusters-bd47eed175ce) to look at a better definition. If I'm reading this right they're both using k-means and hierarchical. If we're going by opinion I think SSQ was easier to read and do.\n",
    "```"
   ]
  },
  {
   "cell_type": "markdown",
   "metadata": {},
   "source": [
    "# 4 - Complete the following in your text:"
   ]
  },
  {
   "cell_type": "markdown",
   "metadata": {},
   "source": [
    "### Mining Massive Datasets Page 252 --- Exercise 7.2.2"
   ]
  },
  {
   "cell_type": "markdown",
   "metadata": {},
   "source": [
    "#### How would the clustering of Example 7.2 change if we used for the distance between two clusters:"
   ]
  },
  {
   "cell_type": "markdown",
   "metadata": {},
   "source": [
    "* (a) The minimum of the distances between any two points, one from each cluster"
   ]
  },
  {
   "cell_type": "code",
   "execution_count": 42,
   "metadata": {},
   "outputs": [
    {
     "data": {
      "image/png": "[encoded data removed]",
      "text/plain": [
       "<Figure size 432x288 with 1 Axes>"
      ]
     },
     "metadata": {
      "needs_background": "light"
     },
     "output_type": "display_data"
    }
   ],
   "source": [
    "#Referenced https://docs.scipy.org/doc/scipy/reference/generated/scipy.cluster.hierarchy.dendrogram.html for dendrogram\n",
    "#Referenced https://scikit-learn.org/stable/modules/generated/sklearn.cluster.AgglomerativeClustering.html for agglomerative hierarchy\n",
    "#Also referenced Torrey during our Tuesday call. \n",
    "import numpy as np\n",
    "from matplotlib import pyplot as plt\n",
    "from scipy.cluster import hierarchy\n",
    "from scipy.cluster.hierarchy import dendrogram, linkage\n",
    "from sklearn.cluster import AgglomerativeClustering\n",
    "\n",
    "def dendrogram(d, method):\n",
    "    plt.title(\"Dendrograms with {} method\".format(method))\n",
    "    den = hierarchy.dendrogram(hierarchy.linkage(d, method = method))\n",
    "    \n",
    "def hier_cluster(n, method, d):\n",
    "    cluster = AgglomerativeClustering(n_clusters = n, affinity = 'euclidean', linkage = method)\n",
    "    cluster.fit_predict(d)\n",
    "    plt.scatter(points[:,0], points[:,1], c = cluster.labels_, cmap= 'rainbow')\n",
    "    plt.title(\"Hierarchical clustering with {} method\".format(method))\n",
    "    \n",
    "dendrogram(points, 'single')"
   ]
  },
  {
   "cell_type": "code",
   "execution_count": 43,
   "metadata": {},
   "outputs": [
    {
     "data": {
      "image/png": "[encoded data removed]",
      "text/plain": [
       "<Figure size 432x288 with 1 Axes>"
      ]
     },
     "metadata": {
      "needs_background": "light"
     },
     "output_type": "display_data"
    }
   ],
   "source": [
    "cluster = AgglomerativeClustering(n_clusters = 3, affinity = 'euclidean', linkage = 'ward')\n",
    "hier_cluster(3, 'single', points)"
   ]
  },
  {
   "cell_type": "markdown",
   "metadata": {},
   "source": [
    "* (b) The average of the distances between pairs of points, one from each of the two clusters"
   ]
  },
  {
   "cell_type": "code",
   "execution_count": 40,
   "metadata": {},
   "outputs": [
    {
     "data": {
      "image/png": "[encoded data removed]",
      "text/plain": [
       "<Figure size 432x288 with 1 Axes>"
      ]
     },
     "metadata": {
      "needs_background": "light"
     },
     "output_type": "display_data"
    }
   ],
   "source": [
    "dendrogram(points, 'average')"
   ]
  },
  {
   "cell_type": "code",
   "execution_count": 41,
   "metadata": {},
   "outputs": [
    {
     "data": {
      "image/png": "[encoded data removed]",
      "text/plain": [
       "<Figure size 432x288 with 1 Axes>"
      ]
     },
     "metadata": {
      "needs_background": "light"
     },
     "output_type": "display_data"
    }
   ],
   "source": [
    "hier_cluster(3, 'average', points)"
   ]
  },
  {
   "cell_type": "markdown",
   "metadata": {},
   "source": [
    "### Mining Massive Datasets Page 260 --- Exercise 7.3.4"
   ]
  },
  {
   "cell_type": "markdown",
   "metadata": {},
   "source": [
    "##### For the three clusters of Fig. 7.8:"
   ]
  },
  {
   "cell_type": "code",
   "execution_count": 21,
   "metadata": {},
   "outputs": [],
   "source": [
    "import numpy as np\n",
    "#Creating arrays for the clusters. I'm basing the cluster off of the visual from the book.\n",
    "c1 = np.array([[4,10], [7,10], [4,8], [6,8]])\n",
    "c2 = np.array([[3,4], [2,2], [5,2]])\n",
    "c3 = np.array([[10,5], [12,6], [11,4], [9,3], [12,3]])\n",
    "\n",
    "#Combining clusters\n",
    "clusters = [c1, c2, c3]"
   ]
  },
  {
   "cell_type": "markdown",
   "metadata": {},
   "source": [
    "* (a) Compute the representation of the cluster as in the BFR Algorithm. That is, compute N, SUM, and SUMSQ\n",
    "* (b) Compute the variance and standard deviation of each cluster in each of the two dimensions"
   ]
  },
  {
   "cell_type": "code",
   "execution_count": 27,
   "metadata": {},
   "outputs": [
    {
     "name": "stdout",
     "output_type": "stream",
     "text": [
      "Cluster: [[ 4 10]\n",
      " [ 7 10]\n",
      " [ 4  8]\n",
      " [ 6  8]]\n",
      "\n",
      " N: 4\n",
      "SUM: (21, 36)\n",
      "SUMSQ: (117, 328)\n",
      "Variance: (1.6875, 1.0)\n",
      "Standard Deviation: (1.299038105676658, 1.0)\n",
      "\n",
      "Cluster: [[3 4]\n",
      " [2 2]\n",
      " [5 2]]\n",
      "\n",
      " N: 3\n",
      "SUM: (10, 8)\n",
      "SUMSQ: (38, 24)\n",
      "Variance: (1.5555555555555536, 0.8888888888888893)\n",
      "Standard Deviation: (1.2472191289246464, 0.9428090415820636)\n",
      "\n",
      "Cluster: [[10  5]\n",
      " [12  6]\n",
      " [11  4]\n",
      " [ 9  3]\n",
      " [12  3]]\n",
      "\n",
      " N: 5\n",
      "SUM: (54, 21)\n",
      "SUMSQ: (590, 95)\n",
      "Variance: (1.3599999999999852, 1.3599999999999994)\n",
      "Standard Deviation: (1.1661903789690538, 1.1661903789690597)\n",
      "\n"
     ]
    }
   ],
   "source": [
    "#Worked with Sam on this part. I had parts of it (variance and standard deviation)\n",
    "for cluster in clusters:\n",
    "    N = len(cluster) #N is the number of points in a cluster\n",
    "    SUM = tuple(np.sum(cluster, axis = 0)) #SUM looks at the sum of x's and y's\n",
    "    SUMSQ = tuple(np.sum(np.square(cluster), axis = 0)) #SUMSQ sum of the squares. Saw this a lot in Excel when I looked it up\n",
    "    variance = tuple(np.divide(SUMSQ, N) - np.square((np.divide(SUM, N)))) #Variance is average of the squared differences of the mean \n",
    "    std = tuple(np.sqrt(variance)) #Standard variance is square root of variance\n",
    "    print('Cluster: {}'.format(cluster))\n",
    "    print('\\n N: {}'.format(N))\n",
    "    print('SUM: {}'.format(SUM))\n",
    "    print('SUMSQ: {}'.format(SUMSQ))\n",
    "    print('Variance: {}'.format(variance))\n",
    "    print('Standard Deviation: {}\\n'.format(std))\n",
    "    "
   ]
  },
  {
   "cell_type": "markdown",
   "metadata": {},
   "source": [
    "### Mining Massive Datasets Page 260 --- Exercise 7.3.5"
   ]
  },
  {
   "cell_type": "markdown",
   "metadata": {},
   "source": [
    "#### Suppose a cluster of three-dimensional points has standard deviation of 2, 3, and 5, in the three dimensions, in that order. Compute the Mahalanobis distance between the orign (0,0,0) and the point (1, -3.4)"
   ]
  },
  {
   "cell_type": "code",
   "execution_count": 13,
   "metadata": {},
   "outputs": [
    {
     "data": {
      "text/plain": [
       "1.374772708486752"
      ]
     },
     "execution_count": 13,
     "metadata": {},
     "output_type": "execute_result"
    }
   ],
   "source": [
    "#Was trying to use https://docs.scipy.org/doc/scipy/reference/generated/scipy.spatial.distance.mahalanobis.html as an example. Sam helped me clear up a few things I had wrong\n",
    "from scipy.spatial import distance\n",
    "def mahalanobis_distance(std, point1, point2): #point1 = origin here\n",
    "    dimensions = len(std)\n",
    "    temp = 0\n",
    "    for i in range(dimensions):\n",
    "        temp += ((point1[i] - point2[i])/std[i])**2\n",
    "    distance = temp**(1/2)\n",
    "    return distance\n",
    "\n",
    "point = [1,-3,4] #Originally I kept reading this as -3.4 instead of -3, 4\n",
    "origin = [0,0,0] #Origin called out in question\n",
    "std = [2,3,5] #Standard deviance \n",
    "mahalanobis_distance(std,origin,point)"
   ]
  }
 ],
 "metadata": {
  "kernelspec": {
   "display_name": "Python 3",
   "language": "python",
   "name": "python3"
  },
  "language_info": {
   "codemirror_mode": {
    "name": "ipython",
    "version": 3
   },
   "file_extension": ".py",
   "mimetype": "text/x-python",
   "name": "python",
   "nbconvert_exporter": "python",
   "pygments_lexer": "ipython3",
   "version": "3.7.6"
  }
 },
 "nbformat": 4,
 "nbformat_minor": 4
}
