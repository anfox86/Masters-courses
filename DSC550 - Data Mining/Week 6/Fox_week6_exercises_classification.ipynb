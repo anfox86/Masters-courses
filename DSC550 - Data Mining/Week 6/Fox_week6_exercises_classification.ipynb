{
 "cells": [
  {
   "cell_type": "markdown",
   "metadata": {},
   "source": [
    "```\n",
    "Name - Andrea Fox\n",
    "Date - July 12, 2020\n",
    "Class - DSC550-T301\n",
    "Assignment - Week 6 Exercises - Classification\n",
    "```"
   ]
  },
  {
   "cell_type": "markdown",
   "metadata": {},
   "source": [
    "# 1 - Decision Trees"
   ]
  },
  {
   "cell_type": "markdown",
   "metadata": {},
   "source": [
    "```\n",
    "The goal of this part is to write a script to compute the decision tree for an input dataset. You can assume that all attributes are numeric, except for the last attribute which is the class.\n",
    "\n",
    "You should use the Information Gain based on Entropy for computing the best split value for each attribute. For the stopping criteria at a node, stop if the purity is at least 95% or stop if the node size is five or lower.\n",
    "\n",
    "Note that the best way to implement the splits for numeric attributes is to sort the values of that attribute from smallest to largest. Then you can use the mid-point between two distinct (consecutive) values as the split test of the form A≤v. You can then update the class frequencies on both sides of the split and compute the split entropy for each decision. After comparing with the entropy for the node, you can find the best split for the current attribute. Now repeat the whole process for each numeric attribute at that node, and choose the best split over all attributes. Finally, split the data according to the best split, and repeat the whole method recursively, until the stopping conditions are met.\n",
    "\n",
    "The decision tree should be printed in the following format:\n",
    "\n",
    "Decision: Car <= 1.5 , Gain= 0.4591479\n",
    "\n",
    "Decision: Age <= 22.5 , Gain= 0.9182958\n",
    "\n",
    "Leaf: label= H purity= 1 size= 1\n",
    "\n",
    "Leaf: label= L purity= 1 size= 2\n",
    "\n",
    "Leaf: label= H purity= 1 size= 3\n",
    "\n",
    "Note that each internal node, print the decision followed by the Information Gain, and for each leaf, print the majority label, purity of the leaf, and the size. The indentation indicates the tree level. All nodes at the same level of indentation (tabs) are at the same level in the tree. For the tree above, Car<=1.5 is the root decision. Its left child is Age<=22.5, and its right child is a leaf. Also, for Age≤22.5 its left and right children appear immediately below it.\n",
    "\n",
    "You may test your program on the iris.txt dataset.\n",
    "```"
   ]
  },
  {
   "cell_type": "code",
   "execution_count": 74,
   "metadata": {},
   "outputs": [
    {
     "name": "stdout",
     "output_type": "stream",
     "text": [
      "The tree structure has 5 nodes and has the following tree structure: \n",
      "\n",
      "Decision: petal width (cm) <= 0.800000011920929 Gain = 1.2516291673878228\n",
      "\tLeaf: Label = setosa Purity = 1.0 Size = 50\n",
      "\tDecision: petal width (cm) <= 1.75 Gain = 0.6780726131133057\n",
      "\t\tLeaf: Label = versicolor Purity = 0.5549351429491614 Size = 54\n",
      "\t\tLeaf: Label = virginica Purity = 0.8489030294828863 Size = 46\n"
     ]
    }
   ],
   "source": [
    "\"\"\"\n",
    "Reference: https://scikit-learn.org/stable/auto_examples/tree/plot_unveil_tree_structure.html#sphx-glr-auto-examples-tree-plot-unveil-tree-structure-py\n",
    "Sam helped with the math getting entropy\n",
    "\"\"\"\n",
    "\n",
    "#Import libraries\n",
    "import pandas as pd\n",
    "from sklearn.datasets import load_iris\n",
    "from sklearn.tree import DecisionTreeClassifier\n",
    "import math\n",
    "import sys\n",
    "import traceback\n",
    "\n",
    "#Function to find information gain based on entropy\n",
    "def compute_info_gain(entropies, values, nodes):\n",
    "    p1 = values[nodes[1]].sum()/values[nodes[0]].sum()\n",
    "    p2 = values[nodes[2]].sum()/values[nodes[0]].sum()\n",
    "    entropy_split = p1*entropies[nodes[1]] + p1*entropies[nodes[2]]\n",
    "    information_gain = entropies[nodes[0]] - entropy_split\n",
    "    \n",
    "    return information_gain\n",
    "\n",
    "#Function to return entropy for each node along with values by class for each node\n",
    "def get_entropies(tree_values):\n",
    "    node_splits = tree.tree_.value\n",
    "    entropies = []\n",
    "    values = []\n",
    "    for node in node_splits:\n",
    "        entropy = 0\n",
    "        values.append(node[0])\n",
    "        for classification in node[0]:\n",
    "            proportion = classification/node.sum()\n",
    "            if proportion != 0:\n",
    "                entropy += (-1)*(proportion*math.log(proportion, 2))\n",
    "        entropies.append(entropy)\n",
    "    return entropies, values\n",
    "\n",
    "#Load in dataset to use\n",
    "iris = load_iris()\n",
    "X = pd.DataFrame(iris.data[:, :], columns = iris.feature_names[:])\n",
    "y = pd.DataFrame(iris.target, columns = ['Species'])\n",
    "\n",
    "#Fitting the DecisionTreeClassifier\n",
    "tree = DecisionTreeClassifier(criterion = 'entropy', min_samples_split = 5, min_impurity_decrease = 0.09)\n",
    "tree.fit(X, y)\n",
    "\n",
    "# Using those arrays, we can parse the tree structure:\n",
    "n_nodes = tree.tree_.node_count\n",
    "children_left = tree.tree_.children_left\n",
    "children_right = tree.tree_.children_right\n",
    "feature = tree.tree_.feature\n",
    "threshold = tree.tree_.threshold\n",
    "\n",
    "# The tree structure can be traversed to compute various properties such\n",
    "# as the depth of each node and whether or not it is a leaf.\n",
    "node_depth = np.zeros(shape=n_nodes, dtype=np.int64)\n",
    "is_leaves = np.zeros(shape=n_nodes, dtype=bool)\n",
    "stack = [(0, -1)]  # seed is the root node id and its parent depth\n",
    "while len(stack) > 0:\n",
    "    node_id, parent_depth = stack.pop()\n",
    "    node_depth[node_id] = parent_depth + 1\n",
    "\n",
    "    # If we have a test node\n",
    "    if (children_left[node_id] != children_right[node_id]):\n",
    "        stack.append((children_left[node_id], parent_depth + 1))\n",
    "        stack.append((children_right[node_id], parent_depth + 1))\n",
    "    else:\n",
    "        is_leaves[node_id] = True\n",
    "        \n",
    "entropies, values = get_entropies(tree.tree_.value)\n",
    "\n",
    "numclass = tree.tree_.n_classes[0]\n",
    "class_names = iris.target_names\n",
    "node_labels = []\n",
    "for node in tree.tree_.value:\n",
    "    label_i = tree.classes_[np.argmax(node)]\n",
    "    label_name = class_names[label_i]\n",
    "    node_labels.append(label_name)\n",
    "    \n",
    "#Main function to print out the tree    \n",
    "def main():\n",
    "    try:\n",
    "        print(\"The tree structure has %s nodes and has the following tree structure: \\n\" % n_nodes)\n",
    "        for i in range(n_nodes):\n",
    "            if is_leaves[i]:\n",
    "                print(\"%sLeaf: Label = %s Purity = %s Size = %s\"\n",
    "                     % (node_depth[i] * \"\\t\",\n",
    "                       node_labels[i],\n",
    "                       (1-tree.tree_.impurity[i]), \n",
    "                       tree.tree_.n_node_samples[i]))\n",
    "            else:\n",
    "                nodes = [i, i+1, i+2]\n",
    "                information_gain = compute_info_gain(entropies, values, nodes)\n",
    "                print(\"%sDecision: %s <= %s Gain = %s\"\n",
    "                     % (node_depth[i] * \"\\t\",\n",
    "                       X.columns[feature[i]],\n",
    "                       threshold[i],\n",
    "                       information_gain\n",
    "                       ))\n",
    "    #Exception built in case of error            \n",
    "    except Exception as exception:\n",
    "        print('exception')\n",
    "        # print the traceback of the exception\n",
    "        traceback.print_exc()\n",
    "        # list name of exception and any arguments\n",
    "        print('An exception of type {0} occurred.'.format(type(exception).__name__, exception.args));\n",
    "        \n",
    "main()\n",
    "#Stopped here as I met one of the requirements of 5 nodes or less"
   ]
  },
  {
   "cell_type": "markdown",
   "metadata": {},
   "source": [
    "# 2 - Support Vector Machines"
   ]
  },
  {
   "cell_type": "markdown",
   "metadata": {},
   "source": [
    "```\n",
    "Your goal is to learn a SVM in the traditional dual formulation for the iris-slwc.txt dataset. This is a simple 2D dataset, consisting of 2 dimensions (the sepal length and width), and the third column is the class (+1,-1). One of the class corresponds to iris-setosa, and the other class to other types of irises.\n",
    "\n",
    "Implement the stochastic gradient ascent algorithm 21.1 in chapter 21, with three different kernels, namely, the linear kernel, the inhomogeneous quadratic kernel, and the homogeneous quadratic kernel. Use ϵ=0.0001 and C=10, and hinge loss.\n",
    "\n",
    "At the end, print all values of non-zero αi, i.e., for the support vectors, in the following format:\n",
    "\n",
    "i,αi, one per line.\n",
    "\n",
    "You should also print the number of support vectors.\n",
    "\n",
    "Do this for both the kernels. The results on the linear kernel should approximately match the hyperplane h10 in example 21.7.\n",
    "\n",
    "To check when the quadratic kernel is useful. You may try the quadratic kernel on the iris-PC.txt data. The results should match those given in Example 21.8.\n",
    "```"
   ]
  },
  {
   "cell_type": "code",
   "execution_count": 170,
   "metadata": {},
   "outputs": [
    {
     "data": {
      "text/plain": [
       "150"
      ]
     },
     "execution_count": 170,
     "metadata": {},
     "output_type": "execute_result"
    }
   ],
   "source": [
    "\"\"\"\n",
    "Reference:https://github.com/dianejdan/SVM-Gradient-Ascent/blob/master/svm-gradient-ascent.py\n",
    "Torrey walked through this on Tuesday call. Let us know that original was missing one of the kernels, remove loc, diag\n",
    "need np. in front of it to work correctly.\n",
    "\"\"\"\n",
    "#Import libraries\n",
    "import sys\n",
    "import pandas as pd\n",
    "import numpy as np\n",
    "import numpy.linalg as la\n",
    "\n",
    "#Read in iris-slwc\n",
    "df = pd.read_csv('iris-slwc.txt', header = None)\n",
    "myData = np.genfromtxt('iris-slwc.txt', delimiter = ',')\n",
    "\n",
    "#sample size\n",
    "n = myData.shape[0]\n",
    "n"
   ]
  },
  {
   "cell_type": "code",
   "execution_count": 171,
   "metadata": {},
   "outputs": [
    {
     "name": "stdout",
     "output_type": "stream",
     "text": [
      "Support vectors\n",
      "\n",
      "Sample 25 : 4.9, 2.5; Class : 1.0; A : 9.178461657479335\n",
      "\n",
      "Sample 55 : 5.4, 3.4; Class : -1.0; A : 2.2640815245195807\n",
      "\n",
      "Sample 66 : 5.4, 3.0; Class : 1.0; A : 10.0\n",
      "\n",
      "Sample 107 : 4.9, 3.0; Class : -1.0; A : 10.0\n",
      "\n",
      "Sample 109 : 4.5, 2.3; Class : -1.0; A : 10.0\n",
      "\n",
      "Sample 122 : 5.0, 3.0; Class : -1.0; A : 10.0\n",
      "\n",
      "Sample 138 : 6.0, 3.4; Class : 1.0; A : 10.0\n",
      "\n",
      "Sample 146 : 5.4, 3.4; Class : -1.0; A : 2.724996110297604e-15\n",
      "\n",
      "Total Number of Support Vectors : 8\n",
      "\n"
     ]
    }
   ],
   "source": [
    "#Change last column to all 1's\n",
    "X = myData.copy()\n",
    "X[:,-1] = 1\n",
    "C = 10 #Moved up from reference code to use in K\n",
    "\n",
    "#Function to build kerlnel for hinge loss\n",
    "def kernel_matrix(x, typ, C):\n",
    "    K_ = np.zeros(shape=(x.shape[0], x.shape[0]))\n",
    "    \n",
    "    #Linear Kernel\n",
    "    if typ == 'linear':\n",
    "        for i in range(x.shape[0]):\n",
    "            for j in range(x.shape[0]):\n",
    "                K_[i,j] = np.dot(x[i,], x[j,])\n",
    "                \n",
    "    #Homogeneous Kernel\n",
    "    elif typ == 'homogeneous':\n",
    "        for i in range(x.shape[0]):\n",
    "            for j in range(x.shape[0]):\n",
    "                K_[i,j] = np.square(np.dot(x[i,], x[j,]))\n",
    "    \n",
    "    #Inhomogeneous Kernel\n",
    "    elif typ == 'inhomogeneous': \n",
    "        for i in range(x.shape[0]):\n",
    "            for j in range(x.shape[0]):\n",
    "                K_[i,j] = np.square(C + np.dot(x[i,], x[j,]))\n",
    "    return K_\n",
    "\n",
    "K = kernel_matrix(X, 'linear', C)\n",
    "\n",
    "#Calculate step size\n",
    "eta = 1/np.diag(K)\n",
    "\n",
    "t = 0\n",
    "\n",
    "#Initial alphas\n",
    "alpha = np.zeros(n)\n",
    "\n",
    "#Difference\n",
    "diff = 1\n",
    "eps = 0.0001\n",
    "\n",
    "while (diff > eps):\n",
    "    alpha0 = alpha.copy()\n",
    "    for k in range(n):\n",
    "        alpha[k] = alpha[k] + eta[k]*(1-myData[k,2]*sum(alpha*myData[:,2]*K[:,k]))\n",
    "        if alpha[k] < 0:\n",
    "            alpha[k] = 0\n",
    "        if alpha[k] > C:\n",
    "            alpha[k] = C\n",
    "    t = t+1\n",
    "    diff = np.sum([la.norm(alpha-alpha0)])\n",
    "    \n",
    "#Printing out information\n",
    "print('Support vectors\\n')\n",
    "for k in range(n):\n",
    "    if alpha[k] != 0:\n",
    "        print('Sample {} : {}, {}; Class : {}; A : {}\\n'.format(k+1, myData[k,0], myData[k,1], myData[k,2], alpha[k]))\n",
    "\n",
    "print('Total Number of Support Vectors : {}\\n'.format(sum(alpha!=0)))"
   ]
  },
  {
   "cell_type": "code",
   "execution_count": null,
   "metadata": {},
   "outputs": [],
   "source": [
    "#For the second part of this question it sounded like it wasn't a must, so hopefully I didn't make a mistake reading it like that"
   ]
  },
  {
   "cell_type": "markdown",
   "metadata": {},
   "source": [
    "# 3 - Complete the Following Exercises in Your Text:"
   ]
  },
  {
   "cell_type": "markdown",
   "metadata": {},
   "source": [
    "### Mining of Massive Datasets - Page 462 --- Exercise 12.2.1: (c), (d)\n",
    "```\n",
    "Modify the training set of Fig.12.6 so that example b also includes the word \"nigeria\" (yet remains a negative example - perhaps someone telling about their trip to Nigeria). Find a weight vector that separates the positive and negative exmaples using:\n",
    "```"
   ]
  },
  {
   "cell_type": "code",
   "execution_count": 18,
   "metadata": {},
   "outputs": [
    {
     "data": {
      "text/html": [
       "<div>\n",
       "<style scoped>\n",
       "    .dataframe tbody tr th:only-of-type {\n",
       "        vertical-align: middle;\n",
       "    }\n",
       "\n",
       "    .dataframe tbody tr th {\n",
       "        vertical-align: top;\n",
       "    }\n",
       "\n",
       "    .dataframe thead th {\n",
       "        text-align: right;\n",
       "    }\n",
       "</style>\n",
       "<table border=\"1\" class=\"dataframe\">\n",
       "  <thead>\n",
       "    <tr style=\"text-align: right;\">\n",
       "      <th></th>\n",
       "      <th>and</th>\n",
       "      <th>viagra</th>\n",
       "      <th>the</th>\n",
       "      <th>of</th>\n",
       "      <th>nigeria</th>\n",
       "      <th>y</th>\n",
       "    </tr>\n",
       "  </thead>\n",
       "  <tbody>\n",
       "    <tr>\n",
       "      <th>a</th>\n",
       "      <td>1</td>\n",
       "      <td>1</td>\n",
       "      <td>0</td>\n",
       "      <td>1</td>\n",
       "      <td>1</td>\n",
       "      <td>1</td>\n",
       "    </tr>\n",
       "    <tr>\n",
       "      <th>b</th>\n",
       "      <td>0</td>\n",
       "      <td>0</td>\n",
       "      <td>1</td>\n",
       "      <td>1</td>\n",
       "      <td>0</td>\n",
       "      <td>-1</td>\n",
       "    </tr>\n",
       "    <tr>\n",
       "      <th>c</th>\n",
       "      <td>0</td>\n",
       "      <td>1</td>\n",
       "      <td>1</td>\n",
       "      <td>0</td>\n",
       "      <td>0</td>\n",
       "      <td>1</td>\n",
       "    </tr>\n",
       "    <tr>\n",
       "      <th>d</th>\n",
       "      <td>1</td>\n",
       "      <td>0</td>\n",
       "      <td>0</td>\n",
       "      <td>1</td>\n",
       "      <td>0</td>\n",
       "      <td>-1</td>\n",
       "    </tr>\n",
       "    <tr>\n",
       "      <th>e</th>\n",
       "      <td>1</td>\n",
       "      <td>0</td>\n",
       "      <td>1</td>\n",
       "      <td>0</td>\n",
       "      <td>1</td>\n",
       "      <td>1</td>\n",
       "    </tr>\n",
       "    <tr>\n",
       "      <th>f</th>\n",
       "      <td>1</td>\n",
       "      <td>0</td>\n",
       "      <td>1</td>\n",
       "      <td>1</td>\n",
       "      <td>0</td>\n",
       "      <td>-1</td>\n",
       "    </tr>\n",
       "  </tbody>\n",
       "</table>\n",
       "</div>"
      ],
      "text/plain": [
       "   and  viagra  the  of  nigeria  y\n",
       "a    1       1    0   1        1  1\n",
       "b    0       0    1   1        0 -1\n",
       "c    0       1    1   0        0  1\n",
       "d    1       0    0   1        0 -1\n",
       "e    1       0    1   0        1  1\n",
       "f    1       0    1   1        0 -1"
      ]
     },
     "execution_count": 18,
     "metadata": {},
     "output_type": "execute_result"
    }
   ],
   "source": [
    "#Import libraries\n",
    "import numpy as np\n",
    "import pandas as pd\n",
    "\n",
    "#Creating dict to hold values from Figure 12.6\n",
    "train = {'and': [1,0,0,1,1,1], \n",
    "         'viagra': [1,0,1,0,0,0], \n",
    "         'the': [0,1,1,0,1,1], \n",
    "         'of': [1,1,0,1,0,1], \n",
    "         'nigeria': [1,0,0,0,1,0],\n",
    "        'y': [1,-1,1,-1,1,-1]}\n",
    "\n",
    "#Creating dataframe\n",
    "spam = pd.DataFrame(train, index = ['a', 'b', 'c', 'd', 'e', 'f'])\n",
    "spam"
   ]
  },
  {
   "cell_type": "markdown",
   "metadata": {},
   "source": [
    "* (c) - The basic method with a variable threshold, as suggested in Section 12.2.4"
   ]
  },
  {
   "cell_type": "code",
   "execution_count": 19,
   "metadata": {},
   "outputs": [
    {
     "name": "stdout",
     "output_type": "stream",
     "text": [
      "Row a Weights: [0.5 0.5 0.  0.5 0.5]\n",
      "Row b Weights: [ 0.5  0.5 -0.5  0.   0.5]\n",
      "Row c Weights: [0.5 1.  0.  0.  0.5]\n",
      "Row d Weights: [ 0.   1.   0.  -0.5  0.5]\n",
      "Row e Weights: [ 0.   1.   0.  -0.5  0.5]\n",
      "Row f Weights: [ 0.   1.   0.  -0.5  0.5]\n"
     ]
    }
   ],
   "source": [
    "\"\"\"\n",
    "Reference: Pg 451  from book and got some help from Sam\n",
    "\"\"\"\n",
    "#weights\n",
    "w = np.array([0 for x in range(5)])\n",
    "\n",
    "#learn rate\n",
    "n = 0.5\n",
    "\n",
    "#Calculate\n",
    "for index, row in spam.iterrows():\n",
    "    #training vector\n",
    "    x = np.array(row[:-1])\n",
    "    #training classification\n",
    "    y = row[-1]\n",
    "    wx = np.dot(x, w)\n",
    "    sign = ((wx > 0) == (y > 0))\n",
    "    if (sign == False) or (wx ==0):\n",
    "        #Update weights\n",
    "        w = w + n*y*x\n",
    "    print('Row {} Weights: {}'.format(index, w))"
   ]
  },
  {
   "cell_type": "markdown",
   "metadata": {},
   "source": [
    "* (d) - The Winnow method with a variable thershold, as suggested in Section 12.2.4"
   ]
  },
  {
   "cell_type": "code",
   "execution_count": 22,
   "metadata": {},
   "outputs": [
    {
     "ename": "ValueError",
     "evalue": "shapes (5,) and (6,) not aligned: 5 (dim 0) != 6 (dim 0)",
     "output_type": "error",
     "traceback": [
      "\u001b[1;31m---------------------------------------------------------------------------\u001b[0m",
      "\u001b[1;31mValueError\u001b[0m                                Traceback (most recent call last)",
      "\u001b[1;32m<ipython-input-22-e6351304adf6>\u001b[0m in \u001b[0;36m<module>\u001b[1;34m\u001b[0m\n\u001b[0;32m     20\u001b[0m         \u001b[1;31m#training classification\u001b[0m\u001b[1;33m\u001b[0m\u001b[1;33m\u001b[0m\u001b[1;33m\u001b[0m\u001b[0m\n\u001b[0;32m     21\u001b[0m         \u001b[0my\u001b[0m \u001b[1;33m=\u001b[0m \u001b[0mrow\u001b[0m\u001b[1;33m[\u001b[0m\u001b[1;33m-\u001b[0m\u001b[1;36m1\u001b[0m\u001b[1;33m]\u001b[0m\u001b[1;33m\u001b[0m\u001b[1;33m\u001b[0m\u001b[0m\n\u001b[1;32m---> 22\u001b[1;33m         \u001b[0mwx\u001b[0m \u001b[1;33m=\u001b[0m \u001b[0mnp\u001b[0m\u001b[1;33m.\u001b[0m\u001b[0mdot\u001b[0m\u001b[1;33m(\u001b[0m\u001b[0mx\u001b[0m\u001b[1;33m,\u001b[0m \u001b[0mw\u001b[0m\u001b[1;33m)\u001b[0m\u001b[1;33m\u001b[0m\u001b[1;33m\u001b[0m\u001b[0m\n\u001b[0m\u001b[0;32m     23\u001b[0m         \u001b[1;32mif\u001b[0m \u001b[1;33m(\u001b[0m\u001b[0mwx\u001b[0m \u001b[1;33m<=\u001b[0m \u001b[1;36m0\u001b[0m\u001b[1;33m)\u001b[0m \u001b[1;32mand\u001b[0m \u001b[1;33m(\u001b[0m\u001b[0my\u001b[0m \u001b[1;33m>\u001b[0m \u001b[1;36m0\u001b[0m\u001b[1;33m)\u001b[0m\u001b[1;33m:\u001b[0m\u001b[1;33m\u001b[0m\u001b[1;33m\u001b[0m\u001b[0m\n\u001b[0;32m     24\u001b[0m             \u001b[0mw\u001b[0m\u001b[1;33m[\u001b[0m\u001b[1;33m-\u001b[0m\u001b[1;36m1\u001b[0m\u001b[1;33m]\u001b[0m \u001b[1;33m=\u001b[0m \u001b[0mw\u001b[0m\u001b[1;33m[\u001b[0m\u001b[1;33m-\u001b[0m\u001b[1;36m1\u001b[0m\u001b[1;33m]\u001b[0m\u001b[1;33m*\u001b[0m\u001b[0mlower_fact\u001b[0m \u001b[1;31m#update threshold\u001b[0m\u001b[1;33m\u001b[0m\u001b[1;33m\u001b[0m\u001b[0m\n",
      "\u001b[1;32m<__array_function__ internals>\u001b[0m in \u001b[0;36mdot\u001b[1;34m(*args, **kwargs)\u001b[0m\n",
      "\u001b[1;31mValueError\u001b[0m: shapes (5,) and (6,) not aligned: 5 (dim 0) != 6 (dim 0)"
     ]
    }
   ],
   "source": [
    "\"\"\"\n",
    "Reference: Pg 455 from the book as well as some explanations/help from Sam and Rachel\n",
    "\"\"\"\n",
    "#weight\n",
    "w = np.array([1 for x in range(6)], dtype = 'f')\n",
    "converged = False\n",
    "\n",
    "#Tracking number of steps\n",
    "steps = 0\n",
    "\n",
    "#How much to raise threshold\n",
    "raise_fact = 2\n",
    "#How much to lower threshold\n",
    "lower_fast = 0.5\n",
    "\n",
    "while converged == False:\n",
    "    for index, row in spam.iterrows():\n",
    "        #training vector\n",
    "        x = np.array(row[:-1])\n",
    "        #training classification\n",
    "        y = row[-1]\n",
    "        wx = np.dot(x, w)\n",
    "        if (wx <= 0) and (y > 0):\n",
    "            w[-1] = w[-1]*lower_fact #update threshold\n",
    "            for i in range(len(x)-1):\n",
    "                if x[i] == 1:\n",
    "                    w[i] = raise_fact*w[i] #update weight\n",
    "        elif (wx >= 0) and (y < 0):\n",
    "            w[-1] = w[-1]*raise_fact #update threshold\n",
    "            for i in range(len(x)-1):\n",
    "                if x[i]==1:\n",
    "                    w[i] = w[i]*lower_fact #update weight\n",
    "                    \n",
    "        steps +=1\n",
    "        #Checking whether it converged or not\n",
    "        converged = check_convergence(spam, w)\n",
    "        if converged == True:\n",
    "            break\n",
    "        if steps == 1000:\n",
    "            break\n",
    "    if steps == 1000:\n",
    "        print('Did not converge')\n",
    "        break\n",
    "        \n",
    "#Print out the steps and weights\n",
    "print('Steps: {} Weights: {}'.format(steps, w))\n",
    "\n",
    "#Cannot seem to get the correct output. I've tried looking into some other resources, but wasn't able to figure it out"
   ]
  },
  {
   "cell_type": "markdown",
   "metadata": {},
   "source": [
    "### Mining of Massive Datasets - Page 473 --- Exercise 12.3.2: (a)"
   ]
  },
  {
   "cell_type": "markdown",
   "metadata": {},
   "source": [
    "```\n",
    "The following training set obeys the rule that the positive examples all have vectors whose components sum to 10 or more, while the sum is less than 10 for the negative examples:\n",
    "([3,4,5], +1)\n",
    "([1,2,3], -1)\n",
    "([2,7,2], +1)\n",
    "([3,3,2], -1)\n",
    "([5,5,5], +1)\n",
    "([2,4,1], -1)\n",
    "```"
   ]
  },
  {
   "cell_type": "markdown",
   "metadata": {},
   "source": [
    "* (a) - Which of these six vectors are the support vectors?"
   ]
  },
  {
   "cell_type": "code",
   "execution_count": 11,
   "metadata": {},
   "outputs": [],
   "source": [
    "\"\"\"\n",
    "Reference:\n",
    "https://chrisalbon.com/machine_learning/support_vector_machines/find_support_vectors/\n",
    "Sam sent reference\n",
    "\"\"\"\n",
    "\n",
    "# Load libraries\n",
    "from sklearn.svm import SVC\n",
    "from sklearn import datasets\n",
    "from sklearn.preprocessing import StandardScaler\n",
    "import numpy as np"
   ]
  },
  {
   "cell_type": "code",
   "execution_count": 7,
   "metadata": {},
   "outputs": [
    {
     "data": {
      "text/plain": [
       "array([[ 0.26726124, -0.74199852, -0.65465367],\n",
       "       [-0.53452248, -0.10599979, -1.30930734],\n",
       "       [ 0.26726124, -0.10599979,  1.30930734],\n",
       "       [-0.53452248,  1.8019964 , -0.65465367]])"
      ]
     },
     "execution_count": 7,
     "metadata": {},
     "output_type": "execute_result"
    }
   ],
   "source": [
    "#Load data\n",
    "X = np.array([[3,4,5],[2,7,2],[5,5,5],[1,2,3],[3,3,2],[2,4,1]])\n",
    "y = np.array([1,1,1,-1,-1,-1])\n",
    "\n",
    "# Standarize features\n",
    "scaler = StandardScaler()\n",
    "X_std = scaler.fit_transform(X)\n",
    "\n",
    "# Create support vector classifier object\n",
    "svc = SVC(kernel='linear', random_state=0)\n",
    "\n",
    "# Train classifier\n",
    "model = svc.fit(X_std, y)\n",
    "\n",
    "# View support vectors\n",
    "model.support_vectors_"
   ]
  },
  {
   "cell_type": "code",
   "execution_count": 8,
   "metadata": {},
   "outputs": [
    {
     "data": {
      "text/plain": [
       "array([4, 5, 0, 1])"
      ]
     },
     "execution_count": 8,
     "metadata": {},
     "output_type": "execute_result"
    }
   ],
   "source": [
    "# View indices of support vectors\n",
    "model.support_"
   ]
  },
  {
   "cell_type": "code",
   "execution_count": 9,
   "metadata": {},
   "outputs": [
    {
     "name": "stdout",
     "output_type": "stream",
     "text": [
      "The following are Support Vectors:\n",
      "[3 3 2]\n",
      "[2 4 1]\n",
      "[3 4 5]\n",
      "[2 7 2]\n"
     ]
    }
   ],
   "source": [
    "# View the support vectors for each class\n",
    "print('The following are Support Vectors:')\n",
    "for index in model.support_:\n",
    "    print('{}'.format(X[index]))"
   ]
  },
  {
   "cell_type": "markdown",
   "metadata": {},
   "source": [
    "### Mining of Massive Datasets - Page 481 --- Exercise 12.4.3: (a), (b)\n",
    "```\n",
    "Consider the one-dimensional training set\n",
    "(1,1), (2,2), (4,3), (8,4), (16,5), (32,6)\n",
    "Describe the function f(q), the label that is returned in response to the query q, when the interpolation used is:\n",
    "```"
   ]
  },
  {
   "cell_type": "code",
   "execution_count": 76,
   "metadata": {},
   "outputs": [],
   "source": [
    "#Load library\n",
    "import numpy as np\n",
    "import matplotlib.pyplot as plt\n",
    "from scipy import interpolate\n",
    "\n",
    "#Create an array to hold training set\n",
    "points = np.array([[1,1], [2,2], [4,3], [8,4], [16,5], [32,6]])"
   ]
  },
  {
   "cell_type": "markdown",
   "metadata": {},
   "source": [
    "* (a) - The label of the nearest neighbor"
   ]
  },
  {
   "cell_type": "code",
   "execution_count": 161,
   "metadata": {},
   "outputs": [
    {
     "data": {
      "image/png": "[encoded data removed]",
      "text/plain": [
       "<Figure size 432x288 with 1 Axes>"
      ]
     },
     "metadata": {
      "needs_background": "light"
     },
     "output_type": "display_data"
    }
   ],
   "source": [
    "\"\"\"\n",
    "References: Sam helped me a ton, attempted https://mmas.github.io/interpolation-scipy but couldn't get it to work \n",
    "with the numbers I wanted to use.\n",
    "\"\"\"\n",
    "#Function using train (x,y) and returns y for q based on 1 nearest neighbor\n",
    "def interpolation_nn(train, q):\n",
    "    #I played around with the number some and it didn't change so I just decided 50\n",
    "    nearest_dist = 50\n",
    "    for point in train:\n",
    "        x = point[0]\n",
    "        y = point[1]\n",
    "        if abs(q - x) < nearest_dist:\n",
    "            nearest_dist = abs(q-x)\n",
    "            label = y\n",
    "    return label\n",
    "\n",
    "#This was mentioned in our Tuesday call I believe and there were some posts on it. \n",
    "#I saw some examples with linspace, but couldn't figure it out \n",
    "x = np.arange(0, 33, 0.01)\n",
    "y = np.array([])\n",
    "#Loop to update y array\n",
    "for q in x:\n",
    "    y = np.append(y, interpolation_nn(points, q))\n",
    "\n",
    "#Plotting the data. I also saw in examples plotting the points, real values, and interpolation but again couldn't make it work    \n",
    "plt.plot(x, y)\n",
    "plt.xlabel('q')\n",
    "plt.ylabel('label')\n",
    "plt.title('1D Nearest Neighbor')\n",
    "plt.show()"
   ]
  },
  {
   "cell_type": "markdown",
   "metadata": {},
   "source": [
    "* (b) - The average of the labels of the two nearest neighbors"
   ]
  },
  {
   "cell_type": "code",
   "execution_count": 163,
   "metadata": {},
   "outputs": [
    {
     "data": {
      "image/png": "[encoded data removed]",
      "text/plain": [
       "<Figure size 432x288 with 1 Axes>"
      ]
     },
     "metadata": {
      "needs_background": "light"
     },
     "output_type": "display_data"
    }
   ],
   "source": [
    "\"\"\"\n",
    "Reference: Again got help from Sam. He broke it down enough for it to make sense \n",
    "\"\"\"\n",
    "#Function similar to (a)\n",
    "def interpolation_nn_2(train, q):\n",
    "    distances = []\n",
    "    for point in train:\n",
    "        x = point[0]\n",
    "        y = point[1]\n",
    "        distances.append(abs(q-x))\n",
    "    \n",
    "    #Again played with distance numbers and it did not affect the outcome that I could see\n",
    "    smallest = 100\n",
    "    smallest_i = 0\n",
    "    sec_smallest = 50\n",
    "    sec_smallest_i = 0\n",
    "    for i in range(len(distances)):\n",
    "        if distances[i] < smallest:\n",
    "            smallest = distances[i]\n",
    "            smallest_i = i\n",
    "    for i in range(len(distances)):\n",
    "        if distances[i] < sec_smallest and i != smallest_i:\n",
    "            sec_smallest = distances[i]\n",
    "            sec_smallest_i = i\n",
    "    \n",
    "    #Getting the average of the 2 nearest neighbors        \n",
    "    avg_of_labels = (train[smallest_i][1] + train[sec_smallest_i][1]) / 2\n",
    "    return avg_of_labels\n",
    "\n",
    "#Did the same as above using arnage instead of linspace\n",
    "x = np.arange(0, 33, 0.01)\n",
    "y = np.array([])\n",
    "#Loop to update y array\n",
    "for q in x:\n",
    "    y = np.append(y, interpolation_nn_2(points, q))\n",
    "\n",
    "#Plotting the interpolation line\n",
    "plt.plot(x,y)\n",
    "plt.xlabel('q')\n",
    "plt.ylabel('label')\n",
    "plt.title('Average 2 Nearest Neighbors')\n",
    "plt.show()"
   ]
  }
 ],
 "metadata": {
  "kernelspec": {
   "display_name": "Python 3",
   "language": "python",
   "name": "python3"
  },
  "language_info": {
   "codemirror_mode": {
    "name": "ipython",
    "version": 3
   },
   "file_extension": ".py",
   "mimetype": "text/x-python",
   "name": "python",
   "nbconvert_exporter": "python",
   "pygments_lexer": "ipython3",
   "version": "3.7.6"
  }
 },
 "nbformat": 4,
 "nbformat_minor": 4
}
