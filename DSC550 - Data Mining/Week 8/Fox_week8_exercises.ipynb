{
 "cells": [
  {
   "cell_type": "markdown",
   "metadata": {},
   "source": [
    "```\n",
    "Name - Andrea Fox\n",
    "Date - July 22, 2020\n",
    "Class - DSC550-T301\n",
    "Assignment - Week 8 Exercises - Dimensionality Reduction & Neural Nets\n",
    "```"
   ]
  },
  {
   "cell_type": "markdown",
   "metadata": {},
   "source": [
    "# 1 - Dimensionality Reduction"
   ]
  },
  {
   "cell_type": "markdown",
   "metadata": {},
   "source": [
    "### Part A)\n",
    "```\n",
    "Here is a table of 1-5 star ratings for five movies (M, N, P. Q. R) by three raters (A,B,C). \n",
    "Rater\tM\tN\tP\tQ\tR\n",
    "A\t1\t2\t3\t4\t5\n",
    "B\t2\t3\t2\t5\t3\n",
    "C\t5\t5\t5\t3\t2\n",
    "Normalize the ratings by subtracting the average for each row and then subtracting the average for each column in the resulting table.\n",
    "```"
   ]
  },
  {
   "cell_type": "code",
   "execution_count": 28,
   "metadata": {},
   "outputs": [],
   "source": [
    "#Load libraries for question 1\n",
    "import pandas as pd\n",
    "import numpy as np\n",
    "import scipy.linalg as la"
   ]
  },
  {
   "cell_type": "code",
   "execution_count": 2,
   "metadata": {},
   "outputs": [
    {
     "data": {
      "text/html": [
       "<div>\n",
       "<style scoped>\n",
       "    .dataframe tbody tr th:only-of-type {\n",
       "        vertical-align: middle;\n",
       "    }\n",
       "\n",
       "    .dataframe tbody tr th {\n",
       "        vertical-align: top;\n",
       "    }\n",
       "\n",
       "    .dataframe thead th {\n",
       "        text-align: right;\n",
       "    }\n",
       "</style>\n",
       "<table border=\"1\" class=\"dataframe\">\n",
       "  <thead>\n",
       "    <tr style=\"text-align: right;\">\n",
       "      <th></th>\n",
       "      <th>M</th>\n",
       "      <th>N</th>\n",
       "      <th>P</th>\n",
       "      <th>Q</th>\n",
       "      <th>R</th>\n",
       "    </tr>\n",
       "  </thead>\n",
       "  <tbody>\n",
       "    <tr>\n",
       "      <th>A</th>\n",
       "      <td>1</td>\n",
       "      <td>2</td>\n",
       "      <td>3</td>\n",
       "      <td>4</td>\n",
       "      <td>5</td>\n",
       "    </tr>\n",
       "    <tr>\n",
       "      <th>B</th>\n",
       "      <td>2</td>\n",
       "      <td>3</td>\n",
       "      <td>2</td>\n",
       "      <td>5</td>\n",
       "      <td>3</td>\n",
       "    </tr>\n",
       "    <tr>\n",
       "      <th>C</th>\n",
       "      <td>5</td>\n",
       "      <td>5</td>\n",
       "      <td>5</td>\n",
       "      <td>3</td>\n",
       "      <td>2</td>\n",
       "    </tr>\n",
       "  </tbody>\n",
       "</table>\n",
       "</div>"
      ],
      "text/plain": [
       "   M  N  P  Q  R\n",
       "A  1  2  3  4  5\n",
       "B  2  3  2  5  3\n",
       "C  5  5  5  3  2"
      ]
     },
     "execution_count": 2,
     "metadata": {},
     "output_type": "execute_result"
    }
   ],
   "source": [
    "\"\"\"\n",
    "Reference: https://gist.github.com/primaryobjects/0414cf64fe38f2eca1ee\n",
    "Found this cheat sheet to get some of the R to Python: https://towardsdatascience.com/cheat-sheet-for-python-dataframe-r-dataframe-syntax-conversions-450f656b44ca\n",
    "\"\"\"\n",
    "\n",
    "#Create dataframe with information\n",
    "m = {'M': [1,2,5], \n",
    "         'N': [2,3,5], \n",
    "         'P': [3,2,5], \n",
    "         'Q': [4,5,3], \n",
    "         'R': [5,3,2]}\n",
    "\n",
    "movies = pd.DataFrame(m, index = ['A', 'B', 'C'])\n",
    "\n",
    "#Preview dataframe\n",
    "movies"
   ]
  },
  {
   "cell_type": "code",
   "execution_count": 3,
   "metadata": {},
   "outputs": [
    {
     "data": {
      "text/plain": [
       "A    3.0\n",
       "B    3.0\n",
       "C    4.0\n",
       "dtype: float64"
      ]
     },
     "execution_count": 3,
     "metadata": {},
     "output_type": "execute_result"
    }
   ],
   "source": [
    "#Compute average for each row\n",
    "movies.mean(axis = 1)"
   ]
  },
  {
   "cell_type": "code",
   "execution_count": 4,
   "metadata": {},
   "outputs": [
    {
     "data": {
      "text/html": [
       "<div>\n",
       "<style scoped>\n",
       "    .dataframe tbody tr th:only-of-type {\n",
       "        vertical-align: middle;\n",
       "    }\n",
       "\n",
       "    .dataframe tbody tr th {\n",
       "        vertical-align: top;\n",
       "    }\n",
       "\n",
       "    .dataframe thead th {\n",
       "        text-align: right;\n",
       "    }\n",
       "</style>\n",
       "<table border=\"1\" class=\"dataframe\">\n",
       "  <thead>\n",
       "    <tr style=\"text-align: right;\">\n",
       "      <th></th>\n",
       "      <th>M</th>\n",
       "      <th>N</th>\n",
       "      <th>P</th>\n",
       "      <th>Q</th>\n",
       "      <th>R</th>\n",
       "    </tr>\n",
       "  </thead>\n",
       "  <tbody>\n",
       "    <tr>\n",
       "      <th>A</th>\n",
       "      <td>-2.0</td>\n",
       "      <td>-1.0</td>\n",
       "      <td>0.0</td>\n",
       "      <td>1.0</td>\n",
       "      <td>2.0</td>\n",
       "    </tr>\n",
       "    <tr>\n",
       "      <th>B</th>\n",
       "      <td>-1.0</td>\n",
       "      <td>0.0</td>\n",
       "      <td>-1.0</td>\n",
       "      <td>2.0</td>\n",
       "      <td>0.0</td>\n",
       "    </tr>\n",
       "    <tr>\n",
       "      <th>C</th>\n",
       "      <td>1.0</td>\n",
       "      <td>1.0</td>\n",
       "      <td>1.0</td>\n",
       "      <td>-1.0</td>\n",
       "      <td>-2.0</td>\n",
       "    </tr>\n",
       "  </tbody>\n",
       "</table>\n",
       "</div>"
      ],
      "text/plain": [
       "     M    N    P    Q    R\n",
       "A -2.0 -1.0  0.0  1.0  2.0\n",
       "B -1.0  0.0 -1.0  2.0  0.0\n",
       "C  1.0  1.0  1.0 -1.0 -2.0"
      ]
     },
     "execution_count": 4,
     "metadata": {},
     "output_type": "execute_result"
    }
   ],
   "source": [
    "#Subtract average of each forw from each value in row\n",
    "df = movies.sub(movies.mean(axis = 1), axis = 0)\n",
    "df"
   ]
  },
  {
   "cell_type": "code",
   "execution_count": 5,
   "metadata": {},
   "outputs": [
    {
     "data": {
      "text/plain": [
       "M   -0.666667\n",
       "N    0.000000\n",
       "P    0.000000\n",
       "Q    0.666667\n",
       "R    0.000000\n",
       "dtype: float64"
      ]
     },
     "execution_count": 5,
     "metadata": {},
     "output_type": "execute_result"
    }
   ],
   "source": [
    "#Compute average for each column\n",
    "df.mean()"
   ]
  },
  {
   "cell_type": "code",
   "execution_count": 6,
   "metadata": {},
   "outputs": [
    {
     "data": {
      "text/html": [
       "<div>\n",
       "<style scoped>\n",
       "    .dataframe tbody tr th:only-of-type {\n",
       "        vertical-align: middle;\n",
       "    }\n",
       "\n",
       "    .dataframe tbody tr th {\n",
       "        vertical-align: top;\n",
       "    }\n",
       "\n",
       "    .dataframe thead th {\n",
       "        text-align: right;\n",
       "    }\n",
       "</style>\n",
       "<table border=\"1\" class=\"dataframe\">\n",
       "  <thead>\n",
       "    <tr style=\"text-align: right;\">\n",
       "      <th></th>\n",
       "      <th>M</th>\n",
       "      <th>N</th>\n",
       "      <th>P</th>\n",
       "      <th>Q</th>\n",
       "      <th>R</th>\n",
       "    </tr>\n",
       "  </thead>\n",
       "  <tbody>\n",
       "    <tr>\n",
       "      <th>A</th>\n",
       "      <td>-1.333333</td>\n",
       "      <td>-1.0</td>\n",
       "      <td>0.0</td>\n",
       "      <td>0.333333</td>\n",
       "      <td>2.0</td>\n",
       "    </tr>\n",
       "    <tr>\n",
       "      <th>B</th>\n",
       "      <td>-0.333333</td>\n",
       "      <td>0.0</td>\n",
       "      <td>-1.0</td>\n",
       "      <td>1.333333</td>\n",
       "      <td>0.0</td>\n",
       "    </tr>\n",
       "    <tr>\n",
       "      <th>C</th>\n",
       "      <td>1.666667</td>\n",
       "      <td>1.0</td>\n",
       "      <td>1.0</td>\n",
       "      <td>-1.666667</td>\n",
       "      <td>-2.0</td>\n",
       "    </tr>\n",
       "  </tbody>\n",
       "</table>\n",
       "</div>"
      ],
      "text/plain": [
       "          M    N    P         Q    R\n",
       "A -1.333333 -1.0  0.0  0.333333  2.0\n",
       "B -0.333333  0.0 -1.0  1.333333  0.0\n",
       "C  1.666667  1.0  1.0 -1.666667 -2.0"
      ]
     },
     "execution_count": 6,
     "metadata": {},
     "output_type": "execute_result"
    }
   ],
   "source": [
    "#Subtract mean of each column from each value in column\n",
    "df = df.sub(df.mean(axis = 0), axis = 1)\n",
    "df"
   ]
  },
  {
   "cell_type": "markdown",
   "metadata": {},
   "source": [
    "### Part B)\n",
    "```\n",
    "This is a table giving the profile of three items:\n",
    "A\t1\t0\t1\t0\t1\t2\n",
    "B\t1\t1\t0\t0\t1\t6\n",
    "C\t0\t1\t0\t1\t0\t2\n",
    "The first five attributes are Boolean, and the last is an integer \"rating.\" Assume that the scale factor for the rating is α. Compute, as a function of α, the cosine distances between each pair of profiles. For each of α = 0, 0.5, 1, and 2, determine the cosine of the angle between each pair of vectors.\n",
    "```"
   ]
  },
  {
   "cell_type": "code",
   "execution_count": 10,
   "metadata": {},
   "outputs": [],
   "source": [
    "#Create arrays for each row\n",
    "a = np.array([1,0,1,0,1,2])\n",
    "b = np.array([1,1,0,0,1,6])\n",
    "c = np.array([0,1,0,1,0,2])\n",
    "\n",
    "#Create label for each row\n",
    "rows = ['a','b', 'c']\n",
    "labels = [a,b,c]"
   ]
  },
  {
   "cell_type": "code",
   "execution_count": 11,
   "metadata": {},
   "outputs": [],
   "source": [
    "#Defining a cosine distance function that takes 2 inputs\n",
    "def cosDist(x, y):\n",
    "    return np.dot(x, y) / (np.sqrt(np.sum(np.power(x, 2))) * np.sqrt(np.sum(np.power(y, 2))))\n",
    "\n",
    "#Defining weighted cosine that takes x, y, attr_index (attribute index), and alpha (weight to apply to target)\n",
    "def weightcos(x, y, attr_index, alpha):\n",
    "    a = np.copy(x)\n",
    "    b = np.copy(y)\n",
    "    \n",
    "    if len(x) != len(y):\n",
    "        print('Lengths do no match')\n",
    "        return 0\n",
    "    \n",
    "    #Apply weights to attributes\n",
    "    a[attr_index] = a[attr_index] * alpha\n",
    "    b[attr_index] = b[attr_index] * alpha\n",
    "    \n",
    "    #Return cosDist with the weights\n",
    "    return cosDist(a,b)"
   ]
  },
  {
   "cell_type": "code",
   "execution_count": 13,
   "metadata": {},
   "outputs": [
    {
     "name": "stdout",
     "output_type": "stream",
     "text": [
      "a - b | 0  : 0.6667\n",
      "a - b | 0.5: 0.7217\n",
      "a - b | 1  : 0.8473\n",
      "a - b | 2  : 0.9461\n",
      "a - c | 0  : 0.0\n",
      "a - c | 0.5: 0.2887\n",
      "a - c | 1  : 0.6172\n",
      "a - c | 2  : 0.8652\n",
      "b - a | 0  : 0.6667\n",
      "b - a | 0.5: 0.7217\n",
      "b - a | 1  : 0.8473\n",
      "b - a | 2  : 0.9461\n",
      "b - c | 0  : 0.4082\n",
      "b - c | 0.5: 0.6667\n",
      "b - c | 1  : 0.8498\n",
      "b - c | 2  : 0.9526\n",
      "c - a | 0  : 0.0\n",
      "c - a | 0.5: 0.2887\n",
      "c - a | 1  : 0.6172\n",
      "c - a | 2  : 0.8652\n",
      "c - b | 0  : 0.4082\n",
      "c - b | 0.5: 0.6667\n",
      "c - b | 1  : 0.8498\n",
      "c - b | 2  : 0.9526\n"
     ]
    }
   ],
   "source": [
    "#Weights\n",
    "index = 5\n",
    "weights = [0,0.5,1,2]\n",
    "\n",
    "#Printing out each angle cosine for each pair\n",
    "for i, (r,l) in enumerate(zip(labels, rows)):\n",
    "    for j in range(len(labels)):\n",
    "        if i == j:\n",
    "            next\n",
    "        else:\n",
    "            for w in weights:\n",
    "                angle_cosine = weightcos(r, labels[j], index, w)\n",
    "                print(f'{rows[i]} - {rows[j]} | {w:<3}: {round(angle_cosine,4)}')"
   ]
  },
  {
   "cell_type": "markdown",
   "metadata": {},
   "source": [
    "### Part C)\n",
    "```\n",
    "In this question, all columns will be written in their transposed form, as rows, to make the typography simpler. Matrix M has three rows and two columns, and the columns form an orthonormal basis. One of the columns is [2/7,3/7,6/7]. There are many options for the second column [x,y,z]. Write down those constraints on x, y, and z. Then, identify in the list below the one column that could be [x,y,z]. All components are computed to three decimal places, so the constraints may be satisfied only to a close approximation.\n",
    "```"
   ]
  },
  {
   "cell_type": "code",
   "execution_count": null,
   "metadata": {},
   "outputs": [],
   "source": [
    "col1 = np.array([2/7, 3/7, 6/7])\n",
    "\n"
   ]
  },
  {
   "cell_type": "markdown",
   "metadata": {},
   "source": [
    "### Part D)\n",
    "```\n",
    "Suppose we have three points in a two dimensional space: (1,1), (2,2), and (3,4). We want to perform PCA on these points, so we construct a 2-by-2 matrix whose eigenvectors are the directions that best represent these three points. Construct this matrix.\n",
    "```"
   ]
  },
  {
   "cell_type": "code",
   "execution_count": 29,
   "metadata": {},
   "outputs": [
    {
     "data": {
      "text/plain": [
       "array([[-0.77512996, -0.63180182],\n",
       "       [ 0.63180182, -0.77512996]])"
      ]
     },
     "execution_count": 29,
     "metadata": {},
     "output_type": "execute_result"
    }
   ],
   "source": [
    "\"\"\"\n",
    "Referenced: http://www.physics.utah.edu/~detar/lessons/python/numpy_eigen/node1.html for some of the information\n",
    "\"\"\"\n",
    "#Create an array for the points\n",
    "x = np.array([[1,1], [2,2], [3,4]])\n",
    "y = np.dot(x.transpose(), x)\n",
    "\n",
    "#Setting eigenvalues and eigenvectors\n",
    "eigvals, eigvecs = la.eig(y)\n",
    "\n",
    "#Find eigenvectors\n",
    "eigvecs"
   ]
  },
  {
   "cell_type": "code",
   "execution_count": 30,
   "metadata": {},
   "outputs": [
    {
     "data": {
      "text/plain": [
       "array([ 0.14344504, 34.85655496])"
      ]
     },
     "execution_count": 30,
     "metadata": {},
     "output_type": "execute_result"
    }
   ],
   "source": [
    "#Find eigenvalues\n",
    "eigvals.real"
   ]
  },
  {
   "cell_type": "markdown",
   "metadata": {},
   "source": [
    "### Part E)\n",
    "```\n",
    "Identify the vector that is orthogonal to the vector [1,2,3].\n",
    "```"
   ]
  },
  {
   "cell_type": "code",
   "execution_count": 31,
   "metadata": {},
   "outputs": [
    {
     "data": {
      "text/plain": [
       "0"
      ]
     },
     "execution_count": 31,
     "metadata": {},
     "output_type": "execute_result"
    }
   ],
   "source": [
    "\"\"\"\n",
    "Referenced: https://www.youtube.com/watch?v=8t4qgEXKguw&feature=youtu.be\n",
    "\"\"\"\n",
    "\n",
    "v = np.array([1,2,3])\n",
    "\n",
    "#If u = np.array([a,b,c]) we would have the following:\n",
    "# v dot u = \n",
    "# 1 + 2 + 3c = 0\n",
    "# 3 + 3c = 0\n",
    "# 3c = -3\n",
    "#c = -1\n",
    "u = np.array([1,1,-1])\n",
    "np.dot(v,u)"
   ]
  },
  {
   "cell_type": "markdown",
   "metadata": {},
   "source": [
    "### Part F)\n",
    "```\n",
    "Consider the diagonal matrix M =\n",
    "\n",
    "1\t0\t0\n",
    "0\t2\t0\n",
    "0\t0\t0\n",
    "Compute its Moore-Penrose pseudoinverse.\n",
    "```"
   ]
  },
  {
   "cell_type": "code",
   "execution_count": 15,
   "metadata": {},
   "outputs": [
    {
     "data": {
      "text/plain": [
       "array([[1. , 0. , 0. ],\n",
       "       [0. , 0.5, 0. ],\n",
       "       [0. , 0. , 0. ]])"
      ]
     },
     "execution_count": 15,
     "metadata": {},
     "output_type": "execute_result"
    }
   ],
   "source": [
    "#Create dataframe from matrix M\n",
    "M = pd.DataFrame(np.array([[1, 0, 0], [0, 2, 0], [0, 0, 0]]))\n",
    "\n",
    "#Compute Moore-Penrose pseudoinverse\n",
    "np.linalg.pinv(M)"
   ]
  },
  {
   "cell_type": "markdown",
   "metadata": {},
   "source": [
    "# 2 - Exercise 11.3.2 from the Mining of Massive Dataset text"
   ]
  },
  {
   "cell_type": "markdown",
   "metadata": {},
   "source": [
    "```\n",
    "Use the SVD from Fig. 11.7. Suppose Leslie assigns rating 3 to Alien and rating 4 to Titanic, giving us a representation of Leslie in \"movie space\" of [0,3,0,0,4]. Find the representation of Leslie in concept space. What does that representation predict about how well Leslie would like the other movies appearing in our example data?\n",
    "```"
   ]
  },
  {
   "cell_type": "code",
   "execution_count": 16,
   "metadata": {},
   "outputs": [],
   "source": [
    "#Import libraries\n",
    "import pandas as pd\n",
    "import numpy as np\n",
    "from scipy.linalg import svd"
   ]
  },
  {
   "cell_type": "code",
   "execution_count": 17,
   "metadata": {},
   "outputs": [
    {
     "data": {
      "text/plain": [
       "array([[1, 1, 1, 0, 0],\n",
       "       [3, 3, 3, 0, 0],\n",
       "       [4, 4, 4, 0, 0],\n",
       "       [5, 5, 5, 0, 0],\n",
       "       [0, 0, 0, 4, 4],\n",
       "       [0, 0, 0, 5, 5],\n",
       "       [0, 0, 0, 2, 2]])"
      ]
     },
     "execution_count": 17,
     "metadata": {},
     "output_type": "execute_result"
    }
   ],
   "source": [
    "#M from figure 11.7\n",
    "M_main = np.array([[1,1,1,0,0],[3,3,3,0,0],[4,4,4,0,0],[5,5,5,0,0],[0,0,0,4,4],[0,0,0,5,5],[0,0,0,2,2]])\n",
    "M_main"
   ]
  },
  {
   "cell_type": "code",
   "execution_count": 18,
   "metadata": {},
   "outputs": [
    {
     "data": {
      "text/plain": [
       "array([[1, 1, 1, 0, 0],\n",
       "       [3, 3, 3, 0, 0],\n",
       "       [4, 4, 4, 0, 0],\n",
       "       [5, 5, 5, 0, 0],\n",
       "       [0, 0, 0, 4, 4],\n",
       "       [0, 0, 0, 5, 5],\n",
       "       [0, 0, 0, 2, 2],\n",
       "       [0, 3, 0, 0, 4]])"
      ]
     },
     "execution_count": 18,
     "metadata": {},
     "output_type": "execute_result"
    }
   ],
   "source": [
    "#Leslie's \n",
    "M_Leslie = np.array([[1,1,1,0,0],[3,3,3,0,0],[4,4,4,0,0],\n",
    "                   [5,5,5,0,0],[0,0,0,4,4],[0,0,0,5,5],\n",
    "                   [0,0,0,2,2],[0,3,0,0,4]])\n",
    "\n",
    "M_Leslie"
   ]
  },
  {
   "cell_type": "code",
   "execution_count": 20,
   "metadata": {},
   "outputs": [
    {
     "data": {
      "text/plain": [
       "array([[-0.57735027, -0.57735027, -0.57735027, -0.        , -0.        ],\n",
       "       [-0.        , -0.        , -0.        , -0.70710678, -0.70710678],\n",
       "       [ 0.        ,  0.        ,  0.        , -0.70710678,  0.70710678],\n",
       "       [ 0.        , -0.70710678,  0.70710678,  0.        ,  0.        ],\n",
       "       [ 0.81649658, -0.40824829, -0.40824829,  0.        ,  0.        ]])"
      ]
     },
     "execution_count": 20,
     "metadata": {},
     "output_type": "execute_result"
    }
   ],
   "source": [
    "#SVD\n",
    "L_U, L_s, L_VT = svd(M_Leslie)\n",
    "Uo, so, VTo = svd(M_main)\n",
    "\n",
    "Leslie = np.array([0,3,0,0,4])\n",
    "VTo"
   ]
  },
  {
   "cell_type": "code",
   "execution_count": 21,
   "metadata": {},
   "outputs": [
    {
     "data": {
      "text/plain": [
       "array([[0.58, 0.58, 0.58, 0.  , 0.  ],\n",
       "       [0.  , 0.  , 0.  , 0.71, 0.71]])"
      ]
     },
     "execution_count": 21,
     "metadata": {},
     "output_type": "execute_result"
    }
   ],
   "source": [
    "#Getting the rest of the matrixes from figure 11.7\n",
    "U = np.array([[.14,0],\n",
    "             [.42,0],\n",
    "             [.56,0],\n",
    "             [.70,0],\n",
    "             [0,.60],\n",
    "             [0,.75],\n",
    "             [0,.30]\n",
    "             ])\n",
    "\n",
    "Sigma = np.array([[12.4,0],\n",
    "                 [0,9.5]\n",
    "                 ])\n",
    "\n",
    "V_trans = np.array([[.58,.58,.58,0,0],\n",
    "                    [0,0,0,.71,.71]])\n",
    "\n",
    "V_trans"
   ]
  },
  {
   "cell_type": "code",
   "execution_count": 24,
   "metadata": {},
   "outputs": [
    {
     "data": {
      "text/plain": [
       "array([1.74, 2.84])"
      ]
     },
     "execution_count": 24,
     "metadata": {},
     "output_type": "execute_result"
    }
   ],
   "source": [
    "#To get Leslie in concept space, we multiply leslie's ratings with de-transposed V_trans matrix (p.430)\n",
    "V = V_trans.transpose()\n",
    "\n",
    "# calc dot product to get concept space\n",
    "CS = np.dot(Leslie,V)\n",
    "CS"
   ]
  },
  {
   "cell_type": "code",
   "execution_count": 25,
   "metadata": {},
   "outputs": [
    {
     "data": {
      "text/plain": [
       "array([1.0092, 1.0092, 1.0092, 2.0164, 2.0164])"
      ]
     },
     "execution_count": 25,
     "metadata": {},
     "output_type": "execute_result"
    }
   ],
   "source": [
    "#Determine how Leslie might feel about the other moves\n",
    "np.dot(CS,V_trans)"
   ]
  },
  {
   "cell_type": "code",
   "execution_count": 26,
   "metadata": {},
   "outputs": [
    {
     "data": {
      "text/plain": [
       "array([0, 3, 0, 0, 4])"
      ]
     },
     "execution_count": 26,
     "metadata": {},
     "output_type": "execute_result"
    }
   ],
   "source": [
    "#Leslie's ratings\n",
    "Leslie"
   ]
  },
  {
   "cell_type": "markdown",
   "metadata": {},
   "source": [
    "```\n",
    "The results show that Leslie is more likely to prefer Romance moves over others\n",
    "```"
   ]
  }
 ],
 "metadata": {
  "kernelspec": {
   "display_name": "Python 3",
   "language": "python",
   "name": "python3"
  },
  "language_info": {
   "codemirror_mode": {
    "name": "ipython",
    "version": 3
   },
   "file_extension": ".py",
   "mimetype": "text/x-python",
   "name": "python",
   "nbconvert_exporter": "python",
   "pygments_lexer": "ipython3",
   "version": "3.7.6"
  }
 },
 "nbformat": 4,
 "nbformat_minor": 4
}
