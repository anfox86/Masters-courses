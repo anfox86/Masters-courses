{
 "cells": [
  {
   "cell_type": "code",
   "execution_count": 51,
   "metadata": {},
   "outputs": [],
   "source": [
    "from __future__ import print_function, division\n",
    "import json\n",
    "from copy import copy, deepcopy\n",
    "import pandas as pd\n",
    "import time\n",
    "import argparse\n",
    "import sys\n",
    "import traceback\n",
    "import matplotlib.pyplot as plt \n",
    "import numpy as np\n",
    "import math\n",
    "from random import random\n",
    "from scipy.spatial.distance import cdist\n",
    "import scipy\n",
    "from itertools import combinations\n",
    "from statsmodels.distributions.empirical_distribution import ECDF\n",
    "from scipy.spatial.distance import cdist\n",
    "import scipy\n",
    "from matplotlib import pyplot\n",
    "from scipy import stats\n",
    "%matplotlib inline"
   ]
  },
  {
   "cell_type": "markdown",
   "metadata": {},
   "source": [
    "# 1. Closed Itemset Mining"
   ]
  },
  {
   "cell_type": "markdown",
   "metadata": {},
   "source": [
    "```\n",
    "Implement the CHARM algorithm for frequent closed itemset mining (see Algorithm 9.2 in chapter 9). Download the file mushroom.txt for your runs. Each line of the file contains a transaction, i.e., as set of items that occur together. The transactions do not have to be of the same length, but you may assume that each line will be sorted on the items.\n",
    "\n",
    "Your script should accept the filename and minimum support value from the command line. It should be run as: ScriptName mushroom.txt MINSUP. Here MINSUP is in absolute numbers.\n",
    "\n",
    "Your script should output all the frequent closed itemsets in the following format:\n",
    "\n",
    "closed itemset - support\n",
    "\n",
    "with one itemset and its support per line. It should also print the total number of frequent closed itemsets on the last line of the output.\n",
    "\n",
    "Run your code on mushroom.txt for two different values of minsup, namely minsup = 5000, and minsup = 3000, and record the output.\n",
    "```"
   ]
  },
  {
   "cell_type": "code",
   "execution_count": 41,
   "metadata": {},
   "outputs": [
    {
     "name": "stdout",
     "output_type": "stream",
     "text": [
      "Tid count: 8124\n",
      "Tid count: 8124\n",
      "None\n",
      "##############################################################\n",
      "File: mushroom.txt\n",
      "Python elapsed time: 4.64 s\n"
     ]
    }
   ],
   "source": [
    "#This is based off of brute force example and https://github.com/klepaczmikolaj/data-mining-Charm/blob/da32d5536f362b26c2f4880a1a0010d4f01dc2b1/charm.py\n",
    "class DataPreparation:\n",
    "    transactional = []\n",
    "    tid_count = 0\n",
    "    \n",
    "    def import_data(self, filename):\n",
    "        with open(filename, 'r') as file:\n",
    "            tid = 1\n",
    "            for line in file:\n",
    "                line = line.strip().split()\n",
    "                for element in line:\n",
    "                    self.transactional.append({'tid': tid, 'item': element})\n",
    "                tid += 1\n",
    "        self.tid_count = tid - 1\n",
    "        \n",
    "    def transform_data(self):\n",
    "        df = pd.DataFrame(self.transactional)\n",
    "        self.itemsGrouped = df.groupby(['item'])['tid'].apply(list)\n",
    "        self.itemsGrouped = pd.DataFrame({'item': self.itemsGrouped.index, 'tid': self.itemsGrouped.values})\n",
    "        self.itemsGrouped['item'] = self.itemsGrouped['item'].apply(lambda x: {x})\n",
    "        \n",
    "    def get_frequent_items(self, min_sup):\n",
    "        print('Tid count: {}'.format(self.tid_count))\n",
    "        return self.itemsGrouped[self.itemsGrouped['tid'].map(len) >= min_sup]\n",
    "    \n",
    "class CharmAlgorithm:\n",
    "    def __init__(self, min_sup_config, tid_count):\n",
    "        self.result = pd.DataFrame(columns=['item', 'tid', 'support'])\n",
    "        self.min_sup = min_sup_config\n",
    "        \n",
    "    @staticmethod\n",
    "    def replace_values(df, column, find, replace):\n",
    "        for row in df.itertuples():\n",
    "            if find <= row[column]:\n",
    "                row[column].update(replace)\n",
    "                \n",
    "    \n",
    "    def charm_property(self, row1, row2, items, new_item, new_tid): \n",
    "        if len(new_tid) >= self.min_sup: \n",
    "            if set(row1[2]) == set(row2[2]): \n",
    "                # remove row2[1] from items \n",
    "                items = items[items['item'] != row2[1]] \n",
    "                # replace all row1[1] with new_item \n",
    "                find = copy(row1[1]) \n",
    "                self.replace_values(items, 1, find, new_item) \n",
    "                self.replace_values(self.items_tmp, 1, find, new_item) \n",
    "            elif set(row1[2]).issubset(set(row2[2])): \n",
    "                # replace all row1[1] with new_item \n",
    "                find = copy(row1[1]) \n",
    "                self.replace_values(items, 1, find, new_item) \n",
    "                self.replace_values(self.items_tmp, 1, find, new_item) \n",
    "            elif set(row2[2]).issubset(set(row1[2])): \n",
    "                # remove row2[1] from items \n",
    "                items = items[items['item'] != row2[1]] \n",
    "                # add {item, tid} to self.items_tmp \n",
    "                self.items_tmp = self.items_tmp.append({'item': new_item, 'tid': new_tid}, ignore_index=True) \n",
    "                # sort items by ascending support \n",
    "                # s = self.items_tmp.tid.str.len().sort_values().index \n",
    "                # self.items_tmp = self.items_tmp.reindex(s).reset_index(drop=True) \n",
    "            elif set(row1[2]) != set(row2[2]): \n",
    "                # add {item, tid} to self.items_tmp \n",
    "                self.items_tmp = self.items_tmp.append({'item': new_item, 'tid': new_tid}, ignore_index=True) \n",
    "                # sort items by ascending support \n",
    "                # s = self.items_tmp.tid.str.len().sort_values().index \n",
    "                # self.items_tmp = self.items_tmp.reindex(s).reset_index(drop=True) \n",
    "\n",
    "    \n",
    "    def charm_extend(self, items_grouped): \n",
    "        # sort items by ascending support \n",
    "        s = items_grouped.tid.str.len().sort_values().index \n",
    "        items_grouped = items_grouped.reindex(s).reset_index(drop=True) \n",
    "        for row1 in items_grouped.itertuples(): \n",
    "            self.items_tmp = pd.DataFrame(columns=['item', 'tid']) \n",
    "            for row2 in items_grouped.itertuples(): \n",
    "                if row2[0] >= row1[0]: \n",
    "                    item = set() \n",
    "                    item.update(row1[1]) \n",
    "                    item.update(row2[1]) \n",
    "                    tid = list(set(row1[2]) & set(row2[2])) \n",
    "                    self.charm_property(row1, row2, items_grouped, item, tid) \n",
    "            if not self.items_tmp.empty: \n",
    "                self.charm_extend(self.items_tmp) \n",
    "            # check if item subsumed \n",
    "            is_subsumption = False \n",
    "            for row in self.result.itertuples(): \n",
    "                if row1[1].issubset(row[1]) and set(row[2]) == set(row1[2]): \n",
    "                    is_subsumption = True \n",
    "                    break \n",
    "            # append to result if element not subsumed \n",
    "            if not is_subsumption: \n",
    "                self.result = self.result.append({'item': row1[1], 'tid': row1[2], 'support': len(row1[2])}, ignore_index=True) \n",
    "\n",
    "\n",
    "    def write_result_to_file(self, result_file): \n",
    "        self.result.to_csv(result_file, sep='\\t', columns=['item', 'support'], index=False) \n",
    " \n",
    "    def write_result_to_smfl_format(self, result_file): \n",
    "        self.result['item'] = self.result['item'].apply(lambda x: sorted(map(int, x))) \n",
    "        self.result.to_csv(result_file, sep='\\t', columns=['item', 'support'], index=False, header=False) \n",
    "\n",
    "if __name__ == '__main__': \n",
    "    start = time.time()\n",
    "    \n",
    "    # parse args commenting these out as they don't work in jupyter but will on the command line\n",
    "    #parser = argparse.ArgumentParser(description='Generate closed frequent itemsets')\n",
    "    #parser.add_argument('-f', '--filename', help=\"Name of the file with data for itemset generation\", required=True)\n",
    "    #parser.add_argument('-s', '--support', help=\"Minimum support for frequent itemsets\", required=True, type=float)\n",
    "    #parser.add_argument('--output', help=\"Output file name, default: output.txt\", required=False, default='output.txt')\n",
    "    #parser.add_argument('--spmf-format', help=\"Specify output file format as SPMF\", required=False, action='store_true')\n",
    "    #args = parser.parse_args()\n",
    "\n",
    "    # preparation \n",
    "    data = DataPreparation() \n",
    "    #data.import_data(args.filename) \n",
    "    data.import_data('mushroom.txt') \n",
    "    data.transform_data() \n",
    "    #freq = data.get_frequent_items(args.support) \n",
    "    freq = data.get_frequent_items(3000)\n",
    "    freq1 = data.get_frequent_items(5000)\n",
    "\n",
    "    # algorithm \n",
    "    #algorithm = CharmAlgorithm(args.support, data.tid_count) \n",
    "    algorithm = CharmAlgorithm(3000, data.tid_count)\n",
    "    algorithm1 = CharmAlgorithm(5000, data.tid_count)\n",
    "    dataframe = algorithm.result\n",
    "    print(algorithm.charm_extend(freq)) \n",
    "    # write to file \n",
    "    #if args.spmf_format:\n",
    "    spmf_format = False\n",
    "    if spmf_format == True:\n",
    "        #algorithm.write_result_to_smfl_format(args.output)\n",
    "        algorithm.write_result_to_smfl_format('output.csv')\n",
    "    else: \n",
    "        #algorithm.write_result_to_file(args.output)\n",
    "        algorithm.write_result_to_file('output.csv')\n",
    "    end = time.time() \n",
    "    print(\"##############################################################\") \n",
    "    #print('File: ' + args.filename)\n",
    "    print('File: ' + 'mushroom.txt')\n",
    "    print('Python elapsed time: ' + str(round((end - start), 3)) + ' s') "
   ]
  },
  {
   "cell_type": "markdown",
   "metadata": {},
   "source": [
    "# Non Derivable Itemsest"
   ]
  },
  {
   "cell_type": "markdown",
   "metadata": {},
   "source": [
    "```\n",
    "Your goal here is to write a program to compute whether an itemset is derivable or not. The program should take as input the following two files:\n",
    "\n",
    "FILE1: A list of itemsets with their support values (one per line). See the file: itemsets.txt (the format is \"itemset - support\"; one per line)\n",
    "FILE2: A list of itemsets (one per line), whose support bounds have to be derived. See the file: ndi.txt\n",
    "Your program should output for each itemset in FILE2 the following info:\n",
    "\n",
    "itemset: [l,u] derivable/non-derivable\n",
    "\n",
    "where l and u are the lower and upper-bounds on the support.\n",
    "```"
   ]
  },
  {
   "cell_type": "code",
   "execution_count": 56,
   "metadata": {},
   "outputs": [
    {
     "name": "stdout",
     "output_type": "stream",
     "text": [
      "['29', '34', '40', '52', '62']: [2888.0, 2888.0] derivable\n",
      "['7', '29']: [0, 3076.0] non-derivable\n",
      "['29', '48', '58']: [2997.0, 2998.0] non-derivable\n",
      "['7', '29', '36', '40', '52', '58', '60']: [2890.0, 2890.0] derivable\n",
      "['5', '40', '52', '60']: [2893.0, 2893.0] derivable\n",
      "['7', '36', '40', '58']: [2952.0, 2952.0] derivable\n",
      "['36', '40', '52', '58', '60', '66']: [2888.0, 2888.0] derivable\n"
     ]
    }
   ],
   "source": [
    "#We went over this during our Tuesday call. Giving credit to Sam as he helped me with this\n",
    "#Function to get combination for itemset and number combinations\n",
    "def get_combinations(itemset, num_combinations):\n",
    "    #Builds a list for combinations\n",
    "    combination_list = []\n",
    "    #Loops through itemset and finds combinations based on size\n",
    "    for combination in combinations(itemset, num_combinations):\n",
    "        combination_list.append(combination)\n",
    "    return combination_list\n",
    "\n",
    "#Function to calculate the bound value \n",
    "def calc_value(sets, itemset, dictionary, n):\n",
    "    #Building our subsets based on combinations\n",
    "    value = 0.0\n",
    "    for num in range(n-1, 0, -1):\n",
    "        #Builds list of combinations\n",
    "        subsets = get_combinations(itemset, num)\n",
    "        #Loops through combinations\n",
    "        for combination in subsets:\n",
    "            ck = all(item in combination for item in sets)\n",
    "            if ck or sets == ():\n",
    "                i = int(dictionary[combination]) * pow(-1.0, (n+1) - num)\n",
    "                value += i #Originally I had messed this part up and put a 1 instead of i. My data showed everything as non-derivable until fixed\n",
    "    if sets == (): \n",
    "        empty = 0\n",
    "        for dict_value in dictionary.values():\n",
    "            empty += int(dict_value)\n",
    "        value += empty * pow(-1.0, (n+1))\n",
    "    return value\n",
    "\n",
    "#Function to get upper and lower bound for itemset and frequent itemset dictionary\n",
    "def get_bounds(itemset, dictionary):\n",
    "    upper_bounds = []\n",
    "    lower_bounds = []\n",
    "    lower_bound = 0\n",
    "    upper_bound = 0\n",
    "    n = len(itemset)\n",
    "    #Loops through itemset and breaks the combinations into subsets\n",
    "    for index in range(len(itemset)):\n",
    "        subsets = get_combinations(itemset, index)\n",
    "        #Determines if subset is odd or even\n",
    "        boolean_Odd = (n - len(subsets[0]))%2\n",
    "        for combination in subsets:\n",
    "            #If length is odd then update upper bounds\n",
    "            if boolean_Odd:\n",
    "                upper_bounds.append(calc_value(combination, itemset, dictionary, n))\n",
    "            #If length is even then update lower bounds\n",
    "            else:\n",
    "                lower_bounds.append(calc_value(combination, itemset, dictionary, n))\n",
    "    #If the maximum number in lower bounds is less than zero, then we set lower bound to zero\n",
    "    if max(lower_bounds) < 0:\n",
    "        lower_bound = 0\n",
    "    #If maximum number in lower bound is 0 or greater, than we set lower bound to that number    \n",
    "    else:\n",
    "        lower_bound = max(lower_bounds)\n",
    "    #Setting upper bound to the minum number in upper bounds\n",
    "    upper_bound = min(upper_bounds)\n",
    "    #If lower and upper bounds are equal, then they are derivable\n",
    "    if lower_bound == upper_bound:\n",
    "        d = 'derivable'\n",
    "    #If they are not equal, then set to non-derviable\n",
    "    else:\n",
    "        d = 'non-derivable'\n",
    "    #Result gives us the findings with subset, lower and upper bound values, and answer to derivable or not\n",
    "    result = '{}: [{}, {}] {}'.format(itemset, lower_bound, upper_bound, d)\n",
    "    return result\n",
    "#Main function for this exercise\n",
    "def main():\n",
    "    #Learning to put a try block in so I can include an exclusion in case\n",
    "    try:\n",
    "        #Getting data\n",
    "        itemset_df = pd.read_csv('itemsets.txt', header = None)\n",
    "        ndi_df = pd.read_csv('ndi.txt', header = None)\n",
    "        #Process the data into dictionary for itemset.txt\n",
    "        itemset_dict = {}\n",
    "        for i, itemset_sup in enumerate(itemset_df[0]):\n",
    "            set_sup_list = []\n",
    "            for val in itemset_sup.split(' '):\n",
    "                if val == '-':\n",
    "                    continue\n",
    "                else:\n",
    "                    set_sup_list.append(val)\n",
    "        \n",
    "            itemset_dict[tuple(set_sup_list[:-1])] = set_sup_list[-1]\n",
    "        #Process the data into dictionary for ndi.txt\n",
    "        ndi_dict = {}\n",
    "        for i, itemset in enumerate(ndi_df[0]):\n",
    "            ndi_dict[i] = itemset.split(' ')\n",
    "        #Prints the bounds and whether they are derivable or not    \n",
    "        for itemset in ndi_dict.values():\n",
    "            print(get_bounds(itemset, itemset_dict))\n",
    "    #Exception block in case of error\n",
    "    except Exception as exception:\n",
    "        print('exception')\n",
    "        # print the traceback of the exception\n",
    "        traceback.print_exc()\n",
    "        # list name of exception and any arguments\n",
    "        print('An exception of type {0} occurred.'.format(type(exception).__name__, exception.args)); \n",
    "main()\n"
   ]
  },
  {
   "cell_type": "markdown",
   "metadata": {},
   "source": [
    "# High Dimensional Data Analysis"
   ]
  },
  {
   "cell_type": "markdown",
   "metadata": {},
   "source": [
    "#### Hypersphere Volume: Plot the volume of a unit hypersphere as a function of dimension. Plot for d=1,⋯,50."
   ]
  },
  {
   "cell_type": "code",
   "execution_count": 3,
   "metadata": {},
   "outputs": [
    {
     "data": {
      "image/png": "[encoded data removed]",
      "text/plain": [
       "<Figure size 432x288 with 1 Axes>"
      ]
     },
     "metadata": {
      "needs_background": "light"
     },
     "output_type": "display_data"
    }
   ],
   "source": [
    "x = []\n",
    "y = []\n",
    "for dimension in range(1,51):\n",
    "    d = float(dimension)\n",
    "    volume = math.pi**(d/2)/math.gamma(d/2 +1)\n",
    "    x.append(d)\n",
    "    y.append(volume)\n",
    "    \n",
    "plt.plot(x,y, color='g')\n",
    "plt.title('Volume of a unit hypersphere as a function of dimension')\n",
    "plt.xlabel('dimension')\n",
    "plt.ylabel('volume')\n",
    "plt.show()"
   ]
  },
  {
   "cell_type": "markdown",
   "metadata": {},
   "source": [
    "#### Hypersphere Radius: What value of radius would one need to maintain a hypersphere volume of 1 with increasing d. Plot this value for d=1,⋯,100."
   ]
  },
  {
   "cell_type": "code",
   "execution_count": 6,
   "metadata": {},
   "outputs": [
    {
     "data": {
      "image/png": "[encoded data removed]",
      "text/plain": [
       "<Figure size 432x288 with 1 Axes>"
      ]
     },
     "metadata": {
      "needs_background": "light"
     },
     "output_type": "display_data"
    }
   ],
   "source": [
    "x = []\n",
    "y = []\n",
    "dimension = 1\n",
    "\n",
    "for dimension in range(1,101):\n",
    "    d = float(dimension)\n",
    "    volume = math.pi**(d/2)/math.gamma(d/2 +1)\n",
    "    v = float(volume)\n",
    "    r = (1/v)**(1/d)\n",
    "    x.append(d)\n",
    "    y.append(r)\n",
    "    \n",
    "plt.plot(x,y, color = 'r')\n",
    "plt.title('Value of radius to maintain a hypersphere volume of 1')\n",
    "plt.xlabel('dimension')\n",
    "plt.ylabel('radius')\n",
    "plt.show()"
   ]
  },
  {
   "cell_type": "markdown",
   "metadata": {},
   "source": [
    "#### Nearest Neighbors: Assume we have a unit hypercube centered at (0.5,⋯,0.5). Generate n=10000 uniformly random points in d dimensions, in the range (0,1) in each dimension. Find the ratio of the nearest and farthest point from the center of the space. Also store the actual distance of the nearest dn and farthest df points from the center. Plot these value for d=1,⋯,100."
   ]
  },
  {
   "cell_type": "code",
   "execution_count": 32,
   "metadata": {},
   "outputs": [
    {
     "data": {
      "text/html": [
       "<div>\n",
       "<style scoped>\n",
       "    .dataframe tbody tr th:only-of-type {\n",
       "        vertical-align: middle;\n",
       "    }\n",
       "\n",
       "    .dataframe tbody tr th {\n",
       "        vertical-align: top;\n",
       "    }\n",
       "\n",
       "    .dataframe thead th {\n",
       "        text-align: right;\n",
       "    }\n",
       "</style>\n",
       "<table border=\"1\" class=\"dataframe\">\n",
       "  <thead>\n",
       "    <tr style=\"text-align: right;\">\n",
       "      <th></th>\n",
       "      <th>Dimensions</th>\n",
       "      <th>Furthest</th>\n",
       "      <th>Closest</th>\n",
       "      <th>Ratio</th>\n",
       "    </tr>\n",
       "  </thead>\n",
       "  <tbody>\n",
       "    <tr>\n",
       "      <th>0</th>\n",
       "      <td>100</td>\n",
       "      <td>0.499809</td>\n",
       "      <td>0.000085</td>\n",
       "      <td>0.000170</td>\n",
       "    </tr>\n",
       "    <tr>\n",
       "      <th>1</th>\n",
       "      <td>100</td>\n",
       "      <td>0.702124</td>\n",
       "      <td>0.000873</td>\n",
       "      <td>0.001244</td>\n",
       "    </tr>\n",
       "    <tr>\n",
       "      <th>2</th>\n",
       "      <td>100</td>\n",
       "      <td>0.837244</td>\n",
       "      <td>0.027485</td>\n",
       "      <td>0.032828</td>\n",
       "    </tr>\n",
       "    <tr>\n",
       "      <th>3</th>\n",
       "      <td>100</td>\n",
       "      <td>0.947398</td>\n",
       "      <td>0.066909</td>\n",
       "      <td>0.070624</td>\n",
       "    </tr>\n",
       "    <tr>\n",
       "      <th>4</th>\n",
       "      <td>100</td>\n",
       "      <td>1.037774</td>\n",
       "      <td>0.096459</td>\n",
       "      <td>0.092948</td>\n",
       "    </tr>\n",
       "    <tr>\n",
       "      <th>...</th>\n",
       "      <td>...</td>\n",
       "      <td>...</td>\n",
       "      <td>...</td>\n",
       "      <td>...</td>\n",
       "    </tr>\n",
       "    <tr>\n",
       "      <th>95</th>\n",
       "      <td>100</td>\n",
       "      <td>3.305964</td>\n",
       "      <td>2.349560</td>\n",
       "      <td>0.710703</td>\n",
       "    </tr>\n",
       "    <tr>\n",
       "      <th>96</th>\n",
       "      <td>100</td>\n",
       "      <td>3.303192</td>\n",
       "      <td>2.337848</td>\n",
       "      <td>0.707754</td>\n",
       "    </tr>\n",
       "    <tr>\n",
       "      <th>97</th>\n",
       "      <td>100</td>\n",
       "      <td>3.326350</td>\n",
       "      <td>2.357955</td>\n",
       "      <td>0.708872</td>\n",
       "    </tr>\n",
       "    <tr>\n",
       "      <th>98</th>\n",
       "      <td>100</td>\n",
       "      <td>3.348905</td>\n",
       "      <td>2.371720</td>\n",
       "      <td>0.708208</td>\n",
       "    </tr>\n",
       "    <tr>\n",
       "      <th>99</th>\n",
       "      <td>100</td>\n",
       "      <td>3.328616</td>\n",
       "      <td>2.396149</td>\n",
       "      <td>0.719863</td>\n",
       "    </tr>\n",
       "  </tbody>\n",
       "</table>\n",
       "<p>100 rows × 4 columns</p>\n",
       "</div>"
      ],
      "text/plain": [
       "    Dimensions  Furthest   Closest     Ratio\n",
       "0          100  0.499809  0.000085  0.000170\n",
       "1          100  0.702124  0.000873  0.001244\n",
       "2          100  0.837244  0.027485  0.032828\n",
       "3          100  0.947398  0.066909  0.070624\n",
       "4          100  1.037774  0.096459  0.092948\n",
       "..         ...       ...       ...       ...\n",
       "95         100  3.305964  2.349560  0.710703\n",
       "96         100  3.303192  2.337848  0.707754\n",
       "97         100  3.326350  2.357955  0.708872\n",
       "98         100  3.348905  2.371720  0.708208\n",
       "99         100  3.328616  2.396149  0.719863\n",
       "\n",
       "[100 rows x 4 columns]"
      ]
     },
     "execution_count": 32,
     "metadata": {},
     "output_type": "execute_result"
    }
   ],
   "source": [
    "#Worked with Sam on this one as well as using the resource listed below\n",
    "#Comes from #1 https://mc-stan.org/users/documentation/case-studies/curse-dims-python.html\n",
    "def euclidean_length(x):\n",
    "    return np.linalg.norm(x)\n",
    "\n",
    "#Function for center of hypercube\n",
    "def get_center(d):\n",
    "    center = []\n",
    "    for val in range(d):\n",
    "        center.append(.5)\n",
    "    return np.array(center)\n",
    "\n",
    "point_dict = {} #Empty dict for points\n",
    "#Arrays of values for each dimension\n",
    "for d in range(1,101):\n",
    "    dim_points = []\n",
    "    for dim in range(1, d+1):\n",
    "        dim_points.append(np.random.uniform(0,1,10000))\n",
    "    point_dict[d] = zip(*dim_points)\n",
    "    \n",
    "distances = {} #Empty dict for distances\n",
    "#Looping through to get all distances for the 100 dimensions\n",
    "for dimension in point_dict.keys():\n",
    "    distance_list = []\n",
    "    center = get_center(dimension)\n",
    "    for point in point_dict[dimension]:\n",
    "        distance = euclidean_length(point-center)\n",
    "        distance_list.append(distance)\n",
    "    distances[dimension] = distance_list\n",
    "    \n",
    "#Create dataframe to hold the distances dict\n",
    "distance_df = pd.DataFrame(distances)\n",
    "\n",
    "\n",
    "maxdist = [] #Empty list for max distances\n",
    "mindist = [] #Empty list for min distances\n",
    "ratios = [] #Empty list for ratios\n",
    "dimensions = []\n",
    "\n",
    "for dimension in range(1,101):\n",
    "    maxdist.append(distance_df[dimension].max())\n",
    "    mindist.append(distance_df[dimension].min())\n",
    "    ratios.append(distance_df[dimension].min()/distance_df[dimension].max())\n",
    "    dimensions.append(dimension)\n",
    "    \n",
    "sum_df = pd.DataFrame({'Dimensions': dimension, 'Furthest': maxdist, 'Closest': mindist, 'Ratio': ratios})\n",
    "sum_df"
   ]
  },
  {
   "cell_type": "code",
   "execution_count": 33,
   "metadata": {},
   "outputs": [
    {
     "data": {
      "image/png": "[encoded data removed]",
      "text/plain": [
       "<Figure size 432x288 with 1 Axes>"
      ]
     },
     "metadata": {
      "needs_background": "light"
     },
     "output_type": "display_data"
    }
   ],
   "source": [
    "#Plotting the min and max distances for unit hypercube\n",
    "plt.plot(dimensions, maxdist, label = 'Max Distance')\n",
    "plt.plot(dimensions, mindist, label = 'Min Distance')\n",
    "plt.xlabel('dimension')\n",
    "plt.ylabel('distance')\n",
    "plt.title('Closest and Farthest Points for Unit Hypercube')\n",
    "plt.legend()\n",
    "plt.show()"
   ]
  },
  {
   "cell_type": "markdown",
   "metadata": {},
   "source": [
    "#### Fraction of Volume: Assume we have a hypercube of edge length l=2 centered at the origin (0,0,⋯,0). Generate n=10,000 points uniformly at random for increasing dimensionality d=1,⋯,100. Now answer the following questions:\n"
   ]
  },
  {
   "cell_type": "code",
   "execution_count": 17,
   "metadata": {},
   "outputs": [],
   "source": [
    "#Torrey gave me https://mc-stan.org/users/documentation/case-studies/curse-dims-python.html to go off of\n",
    "fraction = {}\n",
    "\n",
    "for d in range(1,101):\n",
    "    pointsl2 = np.random.uniform(-1,1,size=(10000,d))\n",
    "    dist = cdist(pointsl2, np.expand_dims(np.zeros(d),0), metric = 'euclidean')\n",
    "    p = np.sum(dist < 1)/10000\n",
    "    fraction[d]= p"
   ]
  },
  {
   "cell_type": "markdown",
   "metadata": {},
   "source": [
    "* Plot the fraction of points that lie inside the largest hypersphere that can be inscribed inside the hypercube with increasing d. After how many dimensions does the fraction go to essentially zero?"
   ]
  },
  {
   "cell_type": "code",
   "execution_count": 21,
   "metadata": {},
   "outputs": [
    {
     "data": {
      "image/png": "[encoded data removed]",
      "text/plain": [
       "<Figure size 432x288 with 1 Axes>"
      ]
     },
     "metadata": {
      "needs_background": "light"
     },
     "output_type": "display_data"
    }
   ],
   "source": [
    "#Plotting\n",
    "distsort = sorted(fraction.items())\n",
    "\n",
    "x,y = zip(*distsort)\n",
    "\n",
    "plt.plot(x,y, color = 'r')\n",
    "plt.xlabel('dimension')\n",
    "plt.ylabel('fraction of points')\n",
    "plt.title('Fraction of points within largest Hypersphere')\n",
    "plt.show()"
   ]
  },
  {
   "cell_type": "markdown",
   "metadata": {},
   "source": [
    "* Plot the fraction of points in the thin shell of width ϵ=0.01 inside the hypercube (i.e., the difference between the outer hypercube and inner hypercube, or the thin shell along the boundaries). What is the trend that you see? After how many dimensions does the fraction of volume in the thin shell go to 100% (use binary search or increase the dimensionality in steps of 10 to answer this. You may use maximum dimensions of up to 2000, and you may use a threshold of 0.0001 to count the volume as essentially being 1 in the shell, i.e., a volume of 0.9999 can be taken to be equal to 1 for finding the smallest dimension at which this happens)."
   ]
  },
  {
   "cell_type": "code",
   "execution_count": 38,
   "metadata": {},
   "outputs": [
    {
     "name": "stdout",
     "output_type": "stream",
     "text": [
      "Dimension where Proportion >= 0.9999: 917\n"
     ]
    },
    {
     "data": {
      "image/png": "[encoded data removed]",
      "text/plain": [
       "<Figure size 432x288 with 1 Axes>"
      ]
     },
     "metadata": {
      "needs_background": "light"
     },
     "output_type": "display_data"
    }
   ],
   "source": [
    "#Worked with Sam and used the book Data Mining and Machine Learning pgs171-172\n",
    "fractions = [] #Empty list to hold fractions\n",
    "dimensions = [] #Empty list to hold dimensions\n",
    "for dimension in range(1,2000): #Used the max 2000\n",
    "    fraction = 1-((0.99)**dimension)\n",
    "    dimensions.append(dimension)\n",
    "    fractions.append(fraction)\n",
    "    if fraction >= 0.9999:\n",
    "        print('Dimension where Proportion >= 0.9999: {}'.format(dimension))\n",
    "        break\n",
    "x = dimensions\n",
    "y = fractions\n",
    "plt.plot(x,y)\n",
    "plt.xlabel('Dimensions')\n",
    "plt.ylabel('Proportion of points')\n",
    "plt.title('Proportion of Points that are Inside Shell Width 0.01')\n",
    "plt.show()\n"
   ]
  },
  {
   "cell_type": "markdown",
   "metadata": {},
   "source": [
    "#### Diagonals in High Dimensions\n",
    "\n",
    "Your goal is the compute the empirical probability mass function (EPMF) for the random variable X that represents the angle (in degrees) between any two diagonals in high dimensions.\n",
    "\n",
    "Assume that there are d primary dimensions (the standard axes in cartesian coordinates), with each of them ranging from -1 to 1. There are 2d additional half-diagonals in this space, one for each corner of the d-dimensional hypercube.\n",
    "\n",
    "Write a script that randomly generates n=100000 pairs of half-diagonals in the d-dimensional hypercube, and computes the angle between them (in degrees).\n",
    "\n",
    "Plot the EPMF for three different values of d, as follows d=10,100,1000. What is the min, max, value range, mean and variance of X for each value of d?\n",
    "\n",
    "What would you have expected to have happened analytically? In other words, derive formulas for what should happen to angle between half-diagonals as d→∞. Does the EPMF conform to this trend? Explain why? or why not?\n",
    "\n",
    "What is the expected number of occurrences of a given angle θ between two half-diagonals, as a function of d (the dimensionality) and n (the sample size)?"
   ]
  },
  {
   "cell_type": "code",
   "execution_count": 49,
   "metadata": {},
   "outputs": [],
   "source": [
    "#This was in the Slack section\n",
    "def compute_angle(point1, point2):\n",
    "    return np.dot(point1, point2)/(np.linalg.norm(point1)*np.linalg.norm(point2))\n",
    "\n",
    "def generate_all_angles(dimensions, pairs):\n",
    "    results = np.zeros(pairs)\n",
    "    for i in range(pairs):\n",
    "        points = np.random.rand(2, dimensions)\n",
    "        points[points<=0.5] = -1\n",
    "        points[points>0.5] = 1\n",
    "        results[i] = compute_angle(points[0], points[1])\n",
    "    return results\n"
   ]
  },
  {
   "cell_type": "code",
   "execution_count": 53,
   "metadata": {},
   "outputs": [
    {
     "data": {
      "image/png": "[encoded data removed]",
      "text/plain": [
       "<Figure size 432x288 with 1 Axes>"
      ]
     },
     "metadata": {
      "needs_background": "light"
     },
     "output_type": "display_data"
    },
    {
     "name": "stdout",
     "output_type": "stream",
     "text": [
      "DescribeResult(nobs=100000, minmax=(-0.9999999999999998, 0.9999999999999998), mean=-0.0012659999999999998, variance=0.09947499199391992, skewness=0.0001773551848068776, kurtosis=-0.18847321429446628)\n"
     ]
    }
   ],
   "source": [
    "#Basing this off of link sent. It's ecdf instead of epmf \n",
    "array_angles = generate_all_angles(10, 100000)\n",
    "ecdf10 = ECDF(array_angles)\n",
    "pyplot.plot(ecdf10.x, ecdf10.y)\n",
    "pyplot.xlabel('Angle')\n",
    "pyplot.ylabel('Cumulative Probability')\n",
    "pyplot.title('Probability of Angle Between Diagnols where d=10')\n",
    "pyplot.show()\n",
    "print(stats.describe(array_angles))"
   ]
  },
  {
   "cell_type": "code",
   "execution_count": 55,
   "metadata": {},
   "outputs": [
    {
     "data": {
      "image/png": "[encoded data removed]",
      "text/plain": [
       "<Figure size 432x288 with 1 Axes>"
      ]
     },
     "metadata": {
      "needs_background": "light"
     },
     "output_type": "display_data"
    },
    {
     "name": "stdout",
     "output_type": "stream",
     "text": [
      "DescribeResult(nobs=100000, minmax=(-0.42, 0.42), mean=0.0002592000000000002, variance=0.00997965661192612, skewness=0.0005075146929483621, kurtosis=-0.03230950795427967)\n"
     ]
    }
   ],
   "source": [
    "#Basing this off of link sent. It's ecdf instead of epmf \n",
    "array_angles = generate_all_angles(100, 100000)\n",
    "ecdf100 = ECDF(array_angles)\n",
    "pyplot.plot(ecdf100.x, ecdf100.y)\n",
    "pyplot.xlabel('Angle')\n",
    "pyplot.ylabel('Cumulative Probability')\n",
    "pyplot.title('Probability of Angle Between Diagnols where d=100')\n",
    "pyplot.show()\n",
    "print(stats.describe(array_angles))"
   ]
  },
  {
   "cell_type": "code",
   "execution_count": 56,
   "metadata": {},
   "outputs": [
    {
     "data": {
      "image/png": "[encoded data removed]",
      "text/plain": [
       "<Figure size 432x288 with 1 Axes>"
      ]
     },
     "metadata": {
      "needs_background": "light"
     },
     "output_type": "display_data"
    },
    {
     "name": "stdout",
     "output_type": "stream",
     "text": [
      "DescribeResult(nobs=100000, minmax=(-0.132, 0.148), mean=1.3979999999999988e-05, variance=0.0010022717072766727, skewness=0.01744474874008873, kurtosis=-0.0017271209221321193)\n"
     ]
    }
   ],
   "source": [
    "#Basing this off of link sent. It's ecdf instead of epmf \n",
    "array_angles = generate_all_angles(1000, 100000)\n",
    "ecdf1000 = ECDF(array_angles)\n",
    "pyplot.plot(ecdf1000.x, ecdf1000.y)\n",
    "pyplot.xlabel('Angle')\n",
    "pyplot.ylabel('Cumulative Probability')\n",
    "pyplot.title('Probability of Angle Between Diagnols where d=1000')\n",
    "pyplot.show()\n",
    "print(stats.describe(array_angles))"
   ]
  },
  {
   "cell_type": "markdown",
   "metadata": {},
   "source": [
    "# Complete the Following Exercises in Your Text"
   ]
  },
  {
   "cell_type": "markdown",
   "metadata": {},
   "source": [
    "## Exercise 3.1.1 "
   ]
  },
  {
   "cell_type": "code",
   "execution_count": 26,
   "metadata": {},
   "outputs": [
    {
     "name": "stdout",
     "output_type": "stream",
     "text": [
      "List 1 against List 2: 0.3333333333333333\n",
      "List 1 against List 3: 0.4\n",
      "List 2 against List 3: 0.16666666666666666\n"
     ]
    }
   ],
   "source": [
    "list1 = ['1', '2', '3', '4']\n",
    "list2 = ['2', '3', '5', '7']\n",
    "list3 = ['2','4','6']\n",
    "\n",
    "def jaccard_similarity(list1, list2):\n",
    "    intersection = len(list(set(list1).intersection(list2)))\n",
    "    union = (len(list1) + len(list2)) - intersection\n",
    "    return float(intersection) / union \n",
    "\n",
    "def main():\n",
    "    try:\n",
    "        print('List 1 against List 2: ' + str(jaccard_similarity(list1, list2)))\n",
    "        print('List 1 against List 3: ' + str(jaccard_similarity(list1, list3)))\n",
    "        print('List 2 against List 3: ' + str(jaccard_similarity(list2, list3)))\n",
    "    except Exception as exception:\n",
    "        print('exception')\n",
    "        # print the traceback of the exception\n",
    "        traceback.print_exc()\n",
    "        # list name of exception and any arguments\n",
    "        print('An exception of type {0} occurred.'.format(type(exception).__name__, exception.args));  \n",
    "main()  \n"
   ]
  },
  {
   "cell_type": "markdown",
   "metadata": {},
   "source": [
    "## Exercise 3.2.1"
   ]
  },
  {
   "cell_type": "code",
   "execution_count": 61,
   "metadata": {},
   "outputs": [
    {
     "name": "stdout",
     "output_type": "stream",
     "text": [
      "The most effective way to represent documents as sets, for the purpose of identifying lexically similar documents is to construct from the document the set of short strings that appear within it.\n",
      "The first 10 3-shingles are:\n",
      "1: [The]\n",
      "\n",
      "2: [he ]\n",
      "\n",
      "3: [e m]\n",
      "\n",
      "4: [ mo]\n",
      "\n",
      "5: [mos]\n",
      "\n",
      "6: [ost]\n",
      "\n",
      "7: [st ]\n",
      "\n",
      "8: [t e]\n",
      "\n",
      "9: [ ef]\n",
      "\n",
      "10: [eff]\n",
      "\n",
      "The first 10 3-shingled words are:\n",
      "1: ['The', 'most', 'effective']\n",
      "\n",
      "2: ['most', 'effective', 'way']\n",
      "\n",
      "3: ['effective', 'way', 'to']\n",
      "\n",
      "4: ['way', 'to', 'represent']\n",
      "\n",
      "5: ['to', 'represent', 'documents']\n",
      "\n",
      "6: ['represent', 'documents', 'as']\n",
      "\n",
      "7: ['documents', 'as', 'sets,']\n",
      "\n",
      "8: ['as', 'sets,', 'for']\n",
      "\n",
      "9: ['sets,', 'for', 'the']\n",
      "\n",
      "10: ['for', 'the', 'purpose']\n",
      "\n"
     ]
    }
   ],
   "source": [
    "#What are the first ten 3-shingles in the first sentence of Section 3.2?\n",
    "def main():\n",
    "    #Creating variable for the first sentence in 3.2\n",
    "    s = 'The most effective way to represent documents as sets, for the purpose of identifying lexically similar documents is to construct from the document the set of short strings that appear within it.'\n",
    "    k = 3 #Amount of shingles called for in exercise\n",
    "    try: \n",
    "        print(s) #Print just the sentence to start. That way output shows complete \"picture\"\n",
    "        s_list = [s[i:i + k] for i in range(0,10)] #Creating a list that will work through each letter\n",
    "        print('The first 10 3-shingles are:')\n",
    "        for i in range(0, len(s_list)):\n",
    "            print(str(i+1) + ': [' + s_list[i] + ']\\n') #This prints out the list of 10 3-shingles by letter\n",
    "        #If we want to look at words we can repeat the steps but focus on words\n",
    "        w_split = s.split() #Need to split the sentence by word\n",
    "        w_list = [w_split[i:i + k] for i in range(0,10)] #Creating a list that will work through each word\n",
    "        print('The first 10 3-shingled words are:')\n",
    "        for i in range(0, len(w_list)):\n",
    "            print(str(i+1) + ': ' + str(w_list[i]) + '\\n') #This prints out the list of 10 3-shingles by word\n",
    "    #Exception block to catch any issues\n",
    "    except Exception as exception:\n",
    "        print('exception')\n",
    "        # print the traceback of the exception\n",
    "        traceback.print_exc()\n",
    "        # list name of exception and any arguments\n",
    "        print('An exception of type {0} occurred.'.format(type(exception).__name__, exception.args));  \n",
    "main()\n",
    "        "
   ]
  },
  {
   "cell_type": "markdown",
   "metadata": {},
   "source": [
    "## Exercise 3.3.3"
   ]
  },
  {
   "cell_type": "code",
   "execution_count": 21,
   "metadata": {},
   "outputs": [
    {
     "name": "stdout",
     "output_type": "stream",
     "text": [
      "Set1:(0, 0, 1, 0, 0, 1)\n",
      "Set2:(1, 1, 0, 0, 0, 0)\n",
      "Set3:(0, 0, 0, 1, 1, 0)\n",
      "Set4:(1, 0, 1, 0, 1, 0)\n",
      "Hash List 1:[1, 3, 5, 1, 3, 5]\n",
      "Hash List 2:[1, 4, 1, 4, 1, 4]\n",
      "Hash List 3:[1, 0, 5, 4, 3, 2]\n",
      "\n",
      "Matrix of Element, Sets, and Hashes:\n",
      "  element set1 set2 set3 set4 h1 h2 h3\n",
      "0       0    0    1    0    1  1  1  1\n",
      "1       1    0    1    0    0  3  4  0\n",
      "2       2    1    0    0    1  5  1  5\n",
      "3       3    0    0    1    0  1  4  4\n",
      "4       4    0    0    1    1  3  1  3\n",
      "5       5    1    0    0    0  5  4  2\n",
      "\n",
      "(a) Compute the minhash signature for each column using three hash functions.\n",
      "\n",
      "Row Set Data: [[0, 1, 0, 1], [0, 1, 0, 0], [1, 0, 0, 1], [0, 0, 1, 0], [0, 0, 1, 1], [1, 0, 0, 0]]\n",
      "Minhash Data:  [[5, 1, 1, 1], [2, 2, 2, 2], [0, 1, 4, 0]]\n",
      "\n",
      "(b) Which of these hash functions are true permutations?\n",
      "\n",
      "Hash 1 is not a true permutation of element list\n",
      "Hash 2 is not a true permutation of element list\n",
      "Hash 3 is a true permutation of element list\n",
      "\n",
      "(c) How close are the estimated Jaccard similirities for the six pairs of columns to the true Jaccard similarities?\n",
      "\n",
      "S1 and S2 = 0.2\n",
      "S1 and S3 = 0.2\n",
      "S1 and S4 = 0.2\n",
      "S2 and S3 = 0.2\n",
      "S2 and S4 = 0.2\n",
      "S3 and S4 = 0.2\n"
     ]
    }
   ],
   "source": [
    "#Use Fig. 3.6 matrix to solve the following:\n",
    "#Worked with Teresa from other section on this\n",
    "#Create variable for the element list and different sets\n",
    "element = [0,1,2,3,4,5]\n",
    "set1 = (0,0,1,0,0,1)\n",
    "set2 = (1,1,0,0,0,0)\n",
    "set3 = (0,0,0,1,1,0)\n",
    "set4 = (1,0,1,0,1,0)\n",
    "\n",
    "#Creating functions for each formula given (had help figuring out how to spell the formula out)\n",
    "def h1(x):\n",
    "    return ((2 * x)+1) % 6\n",
    "\n",
    "def h2(x):\n",
    "    return ((3 * x) +2) % 6\n",
    "\n",
    "def h3(x):\n",
    "    return ((5 * x) + 2) % 6\n",
    "\n",
    "#Creating hashes based off of element list using each of the 3 hash functions\n",
    "def hash_1(elem_list):\n",
    "    #List to hold hash results\n",
    "    hash_list = []\n",
    "    #Computing hash and adding to empty list\n",
    "    for i in elem_list:\n",
    "        hash_list.append(((2 * i) +1) % 6)\n",
    "    return hash_list\n",
    "\n",
    "#Second hash function \n",
    "def hash_2(elem_list):\n",
    "    #List to hold hash results\n",
    "    hash_list = []\n",
    "    #Computing hash and adding to list\n",
    "    for i in elem_list:\n",
    "        hash_list.append(((3 * i) +1) % 6)\n",
    "    return hash_list\n",
    "\n",
    "#Third hash function    \n",
    "def hash_3(elem_list):\n",
    "    #List to hold hash results\n",
    "    hash_list = []\n",
    "    #Computing hash and adding to list\n",
    "    for i in elem_list:\n",
    "        hash_list.append(((5 * i) +1) % 6)\n",
    "    return hash_list\n",
    "       \n",
    "#Function to create a new matrix to hold the element values, sets, and hash lists\n",
    "def new_matrix(hash_list_1, hash_list_2, hash_list_3):\n",
    "    #Create new dataframe to hold full matrix, with column headers\n",
    "    matrix = pd.DataFrame(columns=['element', 'set1', 'set2', 'set3', 'set4', 'h1', 'h2', 'h3'])\n",
    "    #loop through elements, construct full matrix\n",
    "    for i in range(0, len(element)):\n",
    "        #Fill rows in dataframe\n",
    "        matrix.loc[i] = [element[i], set1[i], set2[i], set3[i], set4[i], hash_list_1[i], hash_list_2[i], hash_list_3[i]]\n",
    "    # list full matrix\n",
    "    print('\\nMatrix of Element, Sets, and Hashes:\\n' + str(matrix))\n",
    "    return matrix\n",
    "\n",
    "#Function to help determine permutation (had help from a classmate on this one)\n",
    "def compare_hash(hash_name, hash_list):\n",
    "    hash_list.sort()\n",
    "    element.sort()\n",
    "    if hash_list == element:\n",
    "        print(hash_name + 'is a true permutation of element list')\n",
    "    else:\n",
    "        print(hash_name + 'is not a true permutation of element list')\n",
    "        \n",
    "#Function to do jaccard similarity    \n",
    "def jaccard_similarity(x, y):\n",
    "    #Determine intersection\n",
    "    intersection = len(list(set(x).intersection(y)))\n",
    "    #Determine union\n",
    "    union = (len(x) + len(y)) - intersection\n",
    "    #Calculates and returns similarity\n",
    "    return float(intersection) / union\n",
    "\n",
    "def set_data():\n",
    "    #Create new empty matrix\n",
    "    matrix = []\n",
    "    #Loop to go through sets and add to matrix\n",
    "    for i in range(0, len(set1)):\n",
    "        matrix.append([set1[i], set2[i], set3[i], set4[i]])\n",
    "    print('Row Set Data: ' + str(matrix))\n",
    "    return matrix\n",
    "\n",
    "#Create signature matrix    \n",
    "def minhash(data, hashfunc):\n",
    "    rows = len(data)\n",
    "    cols = len(data[0])\n",
    "    sigrows = len(hashfunc)\n",
    "    #Signature matrix\n",
    "    sigmatrix = []\n",
    "    #Loop to fill rows into signature matrix\n",
    "    for i in range(sigrows):\n",
    "        sigmatrix.append([sys.maxsize] * cols)\n",
    "    #Loop to fill columns into signature matrix \n",
    "    for r in range(rows):\n",
    "        hashvalue = list(map(lambda x: x(r), hashfunc))\n",
    "        for c in range(cols):\n",
    "            if data[r][c] == 0:\n",
    "                continue\n",
    "            #Looking at sigmatrix and if it's higher than hash value, it gets replaced with hash value\n",
    "            for i in range (sigrows):\n",
    "                if sigmatrix[i][c] > hashvalue[i]:\n",
    "                    sigmatrix[i][c] = hashvalue[i]\n",
    "    return sigmatrix\n",
    "\n",
    "#Function to walk through results\n",
    "def main():\n",
    "    try: \n",
    "        print('Set1:' + str(set1))\n",
    "        print('Set2:' + str(set2))\n",
    "        print('Set3:' + str(set3))\n",
    "        print('Set4:' + str(set4))\n",
    "        \n",
    "        hash_list_1 = hash_1(element)\n",
    "        hash_list_2 = hash_2(element)\n",
    "        hash_list_3 = hash_3(element)\n",
    "        \n",
    "        print('Hash List 1:' + str(hash_list_1))\n",
    "        print('Hash List 2:' + str(hash_list_2))\n",
    "        print('Hash List 3:' + str(hash_list_3))\n",
    "        \n",
    "        new_matrix(hash_list_1, hash_list_2, hash_list_3)\n",
    "        \n",
    "        print('\\n(a) Compute the minhash signature for each column using three hash functions.\\n')\n",
    "        m_hash = minhash(set_data(), [h1, h2, h3])\n",
    "        print('Minhash Data: ', str(m_hash))\n",
    "        \n",
    "        print('\\n(b) Which of these hash functions are true permutations?\\n')\n",
    "        compare_hash('Hash 1 ', hash_list_1)\n",
    "        compare_hash('Hash 2 ', hash_list_2)\n",
    "        compare_hash('Hash 3 ', hash_list_3)\n",
    "        \n",
    "        print('\\n(c) How close are the estimated Jaccard similirities for the six pairs of columns to the true Jaccard similarities?\\n')\n",
    "        print('S1 and S2 = ' + str(jaccard_similarity(set1, set2)))\n",
    "        print('S1 and S3 = ' + str(jaccard_similarity(set1, set3)))\n",
    "        print('S1 and S4 = ' + str(jaccard_similarity(set1, set4)))\n",
    "        print('S2 and S3 = ' + str(jaccard_similarity(set2, set3)))\n",
    "        print('S2 and S4 = ' + str(jaccard_similarity(set2, set4)))\n",
    "        print('S3 and S4 = ' + str(jaccard_similarity(set3, set4)))\n",
    "    #Exception block in case I hit any errors    \n",
    "    except Exception as exception:\n",
    "        print('exception')\n",
    "        # print the traceback of the exception\n",
    "        traceback.print_exc()\n",
    "        # list name of exception and any arguments\n",
    "        print('An exception of type {0} occurred.  Arguments:\\n{1!r}'.format(type(exception).__name__, exception.args));   \n",
    "        \n",
    "    \n",
    "main()\n"
   ]
  },
  {
   "cell_type": "markdown",
   "metadata": {},
   "source": [
    "## Exercise 3.4.1"
   ]
  },
  {
   "cell_type": "code",
   "execution_count": 48,
   "metadata": {},
   "outputs": [
    {
     "name": "stdout",
     "output_type": "stream",
     "text": [
      "R = 3, B = 10\n"
     ]
    },
    {
     "data": {
      "image/png": "[encoded data removed]",
      "text/plain": [
       "<Figure size 432x288 with 1 Axes>"
      ]
     },
     "metadata": {
      "needs_background": "light"
     },
     "output_type": "display_data"
    },
    {
     "name": "stdout",
     "output_type": "stream",
     "text": [
      "R = 6, B = 20\n"
     ]
    },
    {
     "data": {
      "image/png": "[encoded data removed]",
      "text/plain": [
       "<Figure size 432x288 with 1 Axes>"
      ]
     },
     "metadata": {
      "needs_background": "light"
     },
     "output_type": "display_data"
    },
    {
     "name": "stdout",
     "output_type": "stream",
     "text": [
      "R = 5, B = 50\n"
     ]
    },
    {
     "data": {
      "image/png": "[encoded data removed]",
      "text/plain": [
       "<Figure size 432x288 with 1 Axes>"
      ]
     },
     "metadata": {
      "needs_background": "light"
     },
     "output_type": "display_data"
    }
   ],
   "source": [
    "#Evaluate the S-curve .... for the following values of r and b:\n",
    "\n",
    "#Going to create variables from the r and b values\n",
    "r1 = 3\n",
    "b1 = 10\n",
    "r2 = 6\n",
    "b2 = 20\n",
    "r3 = 5\n",
    "b3 = 50\n",
    "\n",
    "#creating a list for s\n",
    "s_values = [0.1, 0.2, 0.3, 0.4, 0.5, 0.6, 0.7, 0.8, 0.9]\n",
    "\n",
    "def compute_s_curve(row, band):\n",
    "    print('R = {}, B = {}'.format(row, band))\n",
    "    s_curve = []\n",
    "    for i in range(0, len(s_values)):\n",
    "        s_curve.append(1-(1-s_values[i]**row)**band)\n",
    "    return s_curve\n",
    "    \n",
    "def plot_s_curve(s_curve_list, row_name, band_name):\n",
    "    # x axis values \n",
    "    x = s_values \n",
    "    # y axis values\n",
    "    y = s_curve_list\n",
    "    \n",
    "    # plotting the points\n",
    "    plt.plot(x,y)\n",
    "    \n",
    "    #axis titles\n",
    "    plt.xlabel('S - Values') \n",
    "    plt.ylabel('S - Curve')\n",
    "    plt.title('Plotting S-Curve - R =  ' + row_name + ', B = ' + band_name) \n",
    "    # show the plot \n",
    "    plt.show() \n",
    "    \n",
    "# main function to obtain list of first 10 3-shingles in the sentence\n",
    "def main():\n",
    "    # try block for execution\n",
    "    try:\n",
    "        # call to compute and plot s-curve for all three sets of rows and bands\n",
    "        plot_s_curve(compute_s_curve(r1, b1), str(r1), str(b1))\n",
    "        plot_s_curve(compute_s_curve(r2, b2), str(r2), str(b2))\n",
    "        plot_s_curve(compute_s_curve(r3, b3), str(r3), str(b3))\n",
    "    # exception block to catch any exceptions during execution\n",
    "    except Exception as exception:\n",
    "        print('exception')\n",
    "        # print the traceback of the exception\n",
    "        traceback.print_exc()\n",
    "        # list name of exception and any arguments\n",
    "        print('An exception of type {0} occurred.'.format(type(exception).__name__, exception.args));    \n",
    "\n",
    "\n",
    "main()"
   ]
  },
  {
   "cell_type": "code",
   "execution_count": null,
   "metadata": {},
   "outputs": [],
   "source": []
  }
 ],
 "metadata": {
  "kernelspec": {
   "display_name": "Python 3",
   "language": "python",
   "name": "python3"
  },
  "language_info": {
   "codemirror_mode": {
    "name": "ipython",
    "version": 3
   },
   "file_extension": ".py",
   "mimetype": "text/x-python",
   "name": "python",
   "nbconvert_exporter": "python",
   "pygments_lexer": "ipython3",
   "version": "3.7.6"
  }
 },
 "nbformat": 4,
 "nbformat_minor": 4
}
